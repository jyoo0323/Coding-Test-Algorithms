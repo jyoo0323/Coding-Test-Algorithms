{
 "cells": [
  {
   "cell_type": "code",
   "execution_count": 12,
   "metadata": {},
   "outputs": [],
   "source": [
    "import numpy as np\n",
    "import pandas as pd\n",
    "from functools import reduce\n",
    "import matplotlib.pyplot as plt\n",
    "import numpy.linalg \n",
    "from itertools import combinations"
   ]
  },
  {
   "cell_type": "code",
   "execution_count": 30,
   "metadata": {},
   "outputs": [
    {
     "name": "stdout",
     "output_type": "stream",
     "text": [
      "[0, 4, 3, 1, 1, 3, 2, 4]\n"
     ]
    },
    {
     "data": {
      "text/plain": [
       "4"
      ]
     },
     "execution_count": 30,
     "metadata": {},
     "output_type": "execute_result"
    }
   ],
   "source": [
    "#Q1 from 2019 kakao winter internship\n",
    "\n",
    "def solution(board, moves):\n",
    "    answer = 0\n",
    "    result = [0]\n",
    "    \n",
    "    for i in range(len(moves)):\n",
    "        k = moves[i] - 1\n",
    "        for j in range(len(board)):\n",
    "            if board[j][k] != 0:\n",
    "                result.append(board[j][k])\n",
    "                board[j][k] = 0\n",
    "                break\n",
    "    \n",
    "    chances = len(result)\n",
    "    print(result)\n",
    "    \n",
    "    pos = 1\n",
    "    while chances != 0:\n",
    "        if pos >= len(result):\n",
    "            pos = pos - 1\n",
    "        if result[pos] == result[pos - 1]:\n",
    "            answer = answer + 2\n",
    "            del result[pos-1:pos+1]\n",
    "            pos = pos -1\n",
    "        else:\n",
    "            pos = pos + 1\n",
    "        chances = chances - 1\n",
    "        \n",
    "    return answer\n",
    "\n",
    "board = [[0,0,0,0,0],[0,0,1,0,3],[0,2,5,0,1],[4,2,4,4,2],[3,5,1,3,1]]\n",
    "moves = [1,5,3,5,1,2,1,4]\n",
    "\n",
    "solution(board, moves)"
   ]
  },
  {
   "cell_type": "code",
   "execution_count": 2,
   "metadata": {},
   "outputs": [
    {
     "name": "stdout",
     "output_type": "stream",
     "text": [
      "[[1,2,3],[2,1],[1,2,4,3],[2]]\n",
      "[[1, 2, 3], [2, 1], [1, 2, 4, 3], [2]]\n"
     ]
    },
    {
     "data": {
      "text/plain": [
       "[2, 1, 3, 4]"
      ]
     },
     "execution_count": 2,
     "metadata": {},
     "output_type": "execute_result"
    }
   ],
   "source": [
    "#Q2 from 2019 kakao winter intership\n",
    "\n",
    "def solution(s):\n",
    "    answer = []\n",
    "    cs = s.replace(\"{\",\"[\")\n",
    "    cs = cs.replace(\"}\",\"]\")\n",
    "    print(cs)\n",
    "    res = eval(cs)\n",
    "    print(res)\n",
    "    p = []\n",
    "    for i in range(len(res)):\n",
    "        length = len(res[i])\n",
    "        p.append(length)\n",
    "    \n",
    "    fres = []\n",
    "    \n",
    "    for j in range(1,len(p)+1):\n",
    "        for i in range(len(p)):\n",
    "            if p[i] == j:\n",
    "                fres.append(res[i])\n",
    "                p[i] = 0\n",
    "                \n",
    "    \n",
    "    for i in range(len(p)):\n",
    "        cand = []\n",
    "        for j in range(len(fres[i])):\n",
    "            if fres[i][j] not in answer:\n",
    "                cand.append(fres[i][j])\n",
    "        answer.append(max(cand))\n",
    "                \n",
    "\n",
    "    return answer\n",
    "\n",
    "s = \"{{1,2,3},{2,1},{1,2,4,3},{2}}\"\n",
    "solution(s)"
   ]
  },
  {
   "cell_type": "code",
   "execution_count": 56,
   "metadata": {},
   "outputs": [
    {
     "name": "stdout",
     "output_type": "stream",
     "text": [
      "lposx:  0  lposy:  1\n",
      "rposx:  2  rposy:  2\n",
      "lposx:  1  lposy:  1\n",
      "rposx:  2  rposy:  1\n"
     ]
    },
    {
     "data": {
      "text/plain": [
       "'LLRLLRLLRL'"
      ]
     },
     "execution_count": 56,
     "metadata": {},
     "output_type": "execute_result"
    }
   ],
   "source": [
    "#Kakao 2020 summer intership:\n",
    "\n",
    "def solution(numbers, hand):\n",
    "    answer = ''\n",
    "    l = \"L\"\n",
    "    r = \"R\"\n",
    "    lposx = 0\n",
    "    lposy = 0\n",
    "    \n",
    "    rposx = 2\n",
    "    rposy = 0\n",
    "    \n",
    "    for i in range(len(numbers)):\n",
    "        if numbers[i] in (1,4,7):\n",
    "            answer = answer + \"L\"\n",
    "            if numbers[i] == 1:\n",
    "                lposx = 0\n",
    "                lposy = 3\n",
    "            elif numbers[i] == 4:\n",
    "                lposx = 0\n",
    "                lposy = 2\n",
    "            else:\n",
    "                lposx = 0\n",
    "                lposy = 1\n",
    "        if numbers[i] in (3,6,9):\n",
    "            answer = answer+r\n",
    "            if numbers[i] == 3:\n",
    "                rposx = 2\n",
    "                rposy = 3\n",
    "            elif numbers[i] == 6:\n",
    "                rposx = 2\n",
    "                rposy = 2\n",
    "            else:\n",
    "                rposx = 2\n",
    "                rposy = 1\n",
    "        if numbers[i] == 2:\n",
    "            fposx = 1\n",
    "            fposy = 3\n",
    "            if (abs(fposx - lposx)+abs(fposy-lposy)) < (abs(fposx - rposx)+abs(fposy - rposy)):\n",
    "                answer = answer+l\n",
    "                lposx = 1\n",
    "                lposy = 3\n",
    "            elif (abs(fposx - lposx)+abs(fposy-lposy)) > (abs(fposx - rposx)+abs(fposy - rposy)):\n",
    "                answer = answer+r\n",
    "                rposx = 1\n",
    "                rposy = 3\n",
    "            else:\n",
    "                if hand == \"right\":\n",
    "                    answer = answer+r\n",
    "                    rposx = 1\n",
    "                    rposy = 3\n",
    "                else:\n",
    "                    answer = answer+l\n",
    "                    lposx = 1\n",
    "                    lposy = 3\n",
    "        if numbers[i] == 5:\n",
    "            fposx = 1\n",
    "            fposy = 2\n",
    "            if (abs(fposx - lposx)+abs(fposy-lposy)) < (abs(fposx - rposx)+abs(fposy - rposy)):\n",
    "                answer = answer+l\n",
    "                lposx = 1\n",
    "                lposy = 2\n",
    "            elif (abs(fposx - lposx)+abs(fposy-lposy)) > (abs(fposx - rposx)+abs(fposy - rposy)):\n",
    "                answer = answer+r\n",
    "                rposx = 1\n",
    "                rposy = 2\n",
    "            else:\n",
    "                if hand == \"right\":\n",
    "                    answer = answer+r\n",
    "                    rposx = 1\n",
    "                    rposy = 2\n",
    "                else:\n",
    "                    answer = answer+l\n",
    "                    lposx = 1\n",
    "                    lposy = 2\n",
    "        if numbers[i] == 8:\n",
    "            print(\"lposx: \", lposx, \" lposy: \", lposy)\n",
    "            print(\"rposx: \", rposx, \" rposy: \", rposy)\n",
    "            fposx = 1\n",
    "            fposy = 1\n",
    "            if (abs(fposx - lposx)+abs(fposy-lposy)) < (abs(fposx - rposx)+abs(fposy - rposy)):\n",
    "                answer = answer+l\n",
    "                lposx = 1\n",
    "                lposy = 1\n",
    "            elif (abs(fposx - lposx)+abs(fposy-lposy)) > (abs(fposx - rposx)+abs(fposy - rposy)):\n",
    "                answer = answer+r\n",
    "                rposx = 1\n",
    "                rposy = 1\n",
    "            else:\n",
    "                if hand == \"right\":\n",
    "                    answer = answer+r\n",
    "                    rposx = 1\n",
    "                    rposy = 1\n",
    "                else:\n",
    "                    answer = answer+l\n",
    "                    lposx = 1\n",
    "                    lposy = 1\n",
    "        if numbers[i] == 0:\n",
    "            fposx = 1\n",
    "            fposy = 0\n",
    "            print(\"lposx: \", lposx, \" lposy: \", lposy)\n",
    "            print(\"rposx: \", rposx, \" rposy: \", rposy)\n",
    "            if (abs(fposx - lposx)+abs(fposy-lposy)) < (abs(fposx - rposx)+abs(fposy - rposy)):\n",
    "                answer = answer+l\n",
    "                lposx = 1\n",
    "                lposy = 0\n",
    "            elif (abs(fposx - lposx)+abs(fposy-lposy)) > (abs(fposx - rposx)+abs(fposy - rposy)):\n",
    "                answer = answer+r\n",
    "                rposx = 1\n",
    "                rposy = 0\n",
    "            else:\n",
    "                if hand == \"right\":\n",
    "                    answer = answer+r\n",
    "                    rposx = 1\n",
    "                    rposy = 0\n",
    "                if hand == \"left\":\n",
    "                    answer = answer+l\n",
    "                    lposx = 1\n",
    "                    lposy = 0\n",
    "\n",
    "    return answer\n",
    "\n",
    "\n",
    "num = [1, 2, 3, 4, 5, 6, 7, 8, 9, 0]\n",
    "hand = \"right\"\n",
    "\n",
    "solution(num, hand)"
   ]
  },
  {
   "cell_type": "code",
   "execution_count": 54,
   "metadata": {},
   "outputs": [
    {
     "name": "stdout",
     "output_type": "stream",
     "text": [
      "[['-', '*', '+'], ['-', '+', '*'], ['+', '*', '-'], ['+', '-', '*'], ['*', '+', '-'], ['*', '-', '+']]\n"
     ]
    },
    {
     "data": {
      "text/plain": [
       "(133034000,\n",
       " [43147, 108846000, -3204340, 133034000, -83547, -37253],\n",
       " ['+', '-', '*'])"
      ]
     },
     "execution_count": 54,
     "metadata": {},
     "output_type": "execute_result"
    }
   ],
   "source": [
    "#카카오 2020 서머 인턴쉽 코딩 테스트 2번: 수식 최대화\n",
    "\n",
    "def solution(expression):\n",
    "    answer = 0\n",
    "    curloc = 0\n",
    "    comlist = []\n",
    "    opslist = []\n",
    "    ans = []\n",
    "\n",
    "    for i in range(len(expression)):\n",
    "        if expression[i] in [\"-\",\"+\",\"*\"]:\n",
    "            comlist.append(expression[curloc:i])\n",
    "            comlist.append(expression[i])\n",
    "            opslist.append(expression[i] )\n",
    "            curloc = i+1\n",
    "    comlist.append(expression[curloc:len(expression)])\n",
    "    oriclist = comlist[:]\n",
    "    opsans = []\n",
    "    \n",
    "    #for - > * > +\n",
    "    while \"-\" in comlist:\n",
    "        ind = comlist.index(\"-\")\n",
    "        comlist[ind - 1] = str(eval(comlist[ind-1]+comlist[ind]+comlist[ind+1]))\n",
    "        comlist = comlist[:ind]+comlist[ind+2:]\n",
    "    while \"*\" in comlist:\n",
    "        ind = comlist.index(\"*\")\n",
    "        comlist[ind - 1] = str(eval(comlist[ind-1]+comlist[ind]+comlist[ind+1]))\n",
    "        comlist = comlist[:ind]+comlist[ind+2:]\n",
    "    while \"+\" in comlist:\n",
    "        ind = comlist.index(\"+\")\n",
    "        comlist[ind - 1] = str(eval(comlist[ind-1]+comlist[ind]+comlist[ind+1]))\n",
    "        comlist = comlist[:ind]+comlist[ind+2:]\n",
    "    ans.append((int(comlist[0])))\n",
    "    opsans.append([\"-\",\"*\",\"+\"])\n",
    "\n",
    "    \n",
    "    #for - > + > *\n",
    "    comlist = oriclist[:]\n",
    "    while \"-\" in comlist:\n",
    "        ind = comlist.index(\"-\")\n",
    "        comlist[ind - 1] = str(eval(comlist[ind-1]+comlist[ind]+comlist[ind+1]))\n",
    "        comlist = comlist[:ind]+comlist[ind+2:]\n",
    "    while \"+\" in comlist:\n",
    "        ind = comlist.index(\"+\")\n",
    "        comlist[ind - 1] = str(eval(comlist[ind-1]+comlist[ind]+comlist[ind+1]))\n",
    "        comlist = comlist[:ind]+comlist[ind+2:]\n",
    "    while \"*\" in comlist:\n",
    "        ind = comlist.index(\"*\")\n",
    "        comlist[ind - 1] = str(eval(comlist[ind-1]+comlist[ind]+comlist[ind+1]))\n",
    "        comlist = comlist[:ind]+comlist[ind+2:]\n",
    "    ans.append((int(comlist[0])))\n",
    "    opsans.append([\"-\",\"+\",\"*\"])\n",
    "    \n",
    "    \n",
    "    #for + > * > -\n",
    "    comlist = oriclist[:]\n",
    "    while \"+\" in comlist:\n",
    "        ind = comlist.index(\"+\")\n",
    "        comlist[ind - 1] = str(eval(comlist[ind-1]+comlist[ind]+comlist[ind+1]))\n",
    "        comlist = comlist[:ind]+comlist[ind+2:]\n",
    "    while \"*\" in comlist:\n",
    "        ind = comlist.index(\"*\")\n",
    "        comlist[ind - 1] = str(eval(comlist[ind-1]+comlist[ind]+comlist[ind+1]))\n",
    "        comlist = comlist[:ind]+comlist[ind+2:]\n",
    "    while \"-\" in comlist:\n",
    "        ind = comlist.index(\"-\")\n",
    "        comlist[ind - 1] = str(eval(comlist[ind-1]+comlist[ind]+comlist[ind+1]))\n",
    "        comlist = comlist[:ind]+comlist[ind+2:]\n",
    "    ans.append((int(comlist[0])))\n",
    "    opsans.append([\"+\",\"*\",\"-\"])\n",
    "    \n",
    "    \n",
    "    #for + > - > *\n",
    "    comlist = oriclist[:]\n",
    "    while \"+\" in comlist:\n",
    "        ind = comlist.index(\"+\")\n",
    "        comlist[ind - 1] = str(eval(comlist[ind-1]+comlist[ind]+comlist[ind+1]))\n",
    "        comlist = comlist[:ind]+comlist[ind+2:]\n",
    "    while \"-\" in comlist:\n",
    "        ind = comlist.index(\"-\")\n",
    "        comlist[ind - 1] = str(eval(comlist[ind-1]+comlist[ind]+comlist[ind+1]))\n",
    "        comlist = comlist[:ind]+comlist[ind+2:]\n",
    "    while \"*\" in comlist:\n",
    "        ind = comlist.index(\"*\")\n",
    "        comlist[ind - 1] = str(eval(comlist[ind-1]+comlist[ind]+comlist[ind+1]))\n",
    "        comlist = comlist[:ind]+comlist[ind+2:]\n",
    "    ans.append((int(comlist[0])))\n",
    "    opsans.append([\"+\",\"-\",\"*\"])\n",
    "    \n",
    "    #for * > + > -\n",
    "    comlist = oriclist[:]\n",
    "    while \"*\" in comlist:\n",
    "        ind = comlist.index(\"*\")\n",
    "        comlist[ind - 1] = str(eval(comlist[ind-1]+comlist[ind]+comlist[ind+1]))\n",
    "        comlist = comlist[:ind]+comlist[ind+2:]\n",
    "    while \"+\" in comlist:\n",
    "        ind = comlist.index(\"+\")\n",
    "        comlist[ind - 1] = str(eval(comlist[ind-1]+comlist[ind]+comlist[ind+1]))\n",
    "        comlist = comlist[:ind]+comlist[ind+2:]\n",
    "    while \"-\" in comlist:\n",
    "        ind = comlist.index(\"-\")\n",
    "        comlist[ind - 1] = str(eval(comlist[ind-1]+comlist[ind]+comlist[ind+1]))\n",
    "        comlist = comlist[:ind]+comlist[ind+2:]\n",
    "    ans.append((int(comlist[0])))\n",
    "    opsans.append([\"*\",\"+\",\"-\"])\n",
    "    \n",
    "    #for * > - > +\n",
    "    comlist = oriclist[:]\n",
    "    while \"*\" in comlist:\n",
    "        ind = comlist.index(\"*\")\n",
    "        comlist[ind - 1] = str(eval(comlist[ind-1]+comlist[ind]+comlist[ind+1]))\n",
    "        comlist = comlist[:ind]+comlist[ind+2:]\n",
    "    while \"-\" in comlist:\n",
    "        ind = comlist.index(\"-\")\n",
    "        comlist[ind - 1] = str(eval(comlist[ind-1]+comlist[ind]+comlist[ind+1]))\n",
    "        comlist = comlist[:ind]+comlist[ind+2:]\n",
    "    while \"+\" in comlist:\n",
    "        ind = comlist.index(\"+\")\n",
    "        comlist[ind - 1] = str(eval(comlist[ind-1]+comlist[ind]+comlist[ind+1]))\n",
    "        comlist = comlist[:ind]+comlist[ind+2:]\n",
    "    ans.append((int(comlist[0])))\n",
    "    opsans.append([\"*\",\"-\",\"+\"])\n",
    "    \n",
    "    print(opsans)\n",
    "    return max(abs(int(x)) for x in ans),ans,opsans[ans.index(max(abs(int(x)) for x in ans))]\n",
    "a = \"100-200*300-500+20*900+5147\"\n",
    "solution(a)"
   ]
  },
  {
   "cell_type": "code",
   "execution_count": 53,
   "metadata": {},
   "outputs": [
    {
     "name": "stdout",
     "output_type": "stream",
     "text": [
      "[['*', '+', '-'], ['*', '-', '+'], ['+', '*', '-'], ['+', '-', '*'], ['-', '*', '+'], ['-', '+', '*']]\n"
     ]
    },
    {
     "data": {
      "text/plain": [
       "(133034000,\n",
       " ['-83547', '-37253', '-3204340', '133034000', '43147', '108846000'])"
      ]
     },
     "execution_count": 53,
     "metadata": {},
     "output_type": "execute_result"
    }
   ],
   "source": [
    "#카카오 2020 서머 인턴쉽 코딩 테스트 2번: 수식 최대화\n",
    "# answered by 시골우유\n",
    "\n",
    "import re\n",
    "from itertools import permutations\n",
    "\n",
    "expression = \"100-200*300-500+20*900+5147\"\n",
    "op = [x for x in ['*','+','-'] if x in expression]\n",
    "op = [list(y) for y in permutations(op)]\n",
    "print(op)\n",
    "ex = re.split(r'(\\D)',expression)\n",
    "a = []\n",
    "for x in op:\n",
    "        _ex = ex[:]\n",
    "        for y in x:\n",
    "            while y in _ex:\n",
    "                tmp = _ex.index(y)\n",
    "                _ex[tmp-1] = str(eval(_ex[tmp-1]+_ex[tmp]+_ex[tmp+1]))\n",
    "                _ex = _ex[:tmp]+_ex[tmp+2:]\n",
    "        a.append(_ex[-1])\n",
    "b = max(abs(int(x)) for x in a)\n",
    "b,a"
   ]
  },
  {
   "cell_type": "code",
   "execution_count": 46,
   "metadata": {},
   "outputs": [
    {
     "data": {
      "text/plain": [
       "[6, 9]"
      ]
     },
     "execution_count": 46,
     "metadata": {},
     "output_type": "execute_result"
    }
   ],
   "source": [
    "# 카카오 2020 서머 인턴쉽 코딩 테스트 3번: 보석쇼핑\n",
    "#it works, but i need this to run in better efficiency. currently it's in O(0.5*n^2)\n",
    "\n",
    "def solution_alpha(gems):\n",
    "    answer = []\n",
    "    unique = []\n",
    "    spos = 0\n",
    "    epos = 0\n",
    "    length = len(gems[:])\n",
    "    for i in range(len(gems)):\n",
    "        if gems[i] not in unique:\n",
    "            unique.append(gems[i])\n",
    "    \n",
    "    count = 0\n",
    "    for i in range(len(gems)):\n",
    "        b = gems[i:]\n",
    "        for j in range(len(b)):\n",
    "            count += 1\n",
    "            #print(count)\n",
    "            if set(unique) <= set(b[:len(b)-j]):\n",
    "                if len(b[:len(b)-j]) < length:\n",
    "                    #print(b[:len(b)-j])\n",
    "                    epos = len(b)-j+i\n",
    "                    spos = i\n",
    "                    length = len(b[:len(b)-j])\n",
    "                    #print(length)\n",
    "\n",
    "    if spos == epos == 0:\n",
    "        spos = 0\n",
    "        epos = len(gems)\n",
    "        \n",
    "    answer.append(spos+1)\n",
    "    answer.append(epos)\n",
    "    \n",
    "    print(unique)\n",
    "    print(spos+1, epos)\n",
    "    print(count)\n",
    "    return answer,gems[spos:epos]\n",
    "\n",
    "def solution_ver2(gems):\n",
    "    answer = []\n",
    "    unique = []\n",
    "    spos = 0\n",
    "    epos = 0\n",
    "    length = len(gems[:])+1\n",
    "    for i in range(len(gems)):\n",
    "        if gems[i] not in unique:\n",
    "            unique.append(gems[i])\n",
    "    \n",
    "    u_len = len(unique)\n",
    "    \n",
    "    count = 0\n",
    "    for i in range(len(gems)):\n",
    "        for j in range(len(gems)):\n",
    "            count = count +1\n",
    "            if set(unique) <= set(gems[j:j+u_len+i]):\n",
    "                if len(gems[j:j+u_len+i]) < length:\n",
    "                    spos = j+1\n",
    "                    epos = j+u_len+i\n",
    "                    length = len(gems[j:j+u_len+i])\n",
    "\n",
    "    answer.append(spos)\n",
    "    answer.append(epos)\n",
    "    return answer\n",
    "\n",
    "from collections import defaultdict\n",
    "def solution(gems):\n",
    "    u = list(set(gems))\n",
    "    gmap = {gems[0]:1}\n",
    "    cand = [0, len(gems)-1]\n",
    "    s, e = 0, 0\n",
    "    \n",
    "    while e <= len(gems) and s <= len(gems):\n",
    "        if len(gmap) >= len(u):\n",
    "            if e - s < cand[1] - cand[0]:\n",
    "                cand = [s,e]\n",
    "                print(cand)\n",
    "            if gmap[gems[s]] == 1:\n",
    "                del gmap[gems[s]]\n",
    "            else:\n",
    "                gmap[gems[s]] -= 1\n",
    "            s += 1\n",
    "        else:\n",
    "            e += 1\n",
    "            if e == len(gems):\n",
    "                break\n",
    "            if gems[e] in gmap.keys():\n",
    "                gmap[gems[e]] += 1\n",
    "            else:\n",
    "                gmap[gems[e]] = 1\n",
    "        \n",
    "    for i in range(len(cand)):\n",
    "        cand[i] += 1\n",
    "    return gmap,cand\n"
   ]
  },
  {
   "cell_type": "code",
   "execution_count": 32,
   "metadata": {},
   "outputs": [
    {
     "name": "stdout",
     "output_type": "stream",
     "text": [
      "[0, 0]\n"
     ]
    },
    {
     "data": {
      "text/plain": [
       "0"
      ]
     },
     "execution_count": 32,
     "metadata": {},
     "output_type": "execute_result"
    }
   ],
   "source": [
    "#rod cutting(Dynamic Programming)\n",
    "\n",
    "def rodcut(p,n):\n",
    "    r = [0]\n",
    "    for i in range(n):\n",
    "        q = -1\n",
    "        for j in range(i):\n",
    "            q = max(q, p[j]+r[j-i])\n",
    "            r.append(q)\n",
    "    print(r)\n",
    "    return r[n-1]\n",
    "\n",
    "p = [0,1,5,8,9,10,17,17,20,24,30]\n",
    "\n",
    "rodcut(p,2)"
   ]
  },
  {
   "cell_type": "code",
   "execution_count": 134,
   "metadata": {},
   "outputs": [
    {
     "name": "stdout",
     "output_type": "stream",
     "text": [
      "[[2, 3, 5, 6], [6], [1, 2, 3, 4, 5, 6, 7]]\n"
     ]
    },
    {
     "data": {
      "text/plain": [
       "[5, 6, 3]"
      ]
     },
     "execution_count": 134,
     "metadata": {},
     "output_type": "execute_result"
    }
   ],
   "source": [
    "# kth number. From Programmers.com/level1 problem\n",
    "\n",
    "def s(array, commands):\n",
    "    answer = []\n",
    "    na = []\n",
    "    \n",
    "    for i in range(len(commands)):\n",
    "        na.append(sorted(array[commands[i][0]-1:commands[i][1]]))\n",
    "    \n",
    "    print(na)\n",
    "    \n",
    "    for i in range(len(na)):\n",
    "        for j in range(len(na[i])):\n",
    "            if commands[i][2]-1 == j:\n",
    "                answer.append(na[i][j])\n",
    "    return answer\n",
    "\n",
    "a = [1, 5, 2, 6, 3, 7, 4]\n",
    "c = [[2, 5, 3], [4, 4, 1], [1, 7, 3]]\n",
    "\n",
    "s(a,c)"
   ]
  },
  {
   "cell_type": "code",
   "execution_count": 207,
   "metadata": {},
   "outputs": [
    {
     "data": {
      "text/plain": [
       "4"
      ]
     },
     "execution_count": 207,
     "metadata": {},
     "output_type": "execute_result"
    }
   ],
   "source": [
    "# 체육복 도둑. level1 problem\n",
    "\n",
    "def solution(n, lost, reserve):\n",
    "    \n",
    "    for i in range(len(lost)):\n",
    "        for j in range(len(reserve)):\n",
    "            if lost[i] == reserve[j]:\n",
    "                lost[i], reserve[j] = 0,0\n",
    "                \n",
    "    lost = list(filter(lambda x: x != 0, lost))\n",
    "    reserve = list(filter(lambda x: x != 0, reserve))\n",
    "    \n",
    "    lost = sorted(lost)\n",
    "    reserve = sorted(reserve)\n",
    "    \n",
    "    for i in reserve:\n",
    "        if i-1 in lost:\n",
    "            lost.remove(i-1)\n",
    "            i = -1\n",
    "        if i+1 in lost:\n",
    "            lost.remove(i+1)\n",
    "            i = -1\n",
    "        \n",
    "    answer = n - len(lost)\n",
    "    return answer\n",
    "\n",
    "n = 5\n",
    "l = [5,2,1]\n",
    "r = [4,3]\n",
    "\n",
    "solution(n,l,r)"
   ]
  },
  {
   "cell_type": "code",
   "execution_count": 132,
   "metadata": {},
   "outputs": [
    {
     "data": {
      "text/plain": [
       "'MON'"
      ]
     },
     "execution_count": 132,
     "metadata": {},
     "output_type": "execute_result"
    }
   ],
   "source": [
    "#2016 from programmers.com \n",
    "# guessing what day it would be on a/b/2016 while 01/01/2016 was FRIDAY\n",
    "\n",
    "def solution(a, b):\n",
    "    if a >= 13:\n",
    "        return \"Use your brain!\"\n",
    "    elif a <= 0:\n",
    "        return \"Hmm I guess you need to visit a Doctor\"\n",
    "    dates = 0\n",
    "    if a == 1:\n",
    "        dates += -1\n",
    "    elif a == 2:\n",
    "        dates += 30\n",
    "    elif a == 3:\n",
    "        dates += 59\n",
    "    elif a == 4:\n",
    "        dates += 90\n",
    "    elif a == 5:\n",
    "        dates += 120\n",
    "    elif a == 6:\n",
    "        dates += 151\n",
    "    elif a == 7:\n",
    "        dates += 181\n",
    "    elif a == 8:\n",
    "        dates += 212\n",
    "    elif a == 9:\n",
    "        dates += 243\n",
    "    elif a == 10:\n",
    "        dates += 273\n",
    "    elif a == 11:\n",
    "        dates += 304\n",
    "    elif a == 12:\n",
    "        dates += 334\n",
    "    \n",
    "    dates += b\n",
    "    \n",
    "    if dates%7 == 0:\n",
    "        answer = 'FRI'\n",
    "    elif dates%7 == 1:\n",
    "        answer = 'SAT'\n",
    "    elif dates%7 == 2:\n",
    "        answer = 'SUN'\n",
    "    elif dates%7 == 3:\n",
    "        answer = 'MON'\n",
    "    elif dates%7 == 4:\n",
    "        answer = 'TUE'\n",
    "    elif dates%7 == 5:\n",
    "        answer = 'WED'\n",
    "    elif dates%7 == 6:\n",
    "        answer = 'THU'\n",
    "    return answer\n",
    "\n",
    "a = 9\n",
    "b = 19\n",
    "\n",
    "solution(a,b)"
   ]
  },
  {
   "cell_type": "code",
   "execution_count": 7,
   "metadata": {},
   "outputs": [
    {
     "data": {
      "text/plain": [
       "16"
      ]
     },
     "execution_count": 7,
     "metadata": {},
     "output_type": "execute_result"
    }
   ],
   "source": [
    "#until one from 이.코.테\n",
    "\n",
    "def untilOne(n,k):\n",
    "    count = 0\n",
    "    while n != 1:\n",
    "        if n%k == 0:\n",
    "            n /= k\n",
    "            count += 1\n",
    "        else:\n",
    "            n -= 1\n",
    "            count += 1\n",
    "    return count\n",
    "\n",
    "untilOne(184,15)"
   ]
  },
  {
   "cell_type": "code",
   "execution_count": 37,
   "metadata": {},
   "outputs": [
    {
     "name": "stdout",
     "output_type": "stream",
     "text": [
      "R2 2\n",
      "R2 3\n",
      "R2 4\n"
     ]
    },
    {
     "data": {
      "text/plain": [
       "(3, 4)"
      ]
     },
     "execution_count": 37,
     "metadata": {},
     "output_type": "execute_result"
    }
   ],
   "source": [
    "def UDLR(N,moves):\n",
    "    x = 1\n",
    "    y = 1\n",
    "    \n",
    "    for move in moves:\n",
    "        if move == \"U\":\n",
    "            if y == 1:\n",
    "                pass\n",
    "            else:\n",
    "                y -= 1\n",
    "        if move == \"D\":\n",
    "            if y == N:\n",
    "                pass\n",
    "            else:\n",
    "                y += 1\n",
    "        if move == \"L\":\n",
    "            if x == 1:\n",
    "                pass\n",
    "            else:\n",
    "                x -= 1\n",
    "        if move == \"R\":\n",
    "            \n",
    "            if x == N:\n",
    "                print(\"R\",x)\n",
    "                pass\n",
    "            else:\n",
    "                x += 1\n",
    "                print(\"R2\",x)\n",
    "    return (y,x)\n",
    "\n",
    "UDLR(5,[\"R\",\"R\",\"R\",\"U\",\"D\",\"D\"])"
   ]
  },
  {
   "cell_type": "code",
   "execution_count": 75,
   "metadata": {},
   "outputs": [
    {
     "name": "stdout",
     "output_type": "stream",
     "text": [
      "1 1\n"
     ]
    },
    {
     "data": {
      "text/plain": [
       "2"
      ]
     },
     "execution_count": 75,
     "metadata": {},
     "output_type": "execute_result"
    }
   ],
   "source": [
    "#왕실의 나이트 pg115 그리디+구현\n",
    "\n",
    "def knight(pos):\n",
    "    y = int(pos[1])\n",
    "    alphabet = ['a','b','c','d','e','f','g','h']\n",
    "    x = alphabet.index(pos[0])+1\n",
    "    print(x,y)\n",
    "    nm = 8\n",
    "    pm = [(-2,1),(-2,-1),(2,1),(2,-1),(-1,2),(1,2),(-1,-2),(-1,-2)]\n",
    "    \n",
    "    for i in pm:\n",
    "        if x+i[0] < 1 or y+i[1] < 1 or x+i[0] > 8 or y+i[1] > 8:\n",
    "            nm -= 1\n",
    "        \n",
    "    return nm\n",
    "\n",
    "knight('a1')    "
   ]
  },
  {
   "cell_type": "code",
   "execution_count": 18,
   "metadata": {},
   "outputs": [
    {
     "name": "stdout",
     "output_type": "stream",
     "text": [
      "num of moves:  1\n",
      "Next Direction is:  1\n",
      "No change\n",
      "num of moves:  2\n",
      "Next Direction is:  2\n",
      "No change\n",
      "num of moves:  3\n",
      "Next Direction is:  3\n",
      "changed\n",
      "num of moves:  3\n",
      "Next Direction is:  0\n",
      "changed\n",
      "num of moves:  3\n",
      "Next Direction is:  1\n",
      "changed\n",
      "num of moves:  3\n",
      "Next Direction is:  2\n",
      "changed\n",
      "num of moves:  3\n",
      "Next Direction is:  3\n",
      "changed\n"
     ]
    },
    {
     "data": {
      "text/plain": [
       "(3,\n",
       " [[1, 0, 1, 0, 0, 0, 1, 1, 1, 1, 1],\n",
       "  [0, 1, 1, 0, 1, 1, 1, 1, 1, 1, 1],\n",
       "  [1, 0, 0, 1, 0, 1, 0, 0, 0, 1, 0]])"
      ]
     },
     "execution_count": 18,
     "metadata": {},
     "output_type": "execute_result"
    }
   ],
   "source": [
    "#게임 개발 pg 118 시뮬레이션\n",
    "\n",
    "def CharMove(d,pos, Map):\n",
    "    x = pos[0]\n",
    "    y = pos[1]\n",
    "    Map[x][y] = 1\n",
    "    directions = [0,3,2,1] # 0-북 3-서 2-남 1-동\n",
    "    moves = [(-1,0),(0,-1),(1,0),(0,1)]\n",
    "    numMoves= 1\n",
    "    count = 0\n",
    "    if d == 1:\n",
    "        next_direction = 0\n",
    "    else:\n",
    "        next_direction = directions.index(d)+1\n",
    "    \n",
    "    switch = True\n",
    "    while switch == True:\n",
    "        print(\"num of moves: \",numMoves)\n",
    "        if count >= 4:\n",
    "            switch = False\n",
    "        x += moves[next_direction][0]\n",
    "        y += moves[next_direction][1]\n",
    "        print(\"Next Direction is: \",next_direction)\n",
    "        if (x > len(Map)-1 or y > len(Map[0])-1) or (x < 0 or y < 0) or Map[x][y] + 1 == 2: #meaning if Map[x][y] is a sea area\n",
    "            print(\"changed\")\n",
    "            x -= moves[next_direction][0]\n",
    "            y -= moves[next_direction][1]\n",
    "            if next_direction == 3:\n",
    "                next_direction = 0\n",
    "            else:\n",
    "                next_direction += 1\n",
    "            count += 1\n",
    "            continue\n",
    "        print(\"No change\")\n",
    "        if next_direction == 3:\n",
    "            next_direction = 0\n",
    "        else:\n",
    "            next_direction += 1\n",
    "        \n",
    "        count = 0\n",
    "        Map[x][y] += 1\n",
    "        numMoves += 1\n",
    "    return numMoves,Map\n",
    "\n",
    "# 0-북 3-서 2-남 1-동\n",
    "\n",
    "m = [[1,0,1,0,0,0,1,1,1,0,0],[0,1,1,0,1,1,1,1,1,0,1],[1,0,0,1,0,1,0,0,0,1,0]]\n",
    "CharMove(0,(0,10),m)"
   ]
  },
  {
   "cell_type": "code",
   "execution_count": 51,
   "metadata": {},
   "outputs": [
    {
     "name": "stdout",
     "output_type": "stream",
     "text": [
      "1 2 3 8 7 4 5 6 "
     ]
    }
   ],
   "source": [
    "from collections import deque\n",
    "def DFS(graph, v,visited):\n",
    "    visited[v] = True\n",
    "    print(v, end=' ')\n",
    "    \n",
    "    for i in graph[v]:\n",
    "        if not visited[i]:\n",
    "            DFS(graph, i, visited)\n",
    "            \n",
    "\n",
    "def BFS(graph, v, visited):\n",
    "    queue = deque([v])\n",
    "    \n",
    "    visited[v] = True\n",
    "    \n",
    "    while queue:\n",
    "        j = queue.popleft()\n",
    "        print(j, end=' ')\n",
    "        for i in graph[j]:\n",
    "            if not visited[i]:\n",
    "                queue.append(i)\n",
    "                visited[i] = True\n",
    "    \n",
    "    \n",
    "    \n",
    "graph = [[],\n",
    "         [2,3,8],\n",
    "         [1,7],\n",
    "         [1,4,5],\n",
    "         [3,5],\n",
    "         [3,4],\n",
    "         [7],\n",
    "         [2,6,8],\n",
    "         [1,7]]\n",
    "visited = [False]*9\n",
    "#DFS(graph, 1,visited)\n",
    "BFS(graph, 1, visited)"
   ]
  },
  {
   "cell_type": "code",
   "execution_count": 14,
   "metadata": {},
   "outputs": [
    {
     "name": "stdout",
     "output_type": "stream",
     "text": [
      "9 9\n",
      "001010100\n",
      "010010000\n",
      "000111000\n",
      "000111111\n",
      "111111111\n",
      "000000000\n",
      "010101010\n",
      "001010010\n",
      "0000001103\n",
      "3\n"
     ]
    }
   ],
   "source": [
    "n, m = map(int, input().split())\n",
    "\n",
    "# 2차원 리스트의 맵 정보 입력 받기\n",
    "graph = []\n",
    "for i in range(n):\n",
    "    graph.append(list(map(int, input())))\n",
    "\n",
    "# DFS로 특정한 노드를 방문한 뒤에 연결된 모든 노드들도 방문\n",
    "def dfs(x, y):\n",
    "    # 주어진 범위를 벗어나는 경우에는 즉시 종료\n",
    "    if x <= -1 or x >= n or y <= -1 or y >= m:\n",
    "        return False\n",
    "    # 현재 노드를 아직 방문하지 않았다면\n",
    "    if graph[x][y] == 0:\n",
    "        # 해당 노드 방문 처리\n",
    "        graph[x][y] = 1\n",
    "        # 상, 하, 좌, 우의 위치들도 모두 재귀적으로 호출\n",
    "        dfs(x - 1, y)\n",
    "        dfs(x, y - 1)\n",
    "        dfs(x + 1, y)\n",
    "        dfs(x, y + 1)\n",
    "        return True\n",
    "    return False\n",
    "\n",
    "# 모든 노드(위치)에 대하여 음료수 채우기\n",
    "result = 0\n",
    "for i in range(n):\n",
    "    for j in range(m):\n",
    "        # 현재 위치에서 DFS 수행\n",
    "        if dfs(i, j) == True:\n",
    "            result += 1\n",
    "\n",
    "print(result) # 정답 출력"
   ]
  },
  {
   "cell_type": "code",
   "execution_count": 20,
   "metadata": {},
   "outputs": [
    {
     "name": "stdout",
     "output_type": "stream",
     "text": [
      "9\n",
      "9\n"
     ]
    },
    {
     "data": {
      "text/plain": [
       "3"
      ]
     },
     "execution_count": 20,
     "metadata": {},
     "output_type": "execute_result"
    }
   ],
   "source": [
    "def dfs(x, y,n,m,graph):\n",
    "    # 주어진 범위를 벗어나는 경우에는 즉시 종료\n",
    "    if x <= -1 or x >= n or y <= -1 or y >= m:\n",
    "        return False\n",
    "    # 현재 노드를 아직 방문하지 않았다면\n",
    "    if graph[x][y] == 0:\n",
    "        # 해당 노드 방문 처리\n",
    "        graph[x][y] = 1\n",
    "        # 상, 하, 좌, 우의 위치들도 모두 재귀적으로 호출\n",
    "        dfs(x - 1, y,n,m,graph)\n",
    "        dfs(x, y - 1,n,m,graph)\n",
    "        dfs(x + 1, y,n,m,graph)\n",
    "        dfs(x, y + 1,n,m,graph)\n",
    "        return True\n",
    "    return False\n",
    "\n",
    "def icingBeverages(l):\n",
    "    ans = 0\n",
    "    Map = l[:]\n",
    "    print(len(l))\n",
    "    print(len(l[0]))\n",
    "    for i in range(len(l)):\n",
    "        for j in range(len(l[0])):\n",
    "            if dfs(i,j,len(l),len(l[0]),Map) == True:\n",
    "                ans += 1\n",
    "    return ans\n",
    "\n",
    "l = [[0,0,1,0,1,0,1,0,0],[0,1,0,0,1,0,0,0,0],[0,0,0,1,1,1,0,0,0],[0,0,0,1,1,1,1,1,1],\n",
    "     [1,1,1,1,1,1,1,1,1],[0,0,0,0,0,0,0,0,0],[0,1,0,1,0,1,0,1,0],[0,0,1,0,1,0,0,1,0],\n",
    "     [0,0,0,0,0,0,1,1,0]]\n",
    "icingBeverages(l)"
   ]
  },
  {
   "cell_type": "code",
   "execution_count": 149,
   "metadata": {},
   "outputs": [
    {
     "name": "stdout",
     "output_type": "stream",
     "text": [
      "['a', 'a', 'a', 'a', 'a', 'a', 'ㅠ', 'ㅠ', 'ㅠ', 'a', '']\n",
      "6a3ㅠa\n",
      "['aa', 'aa', 'aa', 'ㅠㅠ', 'ㅠa', '']\n",
      "3aaㅠㅠㅠa\n",
      "['aaa', 'aaa', 'ㅠㅠㅠ', 'a']\n",
      "2aaaㅠㅠㅠa\n",
      "['aaaa', 'aaㅠㅠ', 'ㅠa']\n",
      "aaaaaaㅠㅠㅠa\n",
      "['aaaaa', 'aㅠㅠㅠa', '']\n",
      "aaaaaaㅠㅠㅠa\n"
     ]
    },
    {
     "data": {
      "text/plain": [
       "(range(1, 6),\n",
       " ['a', 'ㅠ'],\n",
       " {'a': 1, 'ㅠ': 1},\n",
       " ['aaaaa', 'aㅠㅠㅠa', ''],\n",
       " [5, 7, 8, 10, 10],\n",
       " 5)"
      ]
     },
     "execution_count": 149,
     "metadata": {},
     "output_type": "execute_result"
    }
   ],
   "source": [
    "#2020 카카오 공채 Q1 문자열 압축\n",
    "\n",
    "def solution(s):\n",
    "    if len(s) <= 1:\n",
    "        if len(s) == 0:\n",
    "            return 0\n",
    "        return 1\n",
    "    n = len(s)\n",
    "    cs = []\n",
    "    voca = list(set(s))\n",
    "    voc = dict()\n",
    "    for i in voca:\n",
    "        voc[i] = 1\n",
    "    cs = range(1,int(n/2)+1)\n",
    "    ans = []\n",
    "    for i in cs:\n",
    "        cut = []\n",
    "        pre = 0\n",
    "        rep = 1\n",
    "        sent = \"\"\n",
    "        for j in range((int(len(s)/i))+1):\n",
    "            cut.append(s[pre:pre+i])\n",
    "            pre += i\n",
    "        print(cut)\n",
    "        if cut[len(cut)-1] != \"\":\n",
    "            cut.append(\"\")\n",
    "        for k in range(1,len(cut)):\n",
    "            if cut[k] == cut[k-1]:\n",
    "                rep += 1\n",
    "            else:\n",
    "                sent += str(rep)+str(cut[k-1]) if rep >= 2 else str(cut[k-1])\n",
    "                rep = 1\n",
    "        print(sent)\n",
    "        ans.append(len(sent))\n",
    "    return cs,voca,voc,cut,ans,min(ans)\n",
    "\n",
    "s = \"aaaaaaㅠㅠㅠa\"\n",
    "solution(s)"
   ]
  },
  {
   "cell_type": "code",
   "execution_count": 254,
   "metadata": {},
   "outputs": [
    {
     "name": "stdout",
     "output_type": "stream",
     "text": [
      "  원본 ..&**(...*(%#)..)....\n",
      "1 단계 ..&**(...*(%#)..).... 대문자를 소문자로\n",
      "2 단계 ........... (. - _) 외 특수문자 제거\n",
      "3 단계 .. 연속 (.) 제거\n",
      "4 단계  처음&마지막 . 제거\n",
      "5 단계 a 빈 문장일때 a 추가\n",
      "6 단계 a 길이가 16이상일때 15까지만으로 자르기\n",
      "7 단계 aaa 길이가 2이하일때 3까지 늘리기\n"
     ]
    },
    {
     "data": {
      "text/plain": [
       "'aaa'"
      ]
     },
     "execution_count": 254,
     "metadata": {},
     "output_type": "execute_result"
    }
   ],
   "source": [
    "#2021 카카오 공채 기출문제 1번 신규 아이디 찾기\n",
    "\n",
    "import string\n",
    "def solution(new_id):\n",
    "    #original\n",
    "    print(\"  원본\", new_id)\n",
    "    #1단계\n",
    "    new_id = new_id.lower()\n",
    "    print(\"1 단계\", new_id, \"대문자를 소문자로\")\n",
    "    \n",
    "    #2단계\n",
    "    letters = list(string.ascii_lowercase)\n",
    "    letters += [\".\",\"-\",\"_\"]\n",
    "    non_letters = []\n",
    "    for i in new_id:\n",
    "        if i not in letters and i.isdigit() == False:\n",
    "            non_letters.append(i)\n",
    "    new_id= new_id.translate({ord(c): None for c in non_letters})\n",
    "    print(\"2 단계\", new_id,\"(. - _) 외 특수문자 제거\")\n",
    "    \n",
    "    #3단계\n",
    "    pre = 0\n",
    "    prev = []\n",
    "    if new_id[0] == new_id[len(new_id)-1] and new_id[0] == \".\":\n",
    "        for i in range(len(new_id)-1):\n",
    "            if new_id[len(new_id)-1] == \".\":\n",
    "                new_id = new_id[:len(new_id)-1]\n",
    "            else:\n",
    "                break\n",
    "        for i in range(len(new_id)):\n",
    "            if new_id[i] == \".\" and new_id[i] == new_id[i-1]:\n",
    "                prev.append(new_id[pre:i-1])\n",
    "                pre = i\n",
    "        prev.append(new_id[pre:])\n",
    "        new_id = \"\".join(prev)+\".\"\n",
    "    else:\n",
    "        for i in range(len(new_id)):\n",
    "            if new_id[i] == \".\" and new_id[i] == new_id[i-1]:\n",
    "                prev.append(new_id[pre:i-1])\n",
    "                pre = i\n",
    "        prev.append(new_id[pre:])\n",
    "        new_id = \"\".join(prev)\n",
    "    print(\"3 단계\", new_id, \"연속 (.) 제거\")\n",
    "    \n",
    "    #4th\n",
    "    if len(new_id) == 0:\n",
    "        new_id = ''\n",
    "    elif new_id[0] == \".\":\n",
    "        new_id = ''.join(new_id[1:])\n",
    "    \n",
    "    if len(new_id) != 0:\n",
    "        if new_id[len(new_id)-1] == \".\":\n",
    "            new_id = ''.join(new_id[:len(new_id)-1])\n",
    "    print(\"4 단계\", new_id, \"처음&마지막 . 제거\")\n",
    "                \n",
    "    #5th\n",
    "    if len(new_id) == 0:\n",
    "        new_id = new_id + \"a\"\n",
    "    print(\"5 단계\", new_id, \"빈 문장일때 a 추가\")    \n",
    "    \n",
    "    #6th\n",
    "    if len(new_id) >= 16:\n",
    "        new_id = ''.join(new_id[:15])\n",
    "        if new_id[len(new_id)-1] == \".\":\n",
    "            new_id = ''.join(new_id[:len(new_id)-1])\n",
    "    print(\"6 단계\", new_id, \"길이가 16이상일때 15까지만으로 자르기\")\n",
    "    \n",
    "    \n",
    "    #7th\n",
    "    while len(new_id) <= 2:\n",
    "        new_id = new_id + new_id[len(new_id)-1]\n",
    "    print(\"7 단계\", new_id, \"길이가 2이하일때 3까지 늘리기\")    \n",
    "    return new_id\n",
    "a =\"..&**(...*(%#)..)....\"\n",
    "solution(a)"
   ]
  },
  {
   "cell_type": "code",
   "execution_count": 310,
   "metadata": {},
   "outputs": [
    {
     "name": "stdout",
     "output_type": "stream",
     "text": [
      "0 150 100 5\n",
      "1 210 200 5\n",
      "2 260 250 5\n",
      "3 260 150 5\n",
      "4 210 100 5\n",
      "4 150 100 5\n",
      "5 150 150 5\n",
      "5 210 150 5\n",
      "5 150 150 5\n",
      "5 260 150 5\n"
     ]
    },
    {
     "data": {
      "text/plain": [
       "[1, 1, 1, 1, 2, 4]"
      ]
     },
     "execution_count": 310,
     "metadata": {},
     "output_type": "execute_result"
    }
   ],
   "source": [
    "#2021 카카오 공채 2번\n",
    "import re\n",
    "def solution(info, query):\n",
    "    ans = []\n",
    "    infols = []\n",
    "    count = 0\n",
    "    fcount = 0\n",
    "    \n",
    "    #making list of lists with infos separated by \" \"\n",
    "    #ex \"java backend junior pizza 150\" into ['java', 'backend', 'junior', 'pizza', '150']\n",
    "    for i in info:\n",
    "        infol = re.split(\" \", i)\n",
    "        infols.append(infol)\n",
    "\n",
    "    for i in range(len(query)):\n",
    "        a = re.split(\" and \", query[i])\n",
    "        a = a[:3]+re.split(\" \", a[3])\n",
    "\n",
    "        for j in infols:\n",
    "            for k in range(4):\n",
    "                if j[k] == a[k] or a[k] == \"-\":\n",
    "                    count += 1\n",
    "            if int(j[4]) >= int(a[4]):\n",
    "                count += 1\n",
    "            if count == 5:\n",
    "                print(i,j[4],a[4],count)\n",
    "                fcount += 1\n",
    "            count = 0\n",
    "        ans.append(fcount)\n",
    "        fcount = 0\n",
    "    return ans\n",
    "\n",
    "p = [\"java backend junior pizza 150\",\"python frontend senior chicken 210\",\"python frontend senior chicken 150\",\"cpp backend senior pizza 260\",\"java backend junior chicken 80\",\"python backend senior chicken 50\"]\n",
    "q = [\"java and backend and junior and pizza 100\",\"python and frontend and senior and chicken 200\",\"cpp and - and senior and pizza 250\",\"- and backend and senior and - 150\",\"- and - and - and chicken 100\",\"- and - and - and - 150\"]\n",
    "solution(p,q)"
   ]
  },
  {
   "cell_type": "code",
   "execution_count": 358,
   "metadata": {},
   "outputs": [
    {
     "name": "stdout",
     "output_type": "stream",
     "text": [
      "ZAEWFGSKHXICV ACEFGHIKSVWXZ\n",
      "['A', 'AF', 'AFH', 'AFHV', 'AFHVW', 'AFHVWX', 'AFHVWXZ', 'F', 'FH', 'FHV', 'FHVW', 'FHVWX', 'FHVWXZ', 'H', 'HV', 'HVW', 'HVWX', 'HVWXZ', 'V', 'VW', 'VWX', 'VWXZ', 'W', 'WX', 'WXZ', 'X', 'XZ', 'Z']\n"
     ]
    },
    {
     "data": {
      "text/plain": [
       "['AFHV', 'FHVW', 'HVWX', 'VWXZ']"
      ]
     },
     "execution_count": 358,
     "metadata": {},
     "output_type": "execute_result"
    }
   ],
   "source": [
    "print(\"ZAEWFGSKHXICV\", ''.join(sorted(\"ZAEWFGSKHXICV\")))\n",
    "b = set(sorted(\"WDLAOZRFUVNXH\")).intersection(\"ZAEWFGSKHXICV\")\n",
    "s = \"\".join(sorted(b))\n",
    "l = []\n",
    "p = []\n",
    "for i in range(len(s)):\n",
    "    for j in range(i+1,len(s)+1):\n",
    "        res = s[i:j]\n",
    "        p.append(res)\n",
    "        if len(res) >= 2 and len(res) == 4:\n",
    "            l.append(res)\n",
    "print(p)            \n",
    "l"
   ]
  },
  {
   "cell_type": "code",
   "execution_count": 1,
   "metadata": {},
   "outputs": [
    {
     "name": "stdout",
     "output_type": "stream",
     "text": [
      "[0, 1, 1, 1, 1, 1, 1, 1, 1, 1, 1, 1, 1]\n",
      "chances  13\n",
      "[0, 1, 1, 1, 1, 1, 1, 1, 1, 1, 1]\n",
      "[0, 1, 1, 1, 1, 1, 1, 1, 1]\n",
      "[0, 1, 1, 1, 1, 1, 1]\n",
      "[0, 1, 1, 1, 1]\n",
      "[0, 1, 1]\n",
      "[0]\n",
      "solution is 12\n"
     ]
    }
   ],
   "source": [
    "# 2019 카카오 코테 1번 크레인 인형 뽑기\n",
    "\n",
    "def solution(board, moves):\n",
    "    answer = 0\n",
    "    result = [0]\n",
    "    \n",
    "    for i in range(len(moves)):\n",
    "        k = moves[i] - 1\n",
    "        for j in range(len(board)):\n",
    "            if board[j][k] != 0:\n",
    "                result.append(board[j][k])\n",
    "                board[j][k] = 0\n",
    "    print(result)     \n",
    "    chances = len(result)\n",
    "    \n",
    "    print(\"chances \", chances)\n",
    "    pos = 1\n",
    "    while chances != 0:\n",
    "        if pos >= len(result):\n",
    "            pos -= 1\n",
    "        if result[pos] == result[pos - 1] and len(result) != 1:\n",
    "            answer += 2\n",
    "            del result[pos-1:pos+1]\n",
    "            pos -= 1\n",
    "            print(result)\n",
    "        else:\n",
    "            pos += 1\n",
    "        chances -= 1\n",
    "    \n",
    "    return answer\n",
    "\n",
    "b = [[1,1,1,1],[1,1,1,1],[1,1,1,1]]\n",
    "m = [1,1,1,2,2,2,3,3,3,4,4,4]\n",
    "\n",
    "print(\"solution is\",solution(b,m))"
   ]
  },
  {
   "cell_type": "code",
   "execution_count": 52,
   "metadata": {},
   "outputs": [
    {
     "name": "stdout",
     "output_type": "stream",
     "text": [
      "[3, 5, 6, 4, 2, 7]\n"
     ]
    },
    {
     "data": {
      "text/plain": [
       "[2, 3, 4, 5, 6, 7]"
      ]
     },
     "execution_count": 52,
     "metadata": {},
     "output_type": "execute_result"
    }
   ],
   "source": [
    "#두개 뽑아서 더하기 from 월간 코드 챌린지\n",
    "\n",
    "from itertools import combinations\n",
    "def solution(s):\n",
    "    c = combinations(s, 2)\n",
    "    ans = []\n",
    "    for i in c:\n",
    "        if (i[0]+i[1]) not in ans:\n",
    "            ans.append(i[0]+i[1])\n",
    "    print(ans)\n",
    "    ans.sort()\n",
    "    return ans\n",
    "solution([2,1,3,4,1])"
   ]
  },
  {
   "cell_type": "code",
   "execution_count": 7,
   "metadata": {},
   "outputs": [
    {
     "data": {
      "text/plain": [
       "'ana'"
      ]
     },
     "execution_count": 7,
     "metadata": {},
     "output_type": "execute_result"
    }
   ],
   "source": [
    "#완주하지 못한 선수 level 1\n",
    "\n",
    "def solution(participant, completion):\n",
    "    answer = \"\"\n",
    "    pdict = dict()\n",
    "    for p in participant:\n",
    "        if p not in pdict:\n",
    "            pdict[p] = 1\n",
    "        else:\n",
    "            pdict[p] += 1\n",
    "    cdict = dict()\n",
    "    for c in completion:\n",
    "        if c not in cdict:\n",
    "            cdict[c] = 1\n",
    "        else:\n",
    "            cdict[c] += 1\n",
    "    for i in pdict.keys():\n",
    "        if i not in cdict or pdict[i] > cdict[i]:\n",
    "            answer = i\n",
    "    return answer\n",
    "\n",
    "p = [\"mislav\", \"stanko\", \"mislav\", \"ana\"]\n",
    "c = [\"max\",\"Jay\"]\n",
    "solution(p,c)"
   ]
  },
  {
   "cell_type": "code",
   "execution_count": 1,
   "metadata": {},
   "outputs": [
    {
     "name": "stdout",
     "output_type": "stream",
     "text": [
      "L C CW\n",
      "L C CASDSDSAD\n",
      "C F WRWFQFSFA\n"
     ]
    },
    {
     "data": {
      "text/plain": [
       "3"
      ]
     },
     "execution_count": 1,
     "metadata": {},
     "output_type": "execute_result"
    }
   ],
   "source": [
    "def solution(s,t):\n",
    "    ans = len(t)\n",
    "    for j in t:\n",
    "        for i in range(1,len(s)):\n",
    "            if s[i] in j:\n",
    "                if s[i-1] not in j:\n",
    "                    print(s[i-1],s[i],j)\n",
    "                    ans -= 1\n",
    "                    break\n",
    "                elif j.index(s[i]) < j.index(s[i-1]):\n",
    "                    ans -= 1\n",
    "                    break\n",
    "    return ans\n",
    "a = \"LCFW\"\n",
    "b = [\"LC\",\"CW\",\"CASDSDSAD\",\"WRWFQFSFA\",\"pLuuunCuniii\",\"\"]\n",
    "solution(a,b)"
   ]
  },
  {
   "cell_type": "code",
   "execution_count": 43,
   "metadata": {},
   "outputs": [
    {
     "name": "stdout",
     "output_type": "stream",
     "text": [
      "1 1 Last one\n",
      "1 1 Last one\n",
      "1 1 Last one\n",
      "1 1 Last one\n"
     ]
    },
    {
     "data": {
      "text/plain": [
       "([14, 4, 1, 2, 1, 9, 8, 1, 4, 1, 1, 1, 1, 1, 0], 15, 15)"
      ]
     },
     "execution_count": 43,
     "metadata": {},
     "output_type": "execute_result"
    }
   ],
   "source": [
    "def solution(prices):\n",
    "    answer = []\n",
    "    fcount = 0\n",
    "    for i in range(len(prices)):\n",
    "        for j in range(i,len(prices)):\n",
    "            if j == len(prices) - 1 and prices[j] >= prices[i]:\n",
    "                count = j-i\n",
    "                answer.append(count)\n",
    "                print(prices[i],prices[j],\"Last one\")\n",
    "            if prices[i] > prices[j]:\n",
    "                count = j-i\n",
    "                answer.append(count)\n",
    "                break\n",
    "            \n",
    "    return answer,len(answer),len(prices)\n",
    "\n",
    "solution([1, 2, 3, 2, 3, 1, 1, 5, 4, 7, 6, 4, 3, 2, 1])"
   ]
  },
  {
   "cell_type": "code",
   "execution_count": 3,
   "metadata": {},
   "outputs": [
    {
     "data": {
      "text/plain": [
       "[2, 3, 4, 5, 6, 7]"
      ]
     },
     "execution_count": 3,
     "metadata": {},
     "output_type": "execute_result"
    }
   ],
   "source": [
    "def solution(l):\n",
    "    ans = []\n",
    "    for i in range(len(l)):\n",
    "        l2 = l[i+1:]\n",
    "        for j in range(len(l2)):\n",
    "            if l[i] + l2[j] not in ans:\n",
    "                ans.append(l[i] + l2[j])\n",
    "                \n",
    "    ans.sort()\n",
    "    return ans\n",
    "\n",
    "solution([2,1,3,4,1])"
   ]
  },
  {
   "cell_type": "code",
   "execution_count": null,
   "metadata": {},
   "outputs": [],
   "source": [
    "from itertools import combinations\n",
    "def solution(s):\n",
    "    c = combinations(s, 2)\n",
    "    ans = []\n",
    "    for i in c:\n",
    "        if (i[0]+i[1]) not in ans:\n",
    "            ans.append(i[0]+i[1])\n",
    "    ans.sort()\n",
    "    return ans"
   ]
  },
  {
   "cell_type": "code",
   "execution_count": 9,
   "metadata": {},
   "outputs": [
    {
     "name": "stdout",
     "output_type": "stream",
     "text": [
      "i is  0\n",
      "1\n",
      "i is  1\n",
      "3\n",
      "i is  2\n"
     ]
    },
    {
     "data": {
      "text/plain": [
       "([1, 10], [1, 3, 3], [1])"
      ]
     },
     "execution_count": 9,
     "metadata": {},
     "output_type": "execute_result"
    }
   ],
   "source": [
    "def solution(v):\n",
    "    visitedx = []\n",
    "    visitedy = []\n",
    "    ansx = []\n",
    "    ansy = []\n",
    "\n",
    "    for i in range(3):\n",
    "        visitedx.append(v[i][0])\n",
    "        visitedy.append(v[i][1])\n",
    "    for i in range(3):\n",
    "        print(\"i is \", i)\n",
    "        if visitedx[i] not in ansx:\n",
    "            print(visitedx[i])\n",
    "            ansx.append(visitedx[i])\n",
    "        else:\n",
    "            ansx.remove(visitedx[i])\n",
    "            \n",
    "        if visitedy[i] not in ansy:\n",
    "            ansy.append(visitedy[i])\n",
    "        else:\n",
    "            ansy.remove(visitedy[i])\n",
    "            \n",
    "    ans = [ansx[0],ansy[0]]\n",
    "    return ans,visitedx,ansx\n",
    "\n",
    "solution([[1, 4], [3, 4], [3, 10]])"
   ]
  },
  {
   "cell_type": "code",
   "execution_count": 18,
   "metadata": {},
   "outputs": [
    {
     "data": {
      "text/plain": [
       "([1, 2, 1, 2, 0, 2], 'o?o?X?')"
      ]
     },
     "execution_count": 18,
     "metadata": {},
     "output_type": "execute_result"
    }
   ],
   "source": [
    "def solution(n, delivery):\n",
    "    stock = [2]*n\n",
    "    ans = \"\"\n",
    "    for i in range(len(delivery)):\n",
    "        if delivery[i][2] == 1:\n",
    "            stock[delivery[i][0]-1] = 1\n",
    "            stock[delivery[i][1]-1] = 1\n",
    "            \n",
    "    for i in range(len(delivery)):\n",
    "        if (stock[delivery[i][0]-1] == 1 or stock[delivery[i][1]-1] == 1) and delivery[i][2] == 0:\n",
    "            if stock[delivery[i][0]-1] == 1:\n",
    "                stock[delivery[i][1]-1] = 0\n",
    "            else:\n",
    "                stock[delivery[i][0]-1] = 0\n",
    "    for i in stock:\n",
    "        if i == 1:\n",
    "            ans += \"o\"\n",
    "        elif i == 0:\n",
    "            ans += \"X\"\n",
    "        else:\n",
    "            ans += \"?\"\n",
    "    return stock,ans\n",
    "solution(6,[[1,3,1],[3,5,0],[5,4,0],[2,5,0]])"
   ]
  },
  {
   "cell_type": "code",
   "execution_count": 62,
   "metadata": {},
   "outputs": [
    {
     "name": "stdout",
     "output_type": "stream",
     "text": [
      "-2 1 2 b c\n",
      "y\n"
     ]
    },
    {
     "data": {
      "text/plain": [
       "('b', 'y')"
      ]
     },
     "execution_count": 62,
     "metadata": {},
     "output_type": "execute_result"
    }
   ],
   "source": [
    "import string\n",
    "def solution(et, key, nr):\n",
    "    if nr > len(et):\n",
    "        if nr%len(et) == 0:\n",
    "            pass\n",
    "    else:\n",
    "        nr = nr%len(et)\n",
    "        et = et[nr:] + et[:nr]\n",
    "    alphabet = list(string.ascii_lowercase)\n",
    "    ans = \"\"\n",
    "    for i in range(len(et)):\n",
    "        num = alphabet.index(et[i]) - alphabet.index(key[i])-1\n",
    "        print(num,alphabet.index(et[i]),alphabet.index(key[i]),et[i],key[i])\n",
    "        print(alphabet[num])\n",
    "        ans += alphabet[num]\n",
    "    return et,ans\n",
    "\n",
    "#solution(\"qyyigoptvfb\",\"abcdefghijk\",3)\n",
    "solution(\"b\",\"c\",1)"
   ]
  },
  {
   "cell_type": "code",
   "execution_count": 187,
   "metadata": {},
   "outputs": [
    {
     "name": "stdout",
     "output_type": "stream",
     "text": [
      "['a', 's', 'd', 'a', 's', 'd', 'a', 's', 'd', 'q', 'w', 'e', 'q', 'w', 'e', 'c', 'z', 'x', 'c', 'z', 'h', 'r', 't', 'h', 'r', 'f', 'a', 's', 'd', 'a', 's', 'd', 'a', 's', 'd', 'd', '']\n",
      "asdasdasdqweqweczxczhrthrfasdasdas2d \n",
      "\n",
      "['as', 'da', 'sd', 'as', 'dq', 'we', 'qw', 'ec', 'zx', 'cz', 'hr', 'th', 'rf', 'as', 'da', 'sd', 'as', 'dd', '']\n",
      "asdasdasdqweqweczxczhrthrfasdasdasdd \n",
      "\n",
      "['asd', 'asd', 'asd', 'qwe', 'qwe', 'czx', 'czh', 'rth', 'rfa', 'sda', 'sda', 'sdd', '']\n",
      "3asd2qweczxczhrthrfa2sdasdd \n",
      "\n",
      "['asda', 'sdas', 'dqwe', 'qwec', 'zxcz', 'hrth', 'rfas', 'dasd', 'asdd', '']\n",
      "asdasdasdqweqweczxczhrthrfasdasdasdd \n",
      "\n",
      "['asdas', 'dasdq', 'weqwe', 'czxcz', 'hrthr', 'fasda', 'sdasd', 'd']\n",
      "asdasdasdqweqweczxczhrthrfasdasdasdd \n",
      "\n",
      "['asdasd', 'asdqwe', 'qweczx', 'czhrth', 'rfasda', 'sdasdd', '']\n",
      "asdasdasdqweqweczxczhrthrfasdasdasdd \n",
      "\n",
      "['asdasda', 'sdqweqw', 'eczxczh', 'rthrfas', 'dasdasd', 'd']\n",
      "asdasdasdqweqweczxczhrthrfasdasdasdd \n",
      "\n",
      "['asdasdas', 'dqweqwec', 'zxczhrth', 'rfasdasd', 'asdd']\n",
      "asdasdasdqweqweczxczhrthrfasdasdasdd \n",
      "\n",
      "['asdasdasd', 'qweqweczx', 'czhrthrfa', 'sdasdasdd', '']\n",
      "asdasdasdqweqweczxczhrthrfasdasdasdd \n",
      "\n",
      "['asdasdasdq', 'weqweczxcz', 'hrthrfasda', 'sdasdd']\n",
      "asdasdasdqweqweczxczhrthrfasdasdasdd \n",
      "\n",
      "['asdasdasdqw', 'eqweczxczhr', 'thrfasdasda', 'sdd']\n",
      "asdasdasdqweqweczxczhrthrfasdasdasdd \n",
      "\n",
      "['asdasdasdqwe', 'qweczxczhrth', 'rfasdasdasdd', '']\n",
      "asdasdasdqweqweczxczhrthrfasdasdasdd \n",
      "\n",
      "['asdasdasdqweq', 'weczxczhrthrf', 'asdasdasdd']\n",
      "asdasdasdqweqweczxczhrthrfasdasdasdd \n",
      "\n",
      "['asdasdasdqweqw', 'eczxczhrthrfas', 'dasdasdd']\n",
      "asdasdasdqweqweczxczhrthrfasdasdasdd \n",
      "\n",
      "['asdasdasdqweqwe', 'czxczhrthrfasda', 'sdasdd']\n",
      "asdasdasdqweqweczxczhrthrfasdasdasdd \n",
      "\n",
      "['asdasdasdqweqwec', 'zxczhrthrfasdasd', 'asdd']\n",
      "asdasdasdqweqweczxczhrthrfasdasdasdd \n",
      "\n",
      "['asdasdasdqweqwecz', 'xczhrthrfasdasdas', 'dd']\n",
      "asdasdasdqweqweczxczhrthrfasdasdasdd \n",
      "\n",
      "['asdasdasdqweqweczx', 'czhrthrfasdasdasdd', '']\n",
      "asdasdasdqweqweczxczhrthrfasdasdasdd \n",
      "\n"
     ]
    },
    {
     "data": {
      "text/plain": [
       "(range(1, 19),\n",
       " ['q', 'z', 'r', 'x', 'w', 's', 'c', 'e', 'h', 't', 'd', 'f', 'a'],\n",
       " [36, 36, 27, 36, 36, 36, 36, 36, 36, 36, 36, 36, 36, 36, 36, 36, 36, 36],\n",
       " 27)"
      ]
     },
     "execution_count": 187,
     "metadata": {},
     "output_type": "execute_result"
    }
   ],
   "source": [
    "#kakao 2020 blind 문자열 압축\n",
    "\n",
    "def solution(s):\n",
    "    if len(s) <= 1:\n",
    "        if len(s) == 0:\n",
    "            return 0\n",
    "        return 1\n",
    "    n = len(s)\n",
    "    cs = []\n",
    "    voca = list(set(s))\n",
    "    cs = range(1,int(n/2)+1)\n",
    "    ans = []\n",
    "    for i in cs:\n",
    "        cut = []\n",
    "        pre = 0\n",
    "        rep = 1\n",
    "        sent = \"\"\n",
    "        for j in range((int(len(s)/i))+1):\n",
    "            cut.append(s[pre:pre+i])\n",
    "            pre += i\n",
    "        print(cut)\n",
    "        if cut[len(cut)-1] != \"\":\n",
    "            cut.append(\"\")\n",
    "        for k in range(1,len(cut)):\n",
    "            if cut[k] == cut[k-1]:\n",
    "                rep += 1\n",
    "            else:\n",
    "                sent += str(rep)+str(cut[k-1]) if rep >= 2 else str(cut[k-1])\n",
    "                rep = 1\n",
    "        print(sent,\"\\n\")\n",
    "\n",
    "        ans.append(len(sent))\n",
    "    return cs,voca,ans,min(ans)\n",
    "\n",
    "s = \"asdasdasdqweqweczxczhrthrfasdasdasdd\"\n",
    "solution(s)"
   ]
  },
  {
   "cell_type": "code",
   "execution_count": 93,
   "metadata": {},
   "outputs": [
    {
     "name": "stdout",
     "output_type": "stream",
     "text": [
      "pass Balance  )(()))((\n",
      "pass Balance  ()))((\n",
      "i is  2  p[:i] is  ()  p[i:] is  ))((\n",
      "pass Balance  ))((\n"
     ]
    },
    {
     "data": {
      "text/plain": [
       "'(()()())'"
      ]
     },
     "execution_count": 93,
     "metadata": {},
     "output_type": "execute_result"
    }
   ],
   "source": [
    "#kakao 2020 blind 괄호변환\n",
    "\n",
    "def solution(p):\n",
    "    ans = \"\"\n",
    "    if len(p) == 0:\n",
    "        return ans\n",
    "    \n",
    "    if Balance(p):\n",
    "        if Correctness(p):\n",
    "            return p\n",
    "    \n",
    "    for i in range(len(p)+1):\n",
    "        if Balance(p[:i]):\n",
    "            if Correctness(p[:i]):\n",
    "                return p[:i] + solution(p[i:]) \n",
    "            else:\n",
    "                return \"(\" + solution(p[i:]) +\")\" + Change(p[1:i-1])\n",
    "    return ans\n",
    "\n",
    "def Balance(p):\n",
    "    if len(p) != 0:\n",
    "        if p.count(\"(\") == p.count(\")\"):\n",
    "            return True\n",
    "    return False\n",
    "\n",
    "def Correctness(p):\n",
    "    stack = len(p)/2\n",
    "    for i in range(len(p)):\n",
    "        if p[i] == \"(\":\n",
    "            for j in range(i+1,len(p)):\n",
    "                if p[j] == \")\":\n",
    "                    stack -= 1\n",
    "                    break\n",
    "    if stack == 0:\n",
    "        return True\n",
    "    return False\n",
    "\n",
    "def Change(p):\n",
    "    changedP = []\n",
    "    for i in range(len(p)):\n",
    "        if p[i] == \"(\":\n",
    "            changedP.append(\")\")\n",
    "        elif p[i] == \")\":\n",
    "            changedP.append(\"(\")\n",
    "    return \"\".join(changedP)\n",
    "\n",
    "\n",
    "solution(\")(()))((\")"
   ]
  },
  {
   "cell_type": "code",
   "execution_count": 189,
   "metadata": {},
   "outputs": [
    {
     "data": {
      "text/plain": [
       "([3, 3, 4, 1, 7], ['fro', '', 'fr', 'fro', ''], ['', 'o', '', '', ''], 40)"
      ]
     },
     "execution_count": 189,
     "metadata": {},
     "output_type": "execute_result"
    }
   ],
   "source": [
    "#2020 Kakao blind coding test 가사찾기\n",
    "\n",
    "def solution(words, queries):\n",
    "    rend = []\n",
    "    lend = []\n",
    "    for q in queries:\n",
    "        i = q.index(\"?\")\n",
    "        j = q.rindex(\"?\")\n",
    "        if q[:i].count(\"?\") == 0 and len(q[:i]) != 0:\n",
    "            s = q[:i]\n",
    "            lend.append(s)\n",
    "            rend.append(\"\")\n",
    "        else:\n",
    "            s = q[j+1:]\n",
    "            rend.append(s)\n",
    "            lend.append(\"\")\n",
    "            \n",
    "    count = 0\n",
    "    tcount = 0\n",
    "    ans = []\n",
    "    for i in range(len(queries)):\n",
    "        for j in range(len(words)):\n",
    "            if len(words[j]) == len(queries[i]) and words[j].startswith(lend[i]) and lend[i] != \"\":\n",
    "                count += 1\n",
    "            if len(words[j]) == len(queries[i]) and words[j].endswith(rend[i]) and rend[i] != \"\":\n",
    "                count += 1\n",
    "            tcount += 1\n",
    "        ans.append(count)\n",
    "        count = 0\n",
    "    for i in range(len(queries)):\n",
    "        if queries[i].count(\"?\") == len(queries[i]):\n",
    "            fcount = 0\n",
    "            for j in words:\n",
    "                if len(j) == len(queries[i]):\n",
    "                    fcount += 1\n",
    "            ans[i] = fcount\n",
    "    return ans,lend,rend,tcount\n",
    "\n",
    "words = [\"frodo\", \"front\", \"frost\", \"frozen\", \"frame\", \"kakao\",\"Ohfho\",\"orodK\"]\n",
    "queries = [\"fro??\", \"????o\", \"fr???\", \"fro???\",\"?????\"]\n",
    "\n",
    "solution(words, queries)"
   ]
  },
  {
   "cell_type": "code",
   "execution_count": 167,
   "metadata": {
    "scrolled": true
   },
   "outputs": [
    {
     "data": {
      "text/plain": [
       "(False,\n",
       " [[0, 0, 0, 0, 0, 0, 0, 0, 0],\n",
       "  [0, 0, 0, 0, 0, 0, 0, 0, 0],\n",
       "  [0, 0, 0, 0, 0, 0, 0, 0, 0],\n",
       "  [0, 0, 0, 1, 1, 1, 0, 0, 0],\n",
       "  [0, 0, 0, 1, 1, 0, 0, 0, 0],\n",
       "  [0, 0, 0, 1, 0, 1, 0, 0, 0],\n",
       "  [0, 0, 0, 0, 0, 0, 0, 0, 0],\n",
       "  [0, 0, 0, 0, 0, 0, 0, 0, 0],\n",
       "  [0, 0, 0, 0, 0, 0, 0, 0, 0]],\n",
       " 2)"
      ]
     },
     "execution_count": 167,
     "metadata": {},
     "output_type": "execute_result"
    }
   ],
   "source": [
    "#kakao 2020 자물쇠와 열쇠\n",
    "\n",
    "def solution(key, lock):\n",
    "    board = []\n",
    "    n = len(lock)\n",
    "    m = len(key)\n",
    "    \n",
    "    for i in range(3*n):\n",
    "        line = []\n",
    "        for j in range(3*n):\n",
    "            if i in range(n,2*n) and j in range(n,2*n):\n",
    "                line.append(lock[i-n][j-n])\n",
    "            else:\n",
    "                line.append(0)\n",
    "        board.append(line)\n",
    "    \n",
    "    xindex = 0\n",
    "    yindex = 0\n",
    "    for i in range(3*n):\n",
    "        for j in range(3*n):\n",
    "            if i in range(n,2*n) and j in range(n,2*n):\n",
    "    \n",
    "    \n",
    "    count = 3*n\n",
    "    \n",
    "    for i in range(3*n):\n",
    "        for j in range(3*n):\n",
    "            if i in range(n,2*n) and j in range(n,2*n):\n",
    "                if board[i][j] == 1:\n",
    "                    count -= 1\n",
    "    if count == 0:\n",
    "        return True\n",
    "    return False,board,count\n",
    "\n",
    "key = [[0, 0, 0], [1, 0, 0], [0, 1, 1]]\n",
    "lock = [[1, 1, 1], [1, 1, 0], [1, 0, 1]]\n",
    "solution(key, lock)"
   ]
  },
  {
   "cell_type": "code",
   "execution_count": 172,
   "metadata": {},
   "outputs": [
    {
     "data": {
      "text/plain": [
       "[[0, 0, 0, 0, 0, 0, 0],\n",
       " [0, 0, 0, 0, 0, 0, 0],\n",
       " [0, 0, 0, 0, 0, 0, 0],\n",
       " [0, 0, 0, 0, 0, 0, 0],\n",
       " [0, 0, 0, 0, 0, 0, 0],\n",
       " [0, 0, 0, 0, 0, 0, 0],\n",
       " [0, 0, 0, 0, 0, 0, 0]]"
      ]
     },
     "execution_count": 172,
     "metadata": {},
     "output_type": "execute_result"
    }
   ],
   "source": [
    "zeros = [[0 for _ in range(3)] for _ in range(3)]\n",
    "pad_ud = [[0 for _ in range(3+(3-1)*2)] for _ in range(3-1)]\n",
    "pad_lr = [0 for _ in range(3-1)]\n",
    "\n",
    "pad_ud + [pad_lr+row+pad_lr for row in zeros] + pad_ud"
   ]
  },
  {
   "cell_type": "code",
   "execution_count": 173,
   "metadata": {},
   "outputs": [
    {
     "data": {
      "text/plain": [
       "True"
      ]
     },
     "execution_count": 173,
     "metadata": {},
     "output_type": "execute_result"
    }
   ],
   "source": [
    "def rotate(key): \n",
    "    return list(zip(*key[::-1])) \n",
    "\n",
    "def padding(M, N): \n",
    "    zeros = [[0 for _ in range(N)] for _ in range(N)] \n",
    "    pad_ud = [[0 for _ in range(N+(M-1)*2)] for _ in range(M-1)] \n",
    "    pad_lr = [0 for _ in range(M-1)] \n",
    "    return pad_ud + [pad_lr+row+pad_lr for row in zeros] + pad_ud \n",
    "\n",
    "def check(key, lock): \n",
    "    if key == [[1 if v == 0 else 0 for v in row] for row in lock]:\n",
    "        return True \n",
    "    return False \n",
    "\n",
    "def slide(i, j, M, pad_N): \n",
    "    if j < pad_N - M: \n",
    "        return i, j+1 \n",
    "    elif i < pad_N - M: \n",
    "        return i+1, 0 \n",
    "    else: \n",
    "        return -1, -1 \n",
    "\n",
    "def merge(pad_key, key, i, j): \n",
    "    copy_key = pad_key[:] \n",
    "    for row in range(len(pad_key)): \n",
    "        if not i <= row < i+len(key): \n",
    "            continue \n",
    "        for col in range(len(pad_key)): \n",
    "            if not j <= col < j+len(key): \n",
    "                continue \n",
    "            copy_key[row][col] = key[row-i][col-j] \n",
    "    return copy_key \n",
    "\n",
    "def solution(key, lock): \n",
    "    M, N = len(key), len(lock) \n",
    "    for _ in range(4): \n",
    "        i, j = 0, 0 \n",
    "        while i >= 0 and j >= 0: \n",
    "            sub_key = merge(padding(M, N), key, i, j) \n",
    "            if check([row[M:M+N] for row in sub_key[M:M+N]], lock): \n",
    "                return True \n",
    "            i, j = slide(i, j, len(key), len(sub_key)) \n",
    "        key = rotate(key) \n",
    "    return False\n",
    "\n",
    "key = [[0, 0, 0], [1, 0, 0], [0, 1, 1]]\n",
    "lock = [[1, 1, 1], [1, 1, 0], [1, 0, 1]]\n",
    "solution(key, lock)"
   ]
  },
  {
   "cell_type": "code",
   "execution_count": 305,
   "metadata": {},
   "outputs": [
    {
     "name": "stdout",
     "output_type": "stream",
     "text": [
      "[[111], [20, 111]]\n",
      "['{20,111', '{111}']\n"
     ]
    },
    {
     "data": {
      "text/plain": [
       "True"
      ]
     },
     "execution_count": 305,
     "metadata": {},
     "output_type": "execute_result"
    }
   ],
   "source": [
    "#2019 카카오 겨울 추천팀 인턴 코테 2번 튜플\n",
    "\n",
    "def solution(s):\n",
    "    ans = []\n",
    "    s = s[1:len(s)-1]\n",
    "    sl = s.split('},')\n",
    "    print(sl)\n",
    "    fs = []\n",
    "    for i in range(len(sl)):\n",
    "        fs.append(sl[i].split(\",\"))\n",
    "    \n",
    "    for i in range(len(fs)):\n",
    "        for j in range(len(fs[i])):\n",
    "            if fs[i][j][0] == \"{\":\n",
    "                fs[i][j] = fs[i][j][1:]\n",
    "            if fs[i][j][len(fs[i][j])-1] == \"}\":\n",
    "                fs[i][j] = fs[i][j][:len(fs[i][j])-1]\n",
    "    \n",
    "    fs = sorted(fs, key = len)\n",
    "    \n",
    "    ints = []\n",
    "    for i in range(len(fs)):\n",
    "        ith = []\n",
    "        for j in range(len(fs[i])):\n",
    "            ith.append(int(fs[i][j]))\n",
    "        ints.append(ith)\n",
    "\n",
    "        \n",
    "    for i in range(len(ints)):\n",
    "        for j in range(len(ints[i])):\n",
    "            if ints[i][j] not in ans:\n",
    "                ans.append(ints[i][j])\n",
    "\n",
    "    return ans\n",
    "\n",
    "def solutionbetter(s):\n",
    "    ans = []\n",
    "    cs = s.replace(\"{\",\"[\")\n",
    "    cs = cs.replace(\"}\",\"]\")\n",
    "    fs = eval(cs)\n",
    "    fs = sorted(fs, key = len)\n",
    "    print(fs)\n",
    "    for i in range(len(fs)):\n",
    "        for j in range(len(fs[i])):\n",
    "            if fs[i][j] not in ans:\n",
    "                ans.append(fs[i][j])\n",
    "    return ans\n",
    "    \n",
    "    \n",
    "s= \"{{20,111},{111}}\"\n",
    "solutionbetter(s) == solution(s)"
   ]
  },
  {
   "cell_type": "code",
   "execution_count": 363,
   "metadata": {},
   "outputs": [
    {
     "name": "stdout",
     "output_type": "stream",
     "text": [
      "[['frodo', 'fradi'], ['frodo', 'crodo'], ['abc123', 'frodoc'], ['abc123', 'frodoc']]\n",
      "frodo frodo abc123 abc123 \n",
      "frodo frodo abc123 frodoc \n",
      "frodo frodo frodoc abc123 \n",
      "frodo frodo frodoc frodoc \n",
      "frodo crodo abc123 abc123 \n",
      "frodo crodo abc123 frodoc \n",
      "frodo crodo frodoc abc123 \n",
      "frodo crodo frodoc frodoc \n",
      "fradi frodo abc123 abc123 \n",
      "fradi frodo abc123 frodoc \n",
      "fradi frodo frodoc abc123 \n",
      "fradi frodo frodoc frodoc \n",
      "fradi crodo abc123 abc123 \n",
      "fradi crodo abc123 frodoc \n",
      "fradi crodo frodoc abc123 \n",
      "fradi crodo frodoc frodoc \n"
     ]
    },
    {
     "data": {
      "text/plain": [
       "[(['frodo', 'fradi'],\n",
       "  ['frodo', 'crodo'],\n",
       "  ['abc123', 'frodoc'],\n",
       "  ['abc123', 'frodoc'])]"
      ]
     },
     "execution_count": 363,
     "metadata": {},
     "output_type": "execute_result"
    }
   ],
   "source": [
    "#2019 카카오 겨울 추천팀 인턴 코테 3번 불량 사용자\n",
    "import itertools\n",
    "def solution(user_id, banned_id):\n",
    "    fits = []\n",
    "    idlist = []\n",
    "    for i in range(len(banned_id)):\n",
    "        q = len(banned_id[i])\n",
    "        numNeedsFill = q- banned_id[i].count(\"*\")\n",
    "        numfits = 0\n",
    "        ith = []\n",
    "        for j in range(len(user_id)):\n",
    "            currentMet = 0\n",
    "            if len(user_id[j]) == q:\n",
    "                if numNeedsFill != 0:\n",
    "                    for k in range(len(user_id[j])):\n",
    "                        if banned_id[i][k] == user_id[j][k]:\n",
    "                            currentMet += 1\n",
    "            if numNeedsFill != 0:    \n",
    "                if numNeedsFill == currentMet:\n",
    "                    numfits += 1\n",
    "                    ith.append(user_id[j])\n",
    "            numNeedsFill = q - banned_id[i].count(\"*\")\n",
    "        if numNeedsFill == 0:\n",
    "            for j in user_id:\n",
    "                if len(j) == q:\n",
    "                    numfits += 1\n",
    "                    ith.append(j)\n",
    "        fits.append(numfits)\n",
    "        idlist.append(ith)\n",
    "    ans = list(itertools.combinations(idlist, len(fits)))\n",
    "    print(idlist)\n",
    "    \n",
    "    print1(idlist)\n",
    "    return ans\n",
    "\n",
    "def print1(arr):\n",
    "     \n",
    "    # number of arrays\n",
    "    n = len(arr)\n",
    " \n",
    "    # to keep track of next element \n",
    "    # in each of the n arrays\n",
    "    indices = [0 for i in range(n)]\n",
    " \n",
    "    while (1):\n",
    " \n",
    "        # prcurrent combination\n",
    "        for i in range(n):\n",
    "            print(arr[i][indices[i]], end = \" \")\n",
    "        print()\n",
    " \n",
    "        # find the rightmost array that has more\n",
    "        # elements left after the current element\n",
    "        # in that array\n",
    "        next = n - 1\n",
    "        while (next >= 0 and\n",
    "              (indices[next] + 1 >= len(arr[next]))):\n",
    "            next-=1\n",
    " \n",
    "        # no such array is found so no more\n",
    "        # combinations left\n",
    "        if (next < 0):\n",
    "            return\n",
    " \n",
    "        # if found move to next element in that\n",
    "        # array\n",
    "        indices[next] += 1\n",
    " \n",
    "        # for all arrays to the right of this\n",
    "        # array current index again points to\n",
    "        # first element\n",
    "        for i in range(next + 1, n):\n",
    "            indices[i] = 0\n",
    "        \n",
    "    \n",
    "u = [\"frodo\", \"fradi\", \"crodo\", \"abc123\", \"frodoc\"]\n",
    "b = [\"fr*d*\", \"*rodo\", \"******\", \"******\"]\n",
    "solution(u,b)"
   ]
  },
  {
   "cell_type": "code",
   "execution_count": 53,
   "metadata": {},
   "outputs": [
    {
     "name": "stdout",
     "output_type": "stream",
     "text": [
      "[[1], [2], [3], [4], [5, 6, 7, 8, 9]]\n",
      "9 15\n",
      "[[1], [2, 12], [3, 11], [4, 10], [5, 6, 7, 8, 9]] 2\n",
      "[[1], [2, 12], [3, 11, 13], [4, 10, 14], [5, 6, 7, 8, 9]]\n",
      "lofl at the end\n",
      " [[1], [2, 12], [3, 11, 13], [4, 10, 14, 15], [5, 6, 7, 8, 9]]\n"
     ]
    },
    {
     "data": {
      "text/plain": [
       "([[1], [2, 12], [3, 11, 13], [4, 10, 14, 15], [5, 6, 7, 8, 9]], 0)"
      ]
     },
     "execution_count": 53,
     "metadata": {},
     "output_type": "execute_result"
    }
   ],
   "source": [
    "#프로그래머스 레벨2 삼각 달팽이\n",
    "\n",
    "def solution(n):\n",
    "    ans = []\n",
    "    \n",
    "    lofl = [[] for x in range(n)]\n",
    "    \n",
    "    for i in range(n):\n",
    "        if i != 0:\n",
    "            lofl[i-1].append(i)\n",
    "    for i in range(n,2*n):\n",
    "        lofl[n-1].append(i)\n",
    "        \n",
    "    left = 0\n",
    "    for i in range(n+1):\n",
    "        left += i\n",
    "        \n",
    "    end = left\n",
    "    print(lofl)\n",
    "    \n",
    "    left -= 2*n-1\n",
    "    nextInt = 2*n\n",
    "    \n",
    "    floor = n-2\n",
    "    ceiling = 1\n",
    "    current = n - 2\n",
    "    \n",
    "    print(nextInt-1, end)\n",
    "    \n",
    "    while left != 0:\n",
    "        for i in range(ceiling, floor+1):\n",
    "            lofl[current].append(nextInt)\n",
    "            nextInt += 1\n",
    "            left -= 1\n",
    "            current -=1\n",
    "        current += 2\n",
    "        print(lofl,current)\n",
    "\n",
    "        ceiling += 1\n",
    "        for i in range(ceiling, floor+1):\n",
    "            lofl[current].append(nextInt) \n",
    "            nextInt += 1\n",
    "            left -= 1\n",
    "            current +=1\n",
    "\n",
    "        print(lofl)\n",
    "\n",
    "        while len(lofl[floor]) != floor+1:\n",
    "            lofl[floor].append(nextInt)\n",
    "            nextInt += 1\n",
    "            left -= 1\n",
    "            \n",
    "        floor += 1\n",
    "        \n",
    "        print(\"lofl at the end\\n\",lofl)\n",
    "    return lofl,left\n",
    "\n",
    "solution(5)"
   ]
  },
  {
   "cell_type": "code",
   "execution_count": 9,
   "metadata": {},
   "outputs": [
    {
     "data": {
      "text/plain": [
       "([1, 2, 3], [2, 2, 2])"
      ]
     },
     "execution_count": 9,
     "metadata": {},
     "output_type": "execute_result"
    }
   ],
   "source": [
    "def solution(answers):\n",
    "    oneToThr = [0,0,0]\n",
    "    length = len(answers)\n",
    "    pattern1 = [1,2,3,4,5]\n",
    "    pattern2 = [2, 1, 2, 3, 2, 4, 2, 5]\n",
    "    pattern3 = [3, 3, 1, 1, 2, 2, 4, 4, 5, 5]\n",
    "    fcount, scount, tcount = 0,0,0\n",
    "    \n",
    "    for i in range(len(answers)):\n",
    "        f = i%len(pattern1)\n",
    "        s = i%len(pattern2)\n",
    "        t = i%len(pattern3)\n",
    "        \n",
    "        if answers[i] == pattern1[f]:\n",
    "            fcount += 1\n",
    "        if answers[i] == pattern2[s]:\n",
    "            scount += 1\n",
    "        if answers[i] == pattern3[t]:\n",
    "            tcount += 1\n",
    "\n",
    "    ans = [fcount,scount, tcount]\n",
    "    answer = [index+1 for index, value in enumerate(ans) if value == max(ans)]\n",
    "    \n",
    "    return answer,ans\n",
    "\n",
    "solution([1,3,2,4,2])"
   ]
  },
  {
   "cell_type": "code",
   "execution_count": 13,
   "metadata": {},
   "outputs": [
    {
     "data": {
      "text/plain": [
       "(28, [1, 2, 3, 4, 6, 12])"
      ]
     },
     "execution_count": 13,
     "metadata": {},
     "output_type": "execute_result"
    }
   ],
   "source": [
    "def solution(n):\n",
    "    divisors = []\n",
    "    for i in range(1,n+1):\n",
    "        if n%i == 0:\n",
    "            divisors.append(i)\n",
    "    answer = sum(divisors)\n",
    "    return answer,divisors\n",
    "solution(12)"
   ]
  },
  {
   "cell_type": "code",
   "execution_count": 48,
   "metadata": {
    "scrolled": true
   },
   "outputs": [
    {
     "name": "stdout",
     "output_type": "stream",
     "text": [
      "[[0, 0, 0, 0, 0, 0], [0, 0, 0, 0, 0, 0], [0, 0, 0, 0, 0, 0], [0, 0, 0, 0, 0, 0], [0, 0, 0, 0, 0, 0], [0, 0, 0, 0, 0, 0]]\n"
     ]
    },
    {
     "data": {
      "text/plain": [
       "([[1, 0, 0, 0, 0, 0],\n",
       "  [2, 15, 0, 0, 0, 0],\n",
       "  [3, 16, 14, 0, 0, 0],\n",
       "  [4, 17, 21, 13, 0, 0],\n",
       "  [5, 18, 19, 20, 12, 0],\n",
       "  [6, 7, 8, 9, 10, 11]],\n",
       " [1, 2, 15, 3, 16, 14, 4, 17, 21, 13, 5, 18, 19, 20, 12, 6, 7, 8, 9, 10, 11])"
      ]
     },
     "execution_count": 48,
     "metadata": {},
     "output_type": "execute_result"
    }
   ],
   "source": [
    "def solution(n):\n",
    "    maps = [[0 for x in range(n)] for y in range(n)]\n",
    "    \n",
    "    print(maps)\n",
    "    y,x, number = -1, 0, 1\n",
    "    \n",
    "    for i in range(n):\n",
    "        for j in range(i,n):\n",
    "            if i%3 == 0:\n",
    "                y += 1\n",
    "            elif i%3 == 1:\n",
    "                x += 1\n",
    "            elif i%3 == 2:\n",
    "                x -= 1\n",
    "                y -= 1\n",
    "            maps[y][x] = number\n",
    "            number += 1\n",
    "    ans = []\n",
    "    \n",
    "    for i in range(len(maps)):\n",
    "        for j in range(len(maps[i])):\n",
    "            if maps[i][j] != 0:\n",
    "                ans.append(maps[i][j])\n",
    "    # Wonder how much of difference there could be between this and chain\n",
    "    # to use chain, I gotta import chain from itertools\n",
    "    \n",
    "    return maps,ans\n",
    "solution(6)"
   ]
  },
  {
   "cell_type": "code",
   "execution_count": 37,
   "metadata": {},
   "outputs": [
    {
     "name": "stdout",
     "output_type": "stream",
     "text": [
      "What is about to be added [10, 10] 3\n",
      "[10, 20, 20, 10, 10, 30, 50, 10, 20]\n",
      "What is about to be added [20, 20] 2\n",
      "[20, 20, 10, 30, 50, 10, 20]\n",
      "What is about to be added [10, 10] 5\n",
      "[10, 30, 50, 10, 20]\n"
     ]
    },
    {
     "data": {
      "text/plain": [
       "(3, [[10, 10], [20, 20], [10, 10]], [10, 20, 10, 30, 50, 20])"
      ]
     },
     "execution_count": 37,
     "metadata": {},
     "output_type": "execute_result"
    }
   ],
   "source": [
    "def solution(n,ar):\n",
    "    cur = 0\n",
    "    paired = []\n",
    "    left = []\n",
    "    pair = 0\n",
    "    \n",
    "    while cur != n:\n",
    "        curPsize = len(paired)\n",
    "        for i in range(cur, len(ar)):\n",
    "            #print(\"ar[cur:n]\",ar[cur:n])\n",
    "            if cur < i and ar[cur] == ar[i]:\n",
    "                paired.append([ar[cur],ar[i]])\n",
    "                print(\"What is about to be added\",[ar[cur], ar[i]],i)\n",
    "                print(ar[cur:])\n",
    "                del ar[i]\n",
    "                cur += 1\n",
    "                break\n",
    "        if curPsize == len(paired):\n",
    "            cur+=1\n",
    "            \n",
    "    return len(paired),paired, ar\n",
    "\n",
    "\n",
    "solution(9,[10, 20, 20, 10, 10, 30, 50, 10, 20])"
   ]
  },
  {
   "cell_type": "code",
   "execution_count": 76,
   "metadata": {},
   "outputs": [
    {
     "name": "stdout",
     "output_type": "stream",
     "text": [
      "a 1e+28 1 1e+28\n",
      "\n"
     ]
    },
    {
     "data": {
      "text/plain": [
       "1e+28"
      ]
     },
     "execution_count": 76,
     "metadata": {},
     "output_type": "execute_result"
    }
   ],
   "source": [
    "#HackerRank beginner's challenge\n",
    "#finding the number of a in the infinitely repeated string\n",
    "\n",
    "import math\n",
    "\n",
    "def solution(s,n):\n",
    "    mplyer = n/len(s)\n",
    "    addi = n%len(s)\n",
    "    ans = s.count(\"a\")*mplyer\n",
    "    print(s, ans,s.count(\"a\"),mplyer)\n",
    "    ans += s[:addi].count(\"a\")\n",
    "    print(s[:addi])\n",
    "    return ans\n",
    "\n",
    "p = \"a\"\n",
    "n = 10000000000000000000000000000\n",
    "solution(p,n)"
   ]
  },
  {
   "cell_type": "code",
   "execution_count": 93,
   "metadata": {},
   "outputs": [
    {
     "name": "stdout",
     "output_type": "stream",
     "text": [
      "11 1\n"
     ]
    },
    {
     "data": {
      "text/plain": [
       "(['0', '1', '1', '1'], '12', '2')"
      ]
     },
     "execution_count": 93,
     "metadata": {},
     "output_type": "execute_result"
    }
   ],
   "source": [
    "#프로그래머스 레벨2 124 나라의 숫자\n",
    "\n",
    "def country124(n):\n",
    "    possi = [1,2,4]\n",
    "    if n > 3:\n",
    "        l = [\"4\" for i in range(int(n/3))]\n",
    "    else:\n",
    "        return possi[n-1]\n",
    "    \n",
    "    if n%3 == 1:\n",
    "        l.append(\"1\")\n",
    "    if n%3 == 2:\n",
    "        l.append(\"2\")\n",
    "    if l[1] == \"1\":\n",
    "        curnum = \"11\"\n",
    "    elif l[1] == \"2\":\n",
    "        curnum =\"12\"\n",
    "    elif l[1] == \"4\":\n",
    "        curnum = \"14\"\n",
    "\n",
    "    curnum = \"11\"\n",
    "    l = [\"0\",\"1\",\"1\",\"1\"]\n",
    "    \n",
    "    print(curnum,curnum[:len(curnum)-1])\n",
    "        \n",
    "    for i in range(2,len(l)):\n",
    "        if curnum[len(curnum)-1] == \"1\" and l[i] == \"1\":\n",
    "            curnum = curnum[:len(curnum)-1] + \"2\"\n",
    "        elif curnum%10 == 1 and l[i] == 2:\n",
    "            curnum += 3\n",
    "        #elif curnum%10 == 4 and l[i] == 4:\n",
    "         #   curnum += 7\n",
    "            \n",
    "            \n",
    "    return l, curnum,curnum[1]\n",
    "\n",
    "country124(14)"
   ]
  },
  {
   "cell_type": "code",
   "execution_count": 23,
   "metadata": {},
   "outputs": [
    {
     "data": {
      "text/plain": [
       "'22'"
      ]
     },
     "execution_count": 23,
     "metadata": {},
     "output_type": "execute_result"
    }
   ],
   "source": [
    "def solution(n):\n",
    "    answer = \"\"\n",
    "    while n > 0:\n",
    "        n -= 1\n",
    "        answer = \"124\"[n%3] + answer\n",
    "        n //= 3\n",
    "    return answer\n",
    "\n",
    "solution(8)"
   ]
  },
  {
   "cell_type": "code",
   "execution_count": 31,
   "metadata": {},
   "outputs": [
    {
     "name": "stdout",
     "output_type": "stream",
     "text": [
      "1 3\n"
     ]
    },
    {
     "data": {
      "text/plain": [
       "3"
      ]
     },
     "execution_count": 31,
     "metadata": {},
     "output_type": "execute_result"
    }
   ],
   "source": [
    "#q1\n",
    "from itertools import combinations\n",
    "def diverseDeputation(m, w):\n",
    "    # Write your code here\n",
    "    mOrw = []\n",
    "    ml = []\n",
    "    wl = []\n",
    "    for i in range(m):\n",
    "        mOrw.append(\"m\"+str(i))\n",
    "        ml.append(\"m\"+str(i))\n",
    "    for i in range(w):\n",
    "        mOrw.append(\"w\"+str(i))\n",
    "        wl.append(\"w\"+str(i))\n",
    "    \n",
    "    mOrwCom = list(combinations(mOrw, 3))\n",
    "    ans = 0\n",
    "    \n",
    "    for i in mOrwCom:\n",
    "        bOrNot = False\n",
    "        for j in range(len(ml)):\n",
    "            if ml[j] in i:\n",
    "                for k in range(len(wl)):\n",
    "                    if wl[k] in i:\n",
    "                        ans += 1\n",
    "                        bOrNot = True\n",
    "                        break\n",
    "                if bOrNot == True:\n",
    "                    break\n",
    "                    \n",
    "from math import factorial  \n",
    "def solution2(m,w):\n",
    "    ans = 0\n",
    "    if m >= 1 and w >= 1:\n",
    "        if m-2 >= 0 and w-2 >= 0:\n",
    "            mcomb = int(factorial(m)/(factorial(m-2)*factorial(2)))\n",
    "            wcomb = int(factorial(w)/(factorial(w-2)*factorial(2)))\n",
    "            ans = mcomb*w + wcomb*m\n",
    "            return ans\n",
    "        elif w < 3:\n",
    "            wcomb = 1\n",
    "            mcomb = int(factorial(m)/(factorial(m-2)*factorial(2)))\n",
    "            ans = mcomb*w\n",
    "            print(wcomb, mcomb)\n",
    "            return ans\n",
    "        elif m < 3:\n",
    "            mcomb = 1\n",
    "            wcomb = int(factorial(w)/(factorial(w-2)*factorial(2)))\n",
    "            ans = wcomb*m\n",
    "            return ans\n",
    "    \n",
    "    \n",
    "    return ans \n",
    "\n",
    "solution2(3,1)"
   ]
  },
  {
   "cell_type": "code",
   "execution_count": 44,
   "metadata": {},
   "outputs": [
    {
     "data": {
      "text/plain": [
       "([[0, 1, 2], [1, 0, 1], [2, 1, 0]], [[0, 1, 9], [1, 0, 8], [9, 8, 0]])"
      ]
     },
     "execution_count": 44,
     "metadata": {},
     "output_type": "execute_result"
    }
   ],
   "source": [
    "#q3 \n",
    "import string\n",
    "def solution(source,target):\n",
    "    alphabets = string.ascii_lowercase\n",
    "    sdist = []\n",
    "    tdist = []\n",
    "    for i in range(len(source)):\n",
    "        ithdist = []\n",
    "        a = alphabets.index(source[i])\n",
    "        for j in range(len(source)):\n",
    "            b = abs(a-alphabets.index(source[j]))\n",
    "            ithdist.append(b)\n",
    "        sdist.append(ithdist)\n",
    "    for i in range(len(target)):\n",
    "        ithdist = []\n",
    "        a = alphabets.index(target[i])\n",
    "        for j in range(len(target)):\n",
    "            b = abs(a-alphabets.index(target[j]))\n",
    "            ithdist.append(b)\n",
    "        tdist.append(ithdist)\n",
    "    \n",
    "    return sdist,tdist\n",
    "u\n",
    "solution(\"abc\",\"efn\")"
   ]
  },
  {
   "cell_type": "code",
   "execution_count": 84,
   "metadata": {},
   "outputs": [
    {
     "name": "stdout",
     "output_type": "stream",
     "text": [
      "ABCDEFGHIJKLM \n",
      " AZYXWVUTSRQPON\n",
      "30\n",
      "ans after adding len(name)-1:  39\n",
      "0\n",
      "1\n",
      "8\n",
      "9\n",
      "ListOfAs: \n",
      " [7, 1]\n",
      "Acounter 4\n"
     ]
    },
    {
     "data": {
      "text/plain": [
       "39"
      ]
     },
     "execution_count": 84,
     "metadata": {},
     "output_type": "execute_result"
    }
   ],
   "source": [
    "#Programmers level2 Joysticks\n",
    "\n",
    "import string\n",
    "import math\n",
    "def solution(name):\n",
    "    alphabets = string.ascii_uppercase\n",
    "    forward = alphabets[:13]\n",
    "    backward = alphabets[13:]\n",
    "    backward = \"A\"+backward[::-1]\n",
    "    print(forward,\"\\n\",backward)\n",
    "    \n",
    "    ans = 0\n",
    "    \n",
    "    for i in range(len(name)):\n",
    "        if name[i] != \"A\" :\n",
    "            if (name[i] in forward):\n",
    "                ans += forward.index(name[i])-forward.index(\"A\")\n",
    "            else:\n",
    "                ans += (backward.index(name[i])-backward.index(\"A\"))\n",
    "    print(ans)\n",
    "    # JAAFAAAAAN\n",
    "    \n",
    "    bname = name[::-1]\n",
    "    acounter = 0\n",
    "    ans += len(name)-1\n",
    "    spos = 0\n",
    "    epos = 0\n",
    "    print(\"ans after adding len(name)-1: \", ans)\n",
    "    \n",
    "    for i in range(1,len(bname)):\n",
    "        if bname[i] == \"A\" and bname[i-1] != \"A\":\n",
    "            epos = len(name) - i\n",
    "        elif bname[i] == \"A\" and (bname[i-1] == \"A\" or i == 1):\n",
    "            acounter += 1\n",
    "        else:\n",
    "            spos = len(name)-i\n",
    "            break\n",
    "            \n",
    "            \n",
    "    listOfAs = []\n",
    "    ppos  = 0\n",
    "    while ppos != len(name):\n",
    "        print(ppos)\n",
    "        if name[ppos] == \"A\":\n",
    "            Acount = 1\n",
    "            for i in range(ppos+1, len(name)):\n",
    "                if name[i] == \"A\":\n",
    "                    Acount += 1\n",
    "                    ppos += 1\n",
    "            listOfAs.append(Acount)\n",
    "        ppos += 1\n",
    "    \n",
    "    \n",
    "    print(\"ListOfAs: \\n\",listOfAs)\n",
    "    print(\"Acounter\", acounter)\n",
    "    \n",
    "    \n",
    "    if max(listOfAs) >= 2*len(name[:spos])+len(name[epos:])-1:\n",
    "        ans -= max(listOfAs)\n",
    "        ans += len(name[:spos])-1\n",
    "        \n",
    "    if len(name) == 3 and \"A\" in name:\n",
    "        ans-=1\n",
    "    \n",
    "    return ans\n",
    "\n",
    "solution(\"JAASAAAAAN\")"
   ]
  },
  {
   "cell_type": "code",
   "execution_count": 48,
   "metadata": {},
   "outputs": [
    {
     "name": "stdout",
     "output_type": "stream",
     "text": [
      "L C CW\n",
      "L C CASDSDSAD\n",
      "C F WRWFQFSFA\n"
     ]
    },
    {
     "data": {
      "text/plain": [
       "3"
      ]
     },
     "execution_count": 48,
     "metadata": {},
     "output_type": "execute_result"
    }
   ],
   "source": [
    "#Programmers level2 Skill Tree\n",
    "\n",
    "def solution(s,t):\n",
    "    ans = len(t)\n",
    "    for j in t:\n",
    "        for i in range(1,len(s)):\n",
    "            if s[i] in j:\n",
    "                if s[i-1] not in j:\n",
    "                    print(s[i-1],s[i],j)\n",
    "                    ans -= 1\n",
    "                    break\n",
    "                elif j.index(s[i]) < j.index(s[i-1]):\n",
    "                    ans -= 1\n",
    "                    break\n",
    "    return ans\n",
    "\n",
    "a = \"LCFW\"\n",
    "b = [\"LC\",\"CW\",\"CASDSDSAD\",\"WRWFQFSFA\",\"pLuuunCuniii\",\"\"]\n",
    "solution(a,b)"
   ]
  },
  {
   "cell_type": "code",
   "execution_count": 73,
   "metadata": {},
   "outputs": [
    {
     "name": "stdout",
     "output_type": "stream",
     "text": [
      "5555555555555656\n",
      "even:  1\n",
      "odd:  5\n",
      "even:  2\n",
      "odd:  10\n",
      "even:  3\n",
      "odd:  15\n",
      "even:  4\n",
      "odd:  20\n",
      "even:  5\n",
      "odd:  25\n",
      "even:  6\n",
      "odd:  30\n",
      "even:  7\n",
      "odd:  36\n",
      "even:  8\n",
      "odd:  42\n",
      "50\n",
      "9945324569876321\n",
      "even:  9\n",
      "odd:  9\n",
      "odd:  14\n",
      "odd:  16\n",
      "odd:  21\n",
      "even:  34\n",
      "odd:  30\n",
      "even:  41\n",
      "odd:  37\n",
      "even:  44\n",
      "odd:  40\n",
      "odd:  41\n",
      "89\n",
      "6595214732850099\n",
      "even:  3\n",
      "odd:  5\n",
      "even:  12\n",
      "odd:  10\n",
      "odd:  11\n",
      "odd:  18\n",
      "odd:  20\n",
      "even:  37\n",
      "odd:  25\n",
      "odd:  25\n",
      "even:  46\n",
      "odd:  34\n",
      "80\n"
     ]
    },
    {
     "data": {
      "text/plain": [
       "[1, 0, 0, 1, 0]"
      ]
     },
     "execution_count": 73,
     "metadata": {},
     "output_type": "execute_result"
    }
   ],
   "source": [
    "#ESTsoft 코테\n",
    "\n",
    "def solution(cardnums):\n",
    "    ans = [0 for i in cardnums]\n",
    "    \n",
    "    for i in range(len(cardnums)):\n",
    "        if len(cardnums[i]) == 16 and cardnums[i].count(\"-\") == 0:\n",
    "            ans[i] = 1\n",
    "        elif len(cardnums[i]) == 19 and cardnums[i].count(\"-\") == 3:\n",
    "            pos = 0\n",
    "            counter = 0\n",
    "            for j in range(len(cardnums[i])):\n",
    "                if len(cardnums[i][pos:j]) == 4 and cardnums[i][j] == \"-\":\n",
    "                    pos = j+1\n",
    "                    counter += 1\n",
    "                if counter == 3:\n",
    "                    ans[i] = 1\n",
    "                    break\n",
    "    \n",
    "    for i in range(len(ans)):\n",
    "        if ans[i] == 1:\n",
    "            nums = cardnums[i].replace(\"-\",\"\")\n",
    "            print(nums)\n",
    "            jeven = 0\n",
    "            jodd = 0\n",
    "            for j in range(len(nums)):\n",
    "                if j%2 == 0 or j == 0:\n",
    "                    if 2*int(nums[j]) >= 10:\n",
    "                        doubled = str(2*int(nums[j]))\n",
    "                        jeven += int(doubled[0]) + int(doubled[1])\n",
    "                        print(\"even: \",jeven)\n",
    "                    else:\n",
    "                        jeven += 2*int(nums[j])\n",
    "                else:\n",
    "                    jodd += int(nums[j])\n",
    "                    print(\"odd: \",jodd)\n",
    "            print(jodd+jeven)\n",
    "            if (jodd+jeven)%10 != 0:\n",
    "                ans[i] = 0\n",
    "    return ans\n",
    "\n",
    "solution([\"5555-5555-5555-5656\",\"5555-5555-5555-56-6\",\"9945-3245-6987-6321\",\"6595214732850099\",\"5555-555-55555-566-6\"])"
   ]
  },
  {
   "cell_type": "code",
   "execution_count": 2,
   "metadata": {},
   "outputs": [
    {
     "data": {
      "text/plain": [
       "5"
      ]
     },
     "execution_count": 2,
     "metadata": {},
     "output_type": "execute_result"
    }
   ],
   "source": [
    "#Programmers Level2 Jumps and Teleports\n",
    "# https://programmers.co.kr/learn/courses/30/lessons/12980\n",
    "\n",
    "#strategy:\n",
    "# 1. The mininum number of jumps can be found from J*2^T for J being # of jumps and T being # of teleports\n",
    "#   but only applies if and onlu if n can be exspressed as J*2^T\n",
    "#   WRONG: counter example exits: when n == 10, it takes 3 steps to get to destination(one jumps [1] 3 teleports [8] then \n",
    "#   two jumps [10]) while my idea would treat 5*2^1 as the best case, and returning 5.\n",
    "\n",
    "# 2. Taking the same strategy as strategy 1, but doing so from backward\n",
    "#    this basically works as dividing n by 2 until we cant and count 1 every single time when we encounter an odd number\n",
    "#    WORKS: because by Ordering Axiom it n has to be divisible upto 1 since we subtract 1 every time we encounter odd number\n",
    "#    and maximizing # of teleports will get us to most efficient method.\n",
    "\n",
    "def solution(n):\n",
    "    ans = 1\n",
    "    while n != 1:\n",
    "        if n%2 == 1:\n",
    "            ans += 1\n",
    "            n -= 1\n",
    "        n /= 2\n",
    "        \n",
    "    return ans\n",
    "\n",
    "solution(5000)"
   ]
  },
  {
   "cell_type": "code",
   "execution_count": 3,
   "metadata": {},
   "outputs": [
    {
     "data": {
      "text/plain": [
       "[4, 3, 1, 1, 0]"
      ]
     },
     "execution_count": 3,
     "metadata": {},
     "output_type": "execute_result"
    }
   ],
   "source": [
    "# Programmers level2 Stock Market Price\n",
    "# https://programmers.co.kr/learn/courses/30/lessons/42584\n",
    "\n",
    "\n",
    "\n",
    "def solution(prices):\n",
    "    answer = []\n",
    "    for i in range(len(prices)): \n",
    "        for j in range(i,len(prices)): #from i to last elt of prices. This always makes j to be greater than i.\n",
    "            if j == len(prices) - 1 and prices[j] >= prices[i]: # if j is the last index and it price is bigger than price at i\n",
    "                count = j-i\n",
    "                answer.append(count)\n",
    "            if prices[i] > prices[j]:\n",
    "                count = j-i\n",
    "                answer.append(count)\n",
    "                break # break is necessary. Without break, for-loop will keep go on.\n",
    "    return answer\n",
    "\n",
    "solution([1, 2, 3, 2, 3])"
   ]
  },
  {
   "cell_type": "code",
   "execution_count": 1,
   "metadata": {},
   "outputs": [
    {
     "name": "stdout",
     "output_type": "stream",
     "text": [
      "['a', 'a', 'a', 'a', 'a', 'a', 'ㅠ', 'ㅠ', 'ㅠ', 'a', '']\n",
      "6a3ㅠa\n",
      "['aa', 'aa', 'aa', 'ㅠㅠ', 'ㅠa', '']\n",
      "3aaㅠㅠㅠa\n",
      "['aaa', 'aaa', 'ㅠㅠㅠ', 'a']\n",
      "2aaaㅠㅠㅠa\n",
      "['aaaa', 'aaㅠㅠ', 'ㅠa']\n",
      "aaaaaaㅠㅠㅠa\n",
      "['aaaaa', 'aㅠㅠㅠa', '']\n",
      "aaaaaaㅠㅠㅠa\n"
     ]
    },
    {
     "data": {
      "text/plain": [
       "(range(1, 6),\n",
       " ['ㅠ', 'a'],\n",
       " {'ㅠ': 1, 'a': 1},\n",
       " ['aaaaa', 'aㅠㅠㅠa', ''],\n",
       " [5, 7, 8, 10, 10],\n",
       " 5)"
      ]
     },
     "execution_count": 1,
     "metadata": {},
     "output_type": "execute_result"
    }
   ],
   "source": [
    "#2020 카카오 공채 문자열 압축\n",
    "\n",
    "def solution(s):\n",
    "    if len(s) <= 1:\n",
    "        if len(s) == 0:\n",
    "            return 0\n",
    "        return 1\n",
    "    \n",
    "    n = len(s)\n",
    "    cs = []\n",
    "    voca = list(set(s))\n",
    "    voc = dict()\n",
    "    \n",
    "    for i in voca:\n",
    "        voc[i] = 1\n",
    "    cs = range(1,int(n/2)+1)\n",
    "    ans = []\n",
    "    for i in cs:\n",
    "        cut = []\n",
    "        pre = 0\n",
    "        rep = 1\n",
    "        sent = \"\"\n",
    "        for j in range((int(len(s)/i))+1):\n",
    "            cut.append(s[pre:pre+i])\n",
    "            pre += i\n",
    "        print(cut)\n",
    "        if cut[len(cut)-1] != \"\":\n",
    "            cut.append(\"\")\n",
    "        for k in range(1,len(cut)):\n",
    "            if cut[k] == cut[k-1]:\n",
    "                rep += 1\n",
    "            else:\n",
    "                sent += str(rep)+str(cut[k-1]) if rep >= 2 else str(cut[k-1])\n",
    "                rep = 1\n",
    "        print(sent)\n",
    "        ans.append(len(sent))\n",
    "    return cs,voca,voc,cut,ans,min(ans)\n",
    "\n",
    "s = \"aaaaaaㅠㅠㅠa\"\n",
    "solution(s)"
   ]
  },
  {
   "cell_type": "code",
   "execution_count": 3,
   "metadata": {},
   "outputs": [
    {
     "name": "stdout",
     "output_type": "stream",
     "text": [
      "[0, 6]\n",
      "[1, 6]\n",
      "[2, 6]\n"
     ]
    },
    {
     "data": {
      "text/plain": [
       "({'DIA': 3, 'EMERALD': 1, 'SAPPHIRE': 1}, [3, 7])"
      ]
     },
     "execution_count": 3,
     "metadata": {},
     "output_type": "execute_result"
    }
   ],
   "source": [
    "# 카카오 2020 서머 인턴쉽 코딩 테스트 3번: 보석쇼핑\n",
    "#it works, but i need this to run in better efficiency. currently it's in O(0.5*n^2)\n",
    "\n",
    "def solution_alpha(gems):\n",
    "    answer = []\n",
    "    unique = []\n",
    "    spos = 0\n",
    "    epos = 0\n",
    "    length = len(gems[:])\n",
    "    for i in range(len(gems)):\n",
    "        if gems[i] not in unique:\n",
    "            unique.append(gems[i])\n",
    "    \n",
    "    count = 0\n",
    "    for i in range(len(gems)):\n",
    "        b = gems[i:]\n",
    "        for j in range(len(b)):\n",
    "            count += 1\n",
    "            #print(count)\n",
    "            if set(unique) <= set(b[:len(b)-j]):\n",
    "                if len(b[:len(b)-j]) < length:\n",
    "                    #print(b[:len(b)-j])\n",
    "                    epos = len(b)-j+i\n",
    "                    spos = i\n",
    "                    length = len(b[:len(b)-j])\n",
    "                    #print(length)\n",
    "\n",
    "    if spos == epos == 0:\n",
    "        spos = 0\n",
    "        epos = len(gems)\n",
    "        \n",
    "    answer.append(spos+1)\n",
    "    answer.append(epos)\n",
    "    \n",
    "    print(unique)\n",
    "    print(spos+1, epos)\n",
    "    print(count)\n",
    "    return answer,gems[spos:epos]\n",
    "\n",
    "def solution_ver2(gems):\n",
    "    answer = []\n",
    "    unique = []\n",
    "    spos = 0\n",
    "    epos = 0\n",
    "    length = len(gems[:])+1\n",
    "    for i in range(len(gems)):\n",
    "        if gems[i] not in unique:\n",
    "            unique.append(gems[i])\n",
    "    \n",
    "    u_len = len(unique)\n",
    "    \n",
    "    count = 0\n",
    "    for i in range(len(gems)):\n",
    "        for j in range(len(gems)):\n",
    "            count = count +1\n",
    "            if set(unique) <= set(gems[j:j+u_len+i]):\n",
    "                if len(gems[j:j+u_len+i]) < length:\n",
    "                    spos = j+1\n",
    "                    epos = j+u_len+i\n",
    "                    length = len(gems[j:j+u_len+i])\n",
    "\n",
    "    answer.append(spos)\n",
    "    answer.append(epos)\n",
    "    return answer\n",
    "\n",
    "#final answer(and it's correct!)\n",
    "from collections import defaultdict\n",
    "def solution(gems):\n",
    "    u = list(set(gems))\n",
    "    gmap = {gems[0]:1}\n",
    "    cand = [0, len(gems)-1]\n",
    "    s, e = 0, 0\n",
    "    \n",
    "    while e <= len(gems) and s <= len(gems):\n",
    "        if len(gmap) >= len(u):\n",
    "            if e - s < cand[1] - cand[0]:\n",
    "                cand = [s,e]\n",
    "                print(cand)\n",
    "            if gmap[gems[s]] == 1:\n",
    "                del gmap[gems[s]]\n",
    "            else:\n",
    "                gmap[gems[s]] -= 1\n",
    "            s += 1\n",
    "        else:\n",
    "            e += 1\n",
    "            if e == len(gems):\n",
    "                break\n",
    "            if gems[e] in gmap.keys():\n",
    "                gmap[gems[e]] += 1\n",
    "            else:\n",
    "                gmap[gems[e]] = 1\n",
    "        \n",
    "    for i in range(len(cand)):\n",
    "        cand[i] += 1\n",
    "        \n",
    "    return gmap,cand\n",
    "\n",
    "\n",
    "\n",
    "solution([\"DIA\", \"RUBY\", \"RUBY\", \"DIA\", \"DIA\", \"EMERALD\", \"SAPPHIRE\", \"DIA\"])"
   ]
  },
  {
   "cell_type": "code",
   "execution_count": 5,
   "metadata": {},
   "outputs": [
    {
     "data": {
      "text/plain": [
       "([(1, 2, 3), (1, 2, 4), (1, 3, 4), (2, 3, 4)], 1)"
      ]
     },
     "execution_count": 5,
     "metadata": {},
     "output_type": "execute_result"
    }
   ],
   "source": [
    "#프로그래머스 Summer/Winter Coding(~2018) 소수만들기\n",
    "\n",
    "from itertools import combinations \n",
    "\n",
    "def solution(nums):\n",
    "    ans = 0\n",
    "    \n",
    "    a = list(combinations(nums, 3))\n",
    "    \n",
    "    for i in a:\n",
    "        comb = 0\n",
    "        for j in i:\n",
    "            comb += j\n",
    "        if primeCheck(comb) == True:\n",
    "            ans += 1\n",
    "    return a,ans\n",
    "\n",
    "def primeCheck(num):\n",
    "    if num > 1:\n",
    "        for i in range(2,num):\n",
    "            if num%i == 0:\n",
    "                return False\n",
    "    return True\n",
    "\n",
    "\n",
    "solution([1,2,3,4])"
   ]
  },
  {
   "cell_type": "code",
   "execution_count": 8,
   "metadata": {},
   "outputs": [
    {
     "name": "stdout",
     "output_type": "stream",
     "text": [
      "()()\n",
      "(()()())\n",
      "()()\n"
     ]
    },
    {
     "data": {
      "text/plain": [
       "'(()()())'"
      ]
     },
     "execution_count": 8,
     "metadata": {},
     "output_type": "execute_result"
    }
   ],
   "source": [
    "#2020 카카오 블라인드 괄호변환\n",
    "\n",
    "def solution(p):\n",
    "    ans = \"\"\n",
    "    if len(p) == 0:\n",
    "        return ans\n",
    "    \n",
    "    if Balance(p):\n",
    "        if Correctness(p):\n",
    "            return p\n",
    "    \n",
    "    for i in range(len(p)+1):\n",
    "        if Balance(p[:i]):\n",
    "            if Correctness(p[:i]):\n",
    "                return p[:i] + solution(p[i:]) \n",
    "            else:\n",
    "                print(\"(\" + solution(p[i:]) +\")\" + Change(p[1:i-1]))\n",
    "                return \"(\" + solution(p[i:]) +\")\" + Change(p[1:i-1])\n",
    "    return ans\n",
    "\n",
    "def Balance(p):\n",
    "    if len(p) != 0:\n",
    "        if p.count(\"(\") == p.count(\")\"):\n",
    "            return True\n",
    "    return False\n",
    "\n",
    "def Correctness(p):\n",
    "    stack = len(p)/2\n",
    "    for i in range(len(p)):\n",
    "        if p[i] == \"(\":\n",
    "            for j in range(i+1,len(p)):\n",
    "                if p[j] == \")\":\n",
    "                    stack -= 1\n",
    "                    break\n",
    "    if stack == 0:\n",
    "        return True\n",
    "    return False\n",
    "\n",
    "def Change(p):\n",
    "    changedP = []\n",
    "    for i in range(len(p)):\n",
    "        if p[i] == \"(\":\n",
    "            changedP.append(\")\")\n",
    "        elif p[i] == \")\":\n",
    "            changedP.append(\"(\")\n",
    "    return \"\".join(changedP)\n",
    "\n",
    "\n",
    "solution(\")(()))((\")"
   ]
  },
  {
   "cell_type": "code",
   "execution_count": 9,
   "metadata": {},
   "outputs": [
    {
     "data": {
      "text/plain": [
       "([['Enter', 'uid1234', 'Muzi'],\n",
       "  ['Enter', 'uid4567', 'Prodo'],\n",
       "  ['Leave', 'uid1234'],\n",
       "  ['Enter', 'uid1234', 'Prodo'],\n",
       "  ['Change', 'uid4567', 'Ryan']],\n",
       " {'uid1234': 'Prodo', 'uid4567': 'Ryan'},\n",
       " ['Prodo님이 들어왔습니다.', 'Ryan님이 들어왔습니다.', 'Prodo님이 나갔습니다.', 'Prodo님이 들어왔습니다.'])"
      ]
     },
     "execution_count": 9,
     "metadata": {},
     "output_type": "execute_result"
    }
   ],
   "source": [
    "#2019 카카오 블라인드 오픈체팅방 level2\n",
    "\n",
    "# record = [s1,s2,s2,...,sn] => recordList = [[s1_1,s1_2,s1_3(opt)],[s2_1,s2_2,s2_3(opt)],....]\n",
    "# 1.)recordList를 만들어주고 2.)dict()를 이용해 마지막으로 업데이트되는 닉네임을 구한다.\n",
    "# 3.)한글로 번역해 리턴해준다\n",
    "\n",
    "# String.split(\"\") 하면 1.을 1줄로 끝낼걸 멍청한 짓을 했다. 심지어 모르는것도 아니였는데\n",
    "#이런 실수를 한건 진짜 심각하다. 더 알고리즘 문제에 익숙해져야만 할듯.\n",
    "\n",
    "\n",
    "def solution(record):\n",
    "    # 1.\n",
    "    recordList = []\n",
    "    s =\"\"\n",
    "    for i in record:\n",
    "        pre = 0\n",
    "        ithList = []\n",
    "        for j in range(len(i)):\n",
    "            if i[j] == \" \":\n",
    "                if pre == 0:\n",
    "                    s += i[pre:j]\n",
    "                else:\n",
    "                    s += i[pre+1:j]\n",
    "                pre = j\n",
    "                ithList.append(s)\n",
    "                s = \"\"\n",
    "            if j == len(i)-1:\n",
    "                s += i[pre+1:j+1]\n",
    "                ithList.append(s)\n",
    "                s =\"\"\n",
    "        recordList.append(ithList)\n",
    "    # 2.\n",
    "    idDict = dict()\n",
    "\n",
    "    for i in recordList:\n",
    "        if len(i) == 3:\n",
    "            idDict[i[1]] = i[2]\n",
    "    # 3.\n",
    "    ans = []\n",
    "    who =\"님이\" \n",
    "    e = \" 들어왔습니다.\"\n",
    "    l = \" 나갔습니다.\"\n",
    "    for i in recordList:\n",
    "        s = \"\"\n",
    "        if i[0] == \"Enter\":\n",
    "            s = idDict[i[1]] + who + e\n",
    "            ans.append(s)\n",
    "        if i[0] == \"Leave\":\n",
    "            s = idDict[i[1]] + who + l\n",
    "            ans.append(s)\n",
    "        \n",
    "    \n",
    "    return recordList,idDict,ans\n",
    "\n",
    "a = [\"Enter uid1234 Muzi\", \"Enter uid4567 Prodo\",\"Leave uid1234\",\"Enter uid1234 Prodo\",\"Change uid4567 Ryan\"]\n",
    "solution(a)"
   ]
  },
  {
   "cell_type": "code",
   "execution_count": 8,
   "metadata": {},
   "outputs": [
    {
     "data": {
      "text/plain": [
       "([2, 1], 2, 1)"
      ]
     },
     "execution_count": 8,
     "metadata": {},
     "output_type": "execute_result"
    }
   ],
   "source": [
    "#~2018 Summer/Winter coding 영어 끝말잇기 level2\n",
    "\n",
    "#1. 탈락자가 발생하는지 발생하지 않는지 확인\n",
    "        #발생하지 않는다면 [0,0] return\n",
    "#1에서 return이 없었다면, 중복 단어가 반복된 idx 혹은 끝말을 이은 단어가 아닌 idx를\n",
    "#찾는다. \n",
    "#2. 단어가 반복되는 구간이 먼저나오는지 틀린 단어가 먼저 나오는지 비교\n",
    "#3. 먼저 나오는 쪽을 기준으로 [i,j] return.\n",
    "\n",
    "\n",
    "#너무 비효율적. 우선 첫번째로 탈락자의 발생 여부는 딱히 필요치 않다. 만약 다 찾아봤는데\n",
    "#안나오면 [0,0]을 리턴하면 될일. 중복단어 발생 인덱스와 틀린 단어발생 인덱스를 굳이\n",
    "#찾을 필요가 없다.. 먼저 나오는 쪽을 택하면 될일. \n",
    "\n",
    "import math\n",
    "def solution(n, words):\n",
    "    answer = [0,0]\n",
    "    #1.\n",
    "    count = 1\n",
    "    if len(set(words)) == len(words):\n",
    "        for i in range(1,len(words)):\n",
    "            if words[i-1][len(words[i-1])-1] != words[i][0]:\n",
    "                break;\n",
    "            count += 1\n",
    "    if count == len(words):\n",
    "        return [0,0]\n",
    "    \n",
    "    #2. 중복 단어 발생 idx\n",
    "    spokenWords = []\n",
    "    repeatIdx = 0\n",
    "    for i in range(len(words)):\n",
    "        if words[i] not in spokenWords:\n",
    "            spokenWords.append(words[i])\n",
    "        else:\n",
    "            repeatIdx = i\n",
    "            break\n",
    "    \n",
    "    #2. 틀린 단어 발생 idx\n",
    "    wrongIdx = 0\n",
    "    for i in range(1,len(words)):\n",
    "        if words[i-1][len(words[i-1])-1] != words[i][0]:\n",
    "            wrongIdx = i\n",
    "            break;\n",
    "    \n",
    "    #3. 빠른 쪽 리턴!\n",
    "    if (wrongIdx < repeatIdx and wrongIdx != 0) or repeatIdx == 0:\n",
    "        answer[0] = (wrongIdx+1)%n\n",
    "        if (wrongIdx+1)%n == 0:\n",
    "            answer[0] = n\n",
    "        answer[1] = math.ceil((wrongIdx+1)/n)\n",
    "        \n",
    "        return answer,repeatIdx,wrongIdx\n",
    "    \n",
    "    answer[0] = (repeatIdx+1)%n\n",
    "    if (repeatIdx+1)%n == 0:\n",
    "            answer[0] = n\n",
    "    answer[1] = math.ceil((repeatIdx+1)/n)\n",
    "    \n",
    "    \n",
    "    return answer,repeatIdx+1,wrongIdx+1\n",
    "\n",
    "a =[\"hello\",\"hole\" ,\"hello\",\"even\",\"nice\", \"even\", \"never\", \"now\", \"world\", \"draw\"]\n",
    "solution(2,a)"
   ]
  },
  {
   "cell_type": "code",
   "execution_count": 2,
   "metadata": {},
   "outputs": [
    {
     "data": {
      "text/plain": [
       "[1, 3]"
      ]
     },
     "execution_count": 2,
     "metadata": {},
     "output_type": "execute_result"
    }
   ],
   "source": [
    "#~2018 Summer/Winter coding 영어 끝말잇기 level2\n",
    "# 인상적이였던 답안.\n",
    "#효율성의 극치라고 느껴지는 단 4줄에 내가 만든 34줄 짜리보다 효율이 좋다.. 내가 너무 \n",
    "#비효율적으로 짠것도 크긴 함\n",
    "\n",
    "def solution(n, words):\n",
    "    for p in range(1, len(words)):\n",
    "        if words[p][0] != words[p-1][-1] or words[p] in words[:p]: return [(p%n)+1, (p//n)+1]\n",
    "    else:\n",
    "        return [0,0]\n",
    "a =[\"hello\", \"one\",\"even\",\"nice\", \"even\", \"never\", \"now\", \"world\", \"draw\"]\n",
    "solution(2,a)"
   ]
  },
  {
   "cell_type": "code",
   "execution_count": 82,
   "metadata": {
    "scrolled": true
   },
   "outputs": [
    {
     "name": "stdout",
     "output_type": "stream",
     "text": [
      "string1 in list:  ['FR', 'RA', 'AN', 'NC', 'CE']\n",
      "string2 in list:  ['FR', 'RE', 'EN', 'NC', 'CH']\n",
      "intersection:  {'FR': 1, 'RE': 0, 'EN': 0, 'NC': 1, 'CH': 0}\n",
      "intersection sum:  2\n",
      "union value:       8\n"
     ]
    },
    {
     "data": {
      "text/plain": [
       "16384"
      ]
     },
     "execution_count": 82,
     "metadata": {},
     "output_type": "execute_result"
    }
   ],
   "source": [
    "#2018 카카오 블라인드 뉴스 클러스터\n",
    "\n",
    "import string\n",
    "def solution(s1,s2):\n",
    "    s1 = s1.upper()\n",
    "    s2 = s2.upper()\n",
    "    letters = list(string.ascii_uppercase)\n",
    "    \n",
    "    \n",
    "    if s1 == s2:\n",
    "        return 65536\n",
    "    \n",
    "    s1l = []\n",
    "    pos = 0\n",
    "    for i in range(len(s1)-1):\n",
    "        twoletters = s1[pos:i+2]\n",
    "        pos = i+1\n",
    "        s1l.append(twoletters)\n",
    "    \n",
    "    as1l = s1l[:]\n",
    "    \n",
    "    for i in s1l:\n",
    "        for j in i:\n",
    "            if j not in letters:\n",
    "                as1l.remove(i)\n",
    "                break\n",
    "    \n",
    "    s2l = []\n",
    "    pos = 0\n",
    "    for i in range(len(s2)-1):\n",
    "        twoletters = s2[pos:i+2]\n",
    "        pos = i+1\n",
    "        s2l.append(twoletters)\n",
    "    as2l = s2l[:]\n",
    "    \n",
    "    for i in s2l:\n",
    "        for j in i:\n",
    "            if j not in letters:\n",
    "                as2l.remove(i)\n",
    "                break\n",
    "    \n",
    "    print(\"string1 in list: \",as1l)\n",
    "    print(\"string2 in list: \",as2l)\n",
    "    \n",
    "    \n",
    "    intersection = {}\n",
    "    \n",
    "    oneLong = False\n",
    "    \n",
    "    if len(as1l) >= len(as2l):\n",
    "        oneLong = True\n",
    "        \n",
    "    if(oneLong):\n",
    "        for i in range(len(as2l)):\n",
    "            if as2l[i] not in intersection:\n",
    "                if as2l.count(as2l[i]) <= as1l.count(as2l[i]):\n",
    "                    intersection[as2l[i]] = as2l.count(as2l[i])\n",
    "                else:\n",
    "                    intersection[as2l[i]] = as1l.count(as2l[i])\n",
    "    else:\n",
    "        for i in range(len(as1l)):\n",
    "            if as1l[i] not in intersection:\n",
    "                if as1l.count(as1l[i]) <= as2l.count(as1l[i]):\n",
    "                    intersection[as1l[i]] = as1l.count(as1l[i])\n",
    "                else:\n",
    "                    intersection[as1l[i]] = as2l.count(as1l[i])\n",
    "     \n",
    "    union = len(as1l) + len(as2l) - sum(intersection.values())\n",
    "                \n",
    "    print(\"intersection: \",intersection)\n",
    "    print(\"intersection sum: \",sum(intersection.values()))\n",
    "    print(\"union value:      \",union)\n",
    "               \n",
    "    if sum(intersection.values()) == 0:\n",
    "           return 65536\n",
    "        \n",
    "    return int((sum(intersection.values())/union)*65536)\n",
    "\n",
    "solution(\"FRANCE\",\"French\")"
   ]
  },
  {
   "cell_type": "code",
   "execution_count": 14,
   "metadata": {},
   "outputs": [
    {
     "name": "stdout",
     "output_type": "stream",
     "text": [
      "['fr', 'ra', 'an', 'nc', 'ce']\n",
      "['fr', 're', 'en', 'nc', 'ch']\n",
      "Counter({'fr': 1, 'ra': 1, 'an': 1, 'nc': 1, 'ce': 1})\n",
      "first intersections: \n",
      " Counter({'fr': 1, 'nc': 1})\n",
      "second intersections: \n",
      " [1, 1]\n",
      "last intersections: \n",
      " 2\n"
     ]
    },
    {
     "data": {
      "text/plain": [
       "16384"
      ]
     },
     "execution_count": 14,
     "metadata": {},
     "output_type": "execute_result"
    }
   ],
   "source": [
    "import re\n",
    "from collections import Counter\n",
    "\n",
    "\n",
    "pattern = re.compile('[a-z][a-z]')\n",
    "    \n",
    "def preprocessing(content):\n",
    "    result = []\n",
    "    for i in range(0, len(content)-1):\n",
    "        two_letter = content[i:i+2]\n",
    "        if pattern.search(two_letter):\n",
    "            result.append(two_letter)\n",
    "    print(result)\n",
    "    return result\n",
    "    \n",
    "\n",
    "def solution(str1, str2):\n",
    "    # 두 개의 문자열에 대해서 소문자로 처리\n",
    "    str1 = str1.lower()\n",
    "    str2 = str2.lower()\n",
    "    \n",
    "    if str1 == str2: # 일치한다면 유사도는 1\n",
    "        return 65536\n",
    "    \n",
    "    str1 = preprocessing(str1)\n",
    "    str2 = preprocessing(str2)\n",
    "    \n",
    "    #what would be the difference between Counter and dict?\n",
    "    #Counter still posesses the indices of the inputed values\n",
    "    #Counter supports multiset opperations(such as what are used in the answer)\n",
    "    \n",
    "    counter_1 = Counter(str1)\n",
    "    counter_2 = Counter(str2)\n",
    "    print(counter_1)\n",
    "            \n",
    "    intersections = counter_1 & counter_2 # 교집합\n",
    "    print(\"first intersections: \\n\",intersections)\n",
    "    a = list(intersections.values())\n",
    "    print(\"second intersections: \\n\",a )\n",
    "    \n",
    "    intersections = sum(list(intersections.values()))\n",
    "    print(\"last intersections: \\n\", intersections)\n",
    "    \n",
    "    unions = counter_1 | counter_2 # 합집합\n",
    "    unions = sum(list(unions.values()))\n",
    "    return int(intersections/unions * 65536)\n",
    "\n",
    "#https://jeongchul.tistory.com/661\n",
    "solution(\"FRANCE\",\"french\")"
   ]
  },
  {
   "cell_type": "code",
   "execution_count": 9,
   "metadata": {},
   "outputs": [
    {
     "name": "stdout",
     "output_type": "stream",
     "text": [
      "WORLD\n",
      "[13, 0] [13, 21]\n",
      "Difference in time:  21\n",
      "line:  ABCDEFABCDEFABCDEFABC \n",
      "\n",
      "HELLO\n",
      "[12, 0] [12, 21]\n",
      "Difference in time:  21\n",
      "line:  AB1DABCEFGABAB1DABCEF \n",
      "\n",
      "{'WORLD': 21, 'HELLO': 21}\n"
     ]
    },
    {
     "data": {
      "text/plain": [
       "('WORLD', 'ABC')"
      ]
     },
     "execution_count": 9,
     "metadata": {},
     "output_type": "execute_result"
    }
   ],
   "source": [
    "#카카오 2018 블라인드 방금 그곡 level2\n",
    "\n",
    "from datetime import datetime\n",
    "def solution(m,mi):\n",
    "    possibility = {}\n",
    "    change= {\"C#\": \"1\",\"D#\": \"2\",\"F#\": \"3\",\"G#\": \"4\",\"A#\": \"5\" }\n",
    "    for i in mi:\n",
    "        amusic = i.split(\",\")\n",
    "        print(amusic[2]) \n",
    "        pre =[]\n",
    "        post = []\n",
    "        for j in range(2):\n",
    "            handm = amusic[j].split(\":\")\n",
    "            hour = int(handm[0])\n",
    "            minute = int(handm[1])\n",
    "            if j == 0:\n",
    "                pre = [hour,minute]\n",
    "            else:\n",
    "                post = [hour,minute]\n",
    "        time1 = datetime(2020,12,9,post[0],post[1],0)\n",
    "        time2 = datetime(2020,12,9,pre[0],pre[1],0)\n",
    "        diff = int(((time1 - time2).seconds)/60)\n",
    "        \n",
    "        melody = amusic[3]\n",
    "        \n",
    "        for j in change:\n",
    "            melody = melody.replace(j, change[j])\n",
    "            m = m.replace(j, change[j])\n",
    "        \n",
    "        chords = []\n",
    "        for j in range(len(melody)):\n",
    "            if j != len(melody)-1:\n",
    "                if melody[j+1] == \"#\":\n",
    "                    chords.append(melody[j:j+2])\n",
    "                elif melody[j] == \"#\":\n",
    "                    pass\n",
    "                else:\n",
    "                    chords.append(melody[j])\n",
    "            else:\n",
    "                chords.append(melody[j])\n",
    "        \n",
    "        line = \"\"\n",
    "        for j in range(diff):\n",
    "            j = j%len(chords)\n",
    "            line += chords[j]\n",
    "        \n",
    "        if m in line:\n",
    "            possibility[amusic[2]] = diff\n",
    "\n",
    "        print(pre, post)\n",
    "        print(\"Difference in time: \", diff)\n",
    "        print(\"line: \",line,\"\\n\")\n",
    "\n",
    "    if len(possibility) == 0:\n",
    "        return \"(None)\"\n",
    "        \n",
    "    print(possibility)\n",
    "    return max(possibility, key = possibility.get),m\n",
    "\n",
    "\n",
    "solution(\"ABC\", [\"13:00,13:21,WORLD,ABCDEF\",\"12:00,12:21,HELLO,ABC#DABCEFGAB\"])"
   ]
  },
  {
   "cell_type": "code",
   "execution_count": 162,
   "metadata": {},
   "outputs": [
    {
     "data": {
      "text/plain": [
       "'0111'"
      ]
     },
     "execution_count": 162,
     "metadata": {},
     "output_type": "execute_result"
    }
   ],
   "source": [
    "#카카오 2018 블라인드 n진수게임 level2\n",
    "\n",
    "def baseN(num,n):\n",
    "    notation = \"0123456789ABCDEF\"\n",
    "    q = num//n\n",
    "    r = num%n\n",
    "    newnum = notation[r]\n",
    "    if q:\n",
    "        return baseN(q,n) + newnum\n",
    "    else:\n",
    "        return newnum\n",
    "    \n",
    "def solution(n,t,m,p):\n",
    "    length = t*m\n",
    "    p -= 1\n",
    "    ans = \"\"\n",
    "    numlist = []\n",
    "    for i in range(length):\n",
    "        num = str(baseN(i,n))\n",
    "        for j in num:\n",
    "            numlist.append(j)\n",
    "    for i in range(len(numlist)):\n",
    "        if t == 0:\n",
    "            break\n",
    "        turn = i%m\n",
    "        if turn == p:\n",
    "            ans += numlist[i]\n",
    "            t-=1\n",
    "            \n",
    "    return ans\n",
    "\n",
    "solution(2,4,2,1)"
   ]
  },
  {
   "cell_type": "code",
   "execution_count": 107,
   "metadata": {},
   "outputs": [
    {
     "data": {
      "text/plain": [
       "32"
      ]
     },
     "execution_count": 107,
     "metadata": {},
     "output_type": "execute_result"
    }
   ],
   "source": [
    "#카카오 2018 블라인드 1차 프렌즈4블록\n",
    "\n",
    "import copy\n",
    "def check(m,n,board):\n",
    "    cboard = copy.deepcopy(board)\n",
    "    postodel = []\n",
    "    for i in range(m-1):\n",
    "        for j in range(n-1):\n",
    "            if cboard[i][j] != \"0\":\n",
    "                if cboard[i+1][j] == cboard[i][j+1] == cboard[i+1][j+1] == cboard[i][j]:\n",
    "                    postodel.append((i,j))\n",
    "                    postodel.append((i+1,j))\n",
    "                    postodel.append((i,j+1))\n",
    "                    postodel.append((i+1,j+1))\n",
    "    if len(postodel) == 0:\n",
    "        return False\n",
    "    postodel = list(set(postodel))\n",
    "    return postodel\n",
    "\n",
    "def erase(postodel,board):\n",
    "    for pos in postodel:\n",
    "        board[pos[0]][pos[1]] = \"0\"\n",
    "    return board\n",
    "\n",
    "def move(board):\n",
    "    mboard = [list(x) for x in zip(*board)]\n",
    "    nboard = []\n",
    "    for i in range(len(mboard)):\n",
    "        nonzs = [x for x in mboard[i] if x != \"0\"]\n",
    "        numzs = len(mboard[i])-len(nonzs)\n",
    "        newline = []\n",
    "        for j in range(numzs):\n",
    "            newline.append(\"0\")\n",
    "        for j in range(len(nonzs)):\n",
    "            newline.append(nonzs[j])\n",
    "        nboard.append(newline)\n",
    "        \n",
    "    nboard = [list(x) for x in zip(*nboard)]\n",
    "    return nboard\n",
    "\n",
    "def solution(m,n, board):\n",
    "    ans = 0\n",
    "    board = [list(line) for line in board]\n",
    "    while True:\n",
    "        if check(m,n,board) == False:\n",
    "            return ans\n",
    "        postodel = check(m,n,board)\n",
    "        ans += len(postodel)\n",
    "        board = erase(postodel, board)\n",
    "        board = move(board)\n",
    "    return ans\n",
    "\n",
    "\n",
    "\n",
    "\n",
    "solution(6,6,[\"AABBEE\",\"AAAEEE\",\"VAAEEV\",\"AABBEE\",\"AACCEE\",\"VVCCEE\" ])"
   ]
  },
  {
   "cell_type": "code",
   "execution_count": null,
   "metadata": {},
   "outputs": [],
   "source": [
    "ds = defaultdict(int)\n",
    "\n",
    "ds[]"
   ]
  },
  {
   "cell_type": "code",
   "execution_count": 69,
   "metadata": {},
   "outputs": [
    {
     "name": "stdout",
     "output_type": "stream",
     "text": [
      "{('img', 0): 0, ('img', 1): 0, ('img', 2): 0, ('img', 5): 0, ('img', 6): 0, ('img ', 4): 1, ('mg', 3): 2} \n",
      "\n",
      "nums\n",
      " [(12, 0), (10, 1), (2, 2), (1, 3), (1, 4), (2, 5), (2, 6)] \n",
      "\n",
      "[('img', 0), ('img', 1), ('img', 2), ('img', 5), ('img', 6)] \n",
      "\n",
      "[(2, 2), (2, 5), (2, 6), (10, 1), (12, 0)]\n",
      "[('img ', 4)] \n",
      "\n",
      "[(1, 4)]\n",
      "[('mg', 3)] \n",
      "\n",
      "[(1, 3)]\n"
     ]
    },
    {
     "data": {
      "text/plain": [
       "['img02.png',\n",
       " 'img2.JPG',\n",
       " 'img2',\n",
       " 'img10.png',\n",
       " 'img12.png',\n",
       " 'IMG 01.GIF',\n",
       " 'mg1.png']"
      ]
     },
     "execution_count": 69,
     "metadata": {},
     "output_type": "execute_result"
    }
   ],
   "source": [
    "#카카오 2018 블라인드 3차 파일명 정렬\n",
    "\n",
    "import re\n",
    "def solution(files):\n",
    "    if len(files)==0:\n",
    "        return []\n",
    "    ans = []\n",
    "    heads =[]\n",
    "    possibleones = [\"-\",\".\",\" \"]\n",
    "    for i in range(len(files)):\n",
    "        for j in range(len(files[i])):\n",
    "            if files[i][j].isalpha() == False and files[i][j] not in possibleones:\n",
    "                heads.append((files[i][:j].lower(),i))\n",
    "                break\n",
    "    \n",
    "    sheads = sorted(heads)\n",
    "    lv = 0\n",
    "    \n",
    "    lvheads = {sheads[0]:lv}\n",
    "    for i in range(1,len(sheads)):\n",
    "        if sheads[i][0] != sheads[i-1][0]:\n",
    "            lv+=1\n",
    "        lvheads[sheads[i]] = lv\n",
    "        \n",
    "    print(lvheads,\"\\n\")\n",
    "    \n",
    "    nums = []\n",
    "    for i in range(len(files)):\n",
    "        num = re.findall(\"\\d+\", files[i])\n",
    "        nums.append((int(num[0]),i))\n",
    "        \n",
    "    print(\"nums\\n\",nums,\"\\n\")\n",
    "    \n",
    "    for i in range(lv+1):\n",
    "        ithlv = [head for head,level in lvheads.items() if level == i]\n",
    "        ithnums = []\n",
    "        print(ithlv,\"\\n\")\n",
    "        for i in range(len(ithlv)):\n",
    "            for j in range(len(nums)):\n",
    "                if ithlv[i][1] == nums[j][1]:\n",
    "                    ithnums.append(nums[j])  \n",
    "        ithnums = sorted(ithnums)\n",
    "        for i in ithnums:\n",
    "            ans.append(files[i[1]])\n",
    "        print(ithnums)\n",
    "\n",
    "    \n",
    "    return ans\n",
    "\n",
    "f = [\"img12.png\", \"img10.png\", \"img02.png\", \"mg1.png\", \"IMG 01.GIF\", \"img2.JPG\",\"img2\"]\n",
    "solution(f)"
   ]
  },
  {
   "cell_type": "code",
   "execution_count": 169,
   "metadata": {},
   "outputs": [
    {
     "name": "stdout",
     "output_type": "stream",
     "text": [
      "{0, 1, 2, 3} {0} True\n",
      "{0, 1, 2, 3} (0, 1) True\n",
      "{0, 1, 2, 3} (0, 2) True\n",
      "{0, 1, 2, 3} (0, 3) True\n",
      "{0, 1, 2, 3} (1, 2) True\n",
      "{0, 1, 2, 3} (0, 1, 2) True\n",
      "{0, 1, 2, 3} (0, 1, 3) True\n",
      "{0, 1, 2, 3} (0, 2, 3) True\n",
      "{0, 1, 2, 3} (1, 2, 3) True\n",
      "{0, 1, 2, 3} (0, 1, 2, 3) True\n",
      "uniqueness:\n",
      " [{0}, (0, 1), (0, 2), (0, 3), (1, 2), (0, 1, 2), (0, 1, 3), (0, 2, 3), (1, 2, 3), (0, 1, 2, 3)]\n",
      "nonminimal:\n",
      " [(0, 1), (0, 2), (0, 3), (0, 1, 2), (0, 1, 3), (0, 2, 3), (1, 2, 3), (0, 1, 2, 3)]\n"
     ]
    },
    {
     "data": {
      "text/plain": [
       "2"
      ]
     },
     "execution_count": 169,
     "metadata": {},
     "output_type": "execute_result"
    }
   ],
   "source": [
    "#카카오 2019 블라인드 후보키 level2\n",
    "\n",
    "from itertools import combinations\n",
    "import math\n",
    "\n",
    "def solution(relation):\n",
    "    nrows = len(relation)\n",
    "    ncols = len(relation[0])\n",
    "    p = [i for i in range(len(relation[0]))] \n",
    "    allcombs = [set({i}) for i in range(len(relation[0]))]\n",
    "    \n",
    "    uniqueness = []\n",
    "    nonminimal = []\n",
    "    \n",
    "    for z in range(1,len(p)):\n",
    "        b = list(combinations(p,z+1))\n",
    "        allcombs += b\n",
    "    \n",
    "    for comb in allcombs:\n",
    "        cur = []\n",
    "        for i in range(nrows):\n",
    "            temp = []\n",
    "            for j in comb:\n",
    "                temp.append(relation[i][j])\n",
    "            temp = tuple(temp)\n",
    "            cur.append(temp)\n",
    "        comp = set(cur)\n",
    "        if len(comp) == nrows:\n",
    "            uniqueness.append(comb)\n",
    "    \n",
    "    for i in uniqueness:\n",
    "        for j in uniqueness:\n",
    "            if set(j).issubset(i) and i != j:\n",
    "                if i not in nonminimal:\n",
    "                    nonminimal.append(i)\n",
    "                    \n",
    "    print(\"uniqueness:\\n\", uniqueness)\n",
    "    print(\"nonminimal:\\n\",nonminimal)\n",
    "    \n",
    "    return len(uniqueness)-len(nonminimal)\n",
    "\n",
    "solution([[\"100\",\"ryan\",\"music\",\"2\"],[\"200\",\"apeach\",\"math\",\"2\"],[\"300\",\"tube\",\"computer\",\"3\"],\n",
    "          [\"400\",\"con\",\"computer\",\"4\"],[\"500\",\"muzi\",\"music\",\"3\"],[\"600\",\"apeach\",\"music\",\"2\"]])"
   ]
  },
  {
   "cell_type": "code",
   "execution_count": 1,
   "metadata": {},
   "outputs": [
    {
     "data": {
      "text/plain": [
       "[4, 3, 2, 1, 5]"
      ]
     },
     "execution_count": 1,
     "metadata": {},
     "output_type": "execute_result"
    }
   ],
   "source": [
    "#카카오 블라인드 2019 실패율 level 1\n",
    "'''\n",
    "어처구니 없지만 파이썬의 경우 range 로 루핑하는 것과 기본 for-in 으로 루핑하는 것에 \n",
    "시간 차이가 존재하는것 같다.. range로 루핑할 경우 발생하던 에러가 for-in 으로 변경하니 \n",
    "발생하지 않는다.\n",
    "\n",
    "일반 적으로 500에 200,000 정도는 이중 포문에서 가능할거라 생각해서 대충 적었더니 시간 초과가 떳는데\n",
    "for문을 for-in-range에서 for-in으로 바꿔주니 해결\n",
    "\n",
    "==> 이는 파이썬의 for-loop이 기본적으로 for-each를 기반하여 만들어졌기 때문인듯하다. \n",
    "    참조: https://treyhunner.com/2016/04/how-to-loop-with-indexes-in-python/  \n",
    "\n",
    "'''\n",
    "def solution(N, stages):\n",
    "    stagemap = {}\n",
    "    for i in range(N):\n",
    "        stagemap[str(i+1)] = 0\n",
    "    \n",
    "    for i in stagemap.keys():\n",
    "        i = int(i)\n",
    "        numstuck = 0\n",
    "        for j in stages:\n",
    "            if j == i:\n",
    "                numstuck += 1\n",
    "                \n",
    "        if len(stages)>0:\n",
    "            failRate = numstuck/len(stages)\n",
    "        else:\n",
    "            failRate = 0\n",
    "            \n",
    "        stagemap[str(i)] = failRate\n",
    "        stages = list(filter(lambda a: a != (i), stages))\n",
    "        \n",
    "    ans = []\n",
    "    \n",
    "    for i in range(len(stagemap)):\n",
    "        maxval = max(stagemap.values())\n",
    "        for j in stagemap.keys():\n",
    "            if stagemap[j] == maxval:\n",
    "                ans.append(int(j))\n",
    "                del stagemap[j]\n",
    "                break      \n",
    "    return ans\n",
    "solution(5,[2,1,2,4,2,4,3,3])"
   ]
  },
  {
   "cell_type": "code",
   "execution_count": 32,
   "metadata": {},
   "outputs": [
    {
     "name": "stdout",
     "output_type": "stream",
     "text": [
      "original ...!@BaT#*..y.abcdefghijklm\n",
      "stage 1  ...!@bat#*..y.abcdefghijklm\n",
      "stage 2  ...bat..y.abcdefghijklm\n",
      "stage 3  .bat.y.abcdefghijklm\n",
      "stage 4  bat.y.abcdefghijklm\n",
      "stage 5  bat.y.abcdefghijklm\n",
      "stage 6  bat.y.abcdefghi\n"
     ]
    },
    {
     "data": {
      "text/plain": [
       "'bat.y.abcdefghi'"
      ]
     },
     "execution_count": 32,
     "metadata": {},
     "output_type": "execute_result"
    }
   ],
   "source": [
    "#2021 Kakao blind level 1 신규 아이디 추천\n",
    "import string\n",
    "\n",
    "def solution(new_id):\n",
    "    print(\"original\", new_id)\n",
    "    new_id = new_id.lower()\n",
    "\n",
    "    print(\"stage 1 \", new_id)\n",
    "    \n",
    "    popts = string.ascii_lowercase+\"0123456789-_.\"\n",
    "    for i,str in enumerate(new_id):\n",
    "        if str not in popts:\n",
    "            new_id = new_id.replace(str,\"\")\n",
    "    print(\"stage 2 \", new_id)\n",
    "    \n",
    "    pre = 0\n",
    "    prev = []\n",
    "    if new_id[0] == new_id[len(new_id)-1] and new_id[0] == \".\":\n",
    "        for i in range(len(new_id)-1):\n",
    "            if new_id[len(new_id)-1] == \".\":\n",
    "                new_id = new_id[:len(new_id)-1]\n",
    "            else:\n",
    "                break\n",
    "        for i in range(len(new_id)):\n",
    "            if new_id[i] == \".\" and new_id[i] == new_id[i-1]:\n",
    "                prev.append(new_id[pre:i-1])\n",
    "                pre = i\n",
    "        prev.append(new_id[pre:])\n",
    "        new_id = \"\".join(prev)+\".\"\n",
    "    else:\n",
    "        for i in range(len(new_id)):\n",
    "            if new_id[i] == \".\" and new_id[i] == new_id[i-1]:\n",
    "                prev.append(new_id[pre:i-1])\n",
    "                pre = i\n",
    "        prev.append(new_id[pre:])\n",
    "        new_id = \"\".join(prev) \n",
    "        \n",
    "    print(\"stage 3 \", new_id)\n",
    "    \n",
    "    if new_id[0] == \".\":\n",
    "        new_id = new_id[1:]\n",
    "    if new_id[len(new_id)-1] == \".\":\n",
    "        new_id = new_id[:len(new_id)-1]\n",
    "        \n",
    "    print(\"stage 4 \", new_id)\n",
    "    \n",
    "    if len(new_id) == 0:\n",
    "        new_id += \"a\"\n",
    "    print(\"stage 5 \", new_id)\n",
    "    \n",
    " \n",
    "    new_id = new_id[:15]\n",
    "    if new_id[len(new_id)-1] == \".\":\n",
    "        new_id = new_id[:14]\n",
    "    print(\"stage 6 \", new_id)\n",
    "    \n",
    "    if len(new_id) < 3:\n",
    "        while len(new_id) < 3:\n",
    "            new_id += new_id[len(new_id)-1]\n",
    "    return new_id\n",
    "\n",
    "solution(\"...!@BaT#*..y.abcdefghijklm\")"
   ]
  },
  {
   "cell_type": "code",
   "execution_count": 51,
   "metadata": {},
   "outputs": [
    {
     "data": {
      "text/plain": [
       "'gfedcbZ'"
      ]
     },
     "execution_count": 51,
     "metadata": {},
     "output_type": "execute_result"
    }
   ],
   "source": [
    "# Programmers level 1 문자열 내림차순으로 배치하기\n",
    "\n",
    "import string\n",
    "\n",
    "def solution(s):\n",
    "    lowers = string.ascii_lowercase \n",
    "    uppers = string.ascii_uppercase\n",
    "    \n",
    "    lowerposes = []\n",
    "    upperposes = []\n",
    "    \n",
    "    for istr in s:\n",
    "        if istr in lowers:\n",
    "            lowerposes.append(lowers.index(istr))\n",
    "        elif istr in uppers:\n",
    "            upperposes.append(uppers.index(istr))\n",
    "   \n",
    "    lposes = sorted(lowerposes,reverse=True)\n",
    "    uposes = sorted(upperposes,reverse=True)\n",
    "    ans = \"\"\n",
    "    for i in lposes:\n",
    "        ans += lowers[i]\n",
    "    for i in uposes:\n",
    "        ans += uppers[i]\n",
    "    return ans\n",
    "\n",
    "solution(\"Zbcdefg\")"
   ]
  },
  {
   "cell_type": "code",
   "execution_count": 104,
   "metadata": {
    "scrolled": true
   },
   "outputs": [
    {
     "name": "stdout",
     "output_type": "stream",
     "text": [
      "ABCDEFGHIJKLM\n",
      " ZYXWVUTSRQPON\n",
      "[0, 4, 7]\n",
      "[4, 3]\n",
      "sum(dist) 7  max(dist) 4  dist[dist.index(max(dist))-1]  3\n"
     ]
    },
    {
     "data": {
      "text/plain": [
       "17"
      ]
     },
     "execution_count": 104,
     "metadata": {},
     "output_type": "execute_result"
    }
   ],
   "source": [
    "# programmers level 2 JoySticks\n",
    "\n",
    "import string\n",
    "import math\n",
    "\n",
    "def solution(s):\n",
    "    forward = string.ascii_uppercase[:13]\n",
    "    backward = string.ascii_uppercase[13:]\n",
    "    backward = \" \"+backward[::-1]\n",
    "    \n",
    "    print(forward)\n",
    "    print(backward)\n",
    "    \n",
    "    cnt = 0\n",
    "    poses = []\n",
    "    for i in range(len(s)):\n",
    "        if s[i] != \"A\":\n",
    "            if s[i] in backward:\n",
    "                cnt += backward.index(s[i])\n",
    "                poses.append(i)\n",
    "            else:\n",
    "                cnt += forward.index(s[i])\n",
    "                poses.append(i)\n",
    "                \n",
    "    print(poses)\n",
    "    \n",
    "    dist = []\n",
    "    for i in range(1,len(poses)):\n",
    "        dist.append(poses[i]-poses[i-1])\n",
    "    \n",
    "    print(dist)\n",
    "    \n",
    "    '''\n",
    "      if dist.index(max(dist)) == 0 and max(dist) != 1:\n",
    "        for i in dist:\n",
    "            if i != max(dist):\n",
    "                cnt+=i\n",
    "        cnt += 1\n",
    "    else:\n",
    "        for i in dist:\n",
    "            cnt+=i\n",
    "    '''\n",
    "    if len(s) <= 3:\n",
    "        if \"A\" in s:\n",
    "            cnt += sum(dist) - max(dist) +1\n",
    "    else:\n",
    "        if max(dist) >= len(s)/3:\n",
    "            if len(dist) > 1:\n",
    "                a = sum(dist) - max(dist) + dist[dist.index(max(dist))-1]\n",
    "                print(\"sum(dist)\",sum(dist),\" max(dist)\",max(dist), \" dist[dist.index(max(dist))-1] \",dist[dist.index(max(dist))-1])\n",
    "                cnt+=a\n",
    "            else:\n",
    "                cnt += sum(dist) - max(dist) +1\n",
    "        else:\n",
    "            cnt += sum(dist)\n",
    "    return cnt\n",
    "\n",
    "solution(\"JAAABAAZ\")"
   ]
  },
  {
   "cell_type": "code",
   "execution_count": 5,
   "metadata": {},
   "outputs": [
    {
     "name": "stdout",
     "output_type": "stream",
     "text": [
      "[('6', '3'), ('6', '2'), ('3', '6'), ('3', '2'), ('2', '6'), ('2', '3')]\n",
      "[('6', '3', '2'), ('6', '2', '3'), ('3', '6', '2'), ('3', '2', '6'), ('2', '6', '3'), ('2', '3', '6')]\n"
     ]
    },
    {
     "data": {
      "text/plain": [
       "([6, 3, 2, 63, 62, 36, 32, 26, 23, 632, 623, 362, 326, 263, 236], 4)"
      ]
     },
     "execution_count": 5,
     "metadata": {},
     "output_type": "execute_result"
    }
   ],
   "source": [
    "# Programmers 소수 찾기. level 2 (Complete Search)\n",
    "# 03/06\n",
    "'''\n",
    "python의 itertools라는 라이브러리의 permutations 라는 함수를 이용, 모든 조합을 구한다.\n",
    "numbers의 길이에 따라 가능한 숫자의 자리수가 바뀌므로 len(numbers)+1승까지 진행하였다 (그래야 numbers의 길이 까지 루핑)\n",
    "\n",
    "이후는 그냥 만든 가능한 숫자 조합에서 소수 찾기.\n",
    "'''\n",
    "from itertools import permutations\n",
    "\n",
    "def solution(numbers):\n",
    "    opts = []\n",
    "    ans = []\n",
    "    for i in numbers:\n",
    "        opts.append(i)\n",
    "        if int(i) not in ans:\n",
    "            ans.append(int(i))\n",
    "    \n",
    "    for i in range(2,len(numbers)+1):\n",
    "        outcomes = list(permutations(opts, i))\n",
    "        print(outcomes)\n",
    "        for j in outcomes:\n",
    "            a = \"\"\n",
    "            for k in range(i):\n",
    "                a += j[k]\n",
    "            if int(a) not in ans:\n",
    "                ans.append(int(a))\n",
    "    answer = 0\n",
    "    for i in ans:\n",
    "        if i >= 2:\n",
    "            if isPrime(i):\n",
    "                answer+=1\n",
    "    return ans, answer\n",
    "\n",
    "def isPrime(num):\n",
    "    for i in range(2, int(num/2)+1):\n",
    "        if num%i == 0:\n",
    "            return False\n",
    "    return True\n",
    "\n",
    "solution(\"632\")"
   ]
  },
  {
   "cell_type": "code",
   "execution_count": 24,
   "metadata": {},
   "outputs": [
    {
     "name": "stdout",
     "output_type": "stream",
     "text": [
      "2\n",
      "[1, 2, 3]\n"
     ]
    },
    {
     "data": {
      "text/plain": [
       "0"
      ]
     },
     "execution_count": 24,
     "metadata": {},
     "output_type": "execute_result"
    }
   ],
   "source": [
    "# Programmers 찾아라 프로그래밍 마에스터: 폰켓몬 level 2:\n",
    "# 03/06\n",
    "'''\n",
    "[1 <= len(nums) <= 10,000] ==> n^2 POSSIBLE to iterate, but when this code requires \n",
    "(comb(n))^2 and thats the trouble maker.\n",
    "    ===> THE STUPIDEST WAY TO APPROACH THIS QUESTION!!!!!!\n",
    "    since you only need the MAX(important!!) combination of unique element, there's\n",
    "    no need to find all of the combinations possible. You look for the maximum possible,\n",
    "    and compare that to N/2 if it is a possible answer or not.\n",
    "\n",
    "'''\n",
    "\n",
    "import numpy as np\n",
    "\n",
    "def solution(nums):\n",
    "    answer = 0\n",
    "    n = int(len(nums)/2)\n",
    "    print(n)\n",
    "    ans = list(np.unique(nums))\n",
    "    \n",
    "    maxdiver = 0\n",
    "    \n",
    "    if len(ans) > n:\n",
    "        maxdiver = n\n",
    "    else:\n",
    "        maxdiver = len(ans)\n",
    "    \n",
    "    return maxdiver\n",
    "\n",
    "\n",
    "solution([3,1,2,3,2])"
   ]
  },
  {
   "cell_type": "code",
   "execution_count": 19,
   "metadata": {},
   "outputs": [
    {
     "name": "stdout",
     "output_type": "stream",
     "text": [
      "['101110', '100001', '100001', '010110', '011111', '110010']\n",
      "['011011', '111000', '010011', '001110', '001110', '001010']\n"
     ]
    },
    {
     "data": {
      "text/plain": [
       "['######', '###  #', '##  ##', ' #### ', ' #####', '### # ']"
      ]
     },
     "execution_count": 19,
     "metadata": {},
     "output_type": "execute_result"
    }
   ],
   "source": [
    "# 2018 Kakao Bline 1st coding test 비밀지도 level 1\n",
    "# 03/06\n",
    "\n",
    "'''\n",
    "1. Have all elts in arr1 and arr2 in binaries \n",
    "2. Add ith elt in arr1 to that of arr2\n",
    "3. if the sum >= 1 ==> append # to ans\n",
    "    else append \" \"\n",
    "'''\n",
    "def solution(n, arr1, arr2):\n",
    "    ans = []\n",
    "    arr1bin = []\n",
    "    arr2bin = []\n",
    "    \n",
    "    for i in arr1:\n",
    "        i_bin = bin(i)[2:]\n",
    "        if len(i_bin) < n:\n",
    "            while len(i_bin) < n:\n",
    "                i_bin = \"0\"+i_bin\n",
    "        arr1bin.append(i_bin)\n",
    "        \n",
    "    for i in arr2:\n",
    "        i_bin = bin(i)[2:]\n",
    "        if len(i_bin) < n:\n",
    "            while len(i_bin) < n:\n",
    "                i_bin = \"0\"+i_bin\n",
    "        arr2bin.append(i_bin)\n",
    "    \n",
    "    print(arr1bin)\n",
    "    print(arr2bin)\n",
    "    \n",
    "    for i in range(n):\n",
    "        line = \"\"\n",
    "        for j in range(n):\n",
    "            if (int(arr1bin[i][j]) + int(arr2bin[i][j])) >= 1:\n",
    "                line += \"#\"\n",
    "            else:\n",
    "                line += \" \"\n",
    "        ans.append(line)\n",
    "        \n",
    "    return ans\n",
    "\n",
    "solution(6, [46, 33, 33, 22, 31, 50], [27, 56, 19, 14, 14, 10])"
   ]
  },
  {
   "cell_type": "code",
   "execution_count": 18,
   "metadata": {},
   "outputs": [
    {
     "name": "stdout",
     "output_type": "stream",
     "text": [
      "[0, 4, 4, 3, 3]\n",
      "chances  5\n",
      "[0, 4, 4, 3, 3] pos: 2 pos-1: 1\n",
      "[0, 3, 3] pos: 2 pos-1: 1\n"
     ]
    },
    {
     "data": {
      "text/plain": [
       "4"
      ]
     },
     "execution_count": 18,
     "metadata": {},
     "output_type": "execute_result"
    }
   ],
   "source": [
    "# 2019 카카오 코테 1번 크레인 인형 뽑기\n",
    "# 03/06\n",
    "\n",
    "'''\n",
    "1. 크레인이 이동했을때 발생하는 결과 리스트를 만든다\n",
    "2. 그 해당 리스트를 루핑하며 발생하는 같은 답들을 지워낸다\n",
    "    루핑은 len(result)안에 무조건 끝나게 되어있다.\n",
    "    Can be proven by Contradiction:\n",
    "        since there are n ints in result, if we crease the size by 2 and \n",
    "        check (n-4)th elt, if there exists two equal elts in postions than (n-4)th,\n",
    "        it contradicts my first assumption on algorithm that it clears all 2 visited\n",
    "        equal elts.\n",
    "'''\n",
    "\n",
    "def solution(board, moves):\n",
    "    answer = 0\n",
    "    result = [0]\n",
    "    \n",
    "    for i in range(len(moves)):\n",
    "        k = moves[i] - 1\n",
    "        for j in range(len(board)):\n",
    "            if board[j][k] != 0:\n",
    "                result.append(board[j][k])\n",
    "                board[j][k] = 0\n",
    "                break\n",
    "    print(result)     \n",
    "    chances = len(result)\n",
    "    \n",
    "    print(\"chances \", chances)\n",
    "    pos = 1\n",
    "    for i in range(chances):\n",
    "        if pos >= len(result):\n",
    "            pos -= 1\n",
    "        if result[pos] == result[pos - 1] and len(result) != 1:\n",
    "            answer += 2\n",
    "            print(result,\"pos:\", pos,\"pos-1:\",pos-1)\n",
    "            del result[pos-1:pos+1]\n",
    "            pos -= 1    \n",
    "        else:\n",
    "            pos += 1\n",
    "    \n",
    "    return answer\n",
    "\n",
    "solution([[0,0,0,0,0],[0,0,1,0,3],[0,2,5,0,1],[4,2,4,4,2],[3,5,1,3,1]], \n",
    "         [1,4,1,5])"
   ]
  },
  {
   "cell_type": "code",
   "execution_count": 4,
   "metadata": {},
   "outputs": [
    {
     "data": {
      "text/plain": [
       "444"
      ]
     },
     "execution_count": 4,
     "metadata": {},
     "output_type": "execute_result"
    }
   ],
   "source": [
    "# Programmers Practice 124 나라의 숫자  level 2\n",
    "'''\n",
    "n 진수 구하는 문제들과 유사하나 한 부분이 다르다.\n",
    "    기본적으로 4진수를 구하는 문제와 매우 유사하나 0이 빠짐으로 인해 자리수의 증가를\n",
    "    1로 표현한다 그렇기에 매 이터레이션 마다 1을 빼준후 진수변환을 해야 작동한다\n",
    "'''\n",
    "\n",
    "def solution(n):\n",
    "    ans = \"\"\n",
    "    while n > 0:\n",
    "        n -= 1\n",
    "        a = n%3\n",
    "        if a == 0:\n",
    "            ans = \"1\"+ans\n",
    "        if a == 1:\n",
    "            ans = \"2\"+ans\n",
    "        if a == 2:\n",
    "            ans = \"4\"+ans\n",
    "        n //= 3\n",
    "    return int(ans)\n",
    "\n",
    "solution(39)"
   ]
  },
  {
   "cell_type": "code",
   "execution_count": 39,
   "metadata": {},
   "outputs": [
    {
     "data": {
      "text/plain": [
       "'\\nThis problem was asked by Stripe.\\n\\nGiven an array of integers, find the first missing positive integer in linear time and constant space. \\n\\nIn other words, find the lowest positive integer that does not exist in the array. The array can contain \\n\\nduplicates and negative numbers as well.\\n\\nFor example, the input [3, 4, -1, 1] should give 2. The input[1, 2, 0] should give 3.\\n\\nYou can modify the input array in-place.\\n\\n'"
      ]
     },
     "execution_count": 39,
     "metadata": {},
     "output_type": "execute_result"
    }
   ],
   "source": [
    "# Question from Jongmin's friend...\n",
    "\n",
    "'''\n",
    "This problem was asked by Stripe.\n",
    "\n",
    "Given an array of integers, find the first missing positive integer in linear time and constant space. \n",
    "\n",
    "In other words, find the lowest positive integer that does not exist in the array. The array can contain \n",
    "\n",
    "duplicates and negative numbers as well.\n",
    "\n",
    "For example, the input [3, 4, -1, 1] The input[1, 2, 0] should give 3.\n",
    "\n",
    "You can modify the input array in-place.\n",
    "\n",
    "'''\n"
   ]
  },
  {
   "cell_type": "code",
   "execution_count": 56,
   "metadata": {},
   "outputs": [
    {
     "name": "stdout",
     "output_type": "stream",
     "text": [
      "[1, 2]\n"
     ]
    },
    {
     "data": {
      "text/plain": [
       "3"
      ]
     },
     "execution_count": 56,
     "metadata": {},
     "output_type": "execute_result"
    }
   ],
   "source": [
    "\n",
    "'''\n",
    "my approach to solve the above question.\n",
    "\n",
    "sort the list first, and then find the missing positive value\n",
    "\n",
    "Problem:\n",
    "    sorted(list) ==> O(n*log(n)) already. Need to find any sort algorithm \n",
    "    that does the job in O(n)\n",
    "    currently the below algoirthm is in O(n*log(n))\n",
    "'''\n",
    "\n",
    "def solution(nums):\n",
    "    ans = 0\n",
    "    \n",
    "    nums = sorted(nums)\n",
    "    \n",
    "    nums = list(filter(lambda x: x>0, nums))\n",
    "    \n",
    "    visited = []\n",
    "    for i in nums:\n",
    "        if i not in visited:\n",
    "            visited.append(i)\n",
    "    \n",
    "    nums = visited[:]\n",
    "    print(nums)\n",
    "            \n",
    "    if nums[0] != 1:\n",
    "        return 1\n",
    "    \n",
    "    for i, num in enumerate(nums):\n",
    "        if num < 1 or i == 0 or nums[i-1] < 0:\n",
    "            continue\n",
    "        else:\n",
    "            if num - nums[i-1] != 1:\n",
    "                ans = nums[i-1]+1\n",
    "                break\n",
    "                \n",
    "    if ans == 0:\n",
    "        ans = max(nums)+1\n",
    "    return ans\n",
    "\n",
    "solution([0,2,2,1,1])"
   ]
  },
  {
   "cell_type": "code",
   "execution_count": 58,
   "metadata": {},
   "outputs": [
    {
     "data": {
      "text/plain": [
       "7"
      ]
     },
     "execution_count": 58,
     "metadata": {},
     "output_type": "execute_result"
    }
   ],
   "source": [
    "'''\n",
    "pretty sure this one is in O(2*n) =~ O(n). But not exactly sure if it's in contstant space or not.. \n",
    "'''\n",
    "\n",
    "def solution(nums):\n",
    "    set_nums = set(nums)\n",
    "    for i in range(1, len(nums)+1):\n",
    "        if i not in set_nums:\n",
    "            return i\n",
    "    return len(nums)+1\n",
    "\n",
    "solution([1,2,3,4,5,6])"
   ]
  },
  {
   "cell_type": "code",
   "execution_count": 1,
   "metadata": {},
   "outputs": [
    {
     "data": {
      "text/plain": [
       "5"
      ]
     },
     "execution_count": 1,
     "metadata": {},
     "output_type": "execute_result"
    }
   ],
   "source": [
    "# Programmers BFS/DFS 타겟 넘버 level2\n",
    "\n",
    "\n",
    "def solution(numbers, target):\n",
    "    N = len(numbers)\n",
    "    ans = dfs(numbers, 0, target, 0, N)\n",
    "    \n",
    "    return ans\n",
    "\n",
    "def dfs(nums, curIdx, target, curSum, dest):\n",
    "    if curIdx == dest and curSum == target:\n",
    "        ans+=1 \n",
    "    elif curIdx == dest and curSum != target:\n",
    "\n",
    "\n",
    "\n",
    "solution([1, 1, 1, 1, 1], 3)"
   ]
  },
  {
   "cell_type": "code",
   "execution_count": 1,
   "metadata": {},
   "outputs": [],
   "source": [
    "# Programmers practice 소수 찾기 level 1:\n",
    "\n",
    "def solution(n):\n",
    "    ans = 1\n",
    "    for i in range(3, n+1,2):\n",
    "        if i%2 != 0:\n",
    "            if prime_check(i):\n",
    "                ans += 1\n",
    "    return ans\n",
    "\n",
    "def prime_check(i):\n",
    "    half_i = int(i/2)+1\n",
    "    for j in range(3, half_i, 2):\n",
    "        if i%j == 0:\n",
    "            return False\n",
    "    return True\n",
    "def eratostenes(n):\n",
    "    ans = 0\n",
    "    nums = list(x for x in range(2,n+1))\n",
    "    print(nums)\n",
    "    for i in range(len(nums)):\n",
    "        print(nums[i])\n",
    "        nums = list(filter(lambda x: x%nums[i] != 0, nums))\n",
    "    return nums\n",
    "\n",
    "\n",
    "\n",
    "#solution(111)"
   ]
  },
  {
   "cell_type": "code",
   "execution_count": 6,
   "metadata": {},
   "outputs": [
    {
     "data": {
      "text/plain": [
       "'수박수'"
      ]
     },
     "execution_count": 6,
     "metadata": {},
     "output_type": "execute_result"
    }
   ],
   "source": [
    "# Programmers 수박수박수박 level 1\n",
    "\n",
    "def solution(n):\n",
    "    word = \"수박\"\n",
    "    if n%2 == 0:\n",
    "        ans = word*(n/2)\n",
    "    else:\n",
    "        ans = word*int((n-1)/2)+\"수\"\n",
    "        \n",
    "    return ans\n",
    "\n",
    "solution(3)"
   ]
  },
  {
   "cell_type": "code",
   "execution_count": 181,
   "metadata": {
    "scrolled": false
   },
   "outputs": [
    {
     "name": "stdout",
     "output_type": "stream",
     "text": [
      "[0, 1]\n",
      "[(0, 1)]\n",
      "(0, 1)\n",
      "[]\n"
     ]
    },
    {
     "data": {
      "text/plain": [
       "(1, 1)"
      ]
     },
     "execution_count": 181,
     "metadata": {},
     "output_type": "execute_result"
    }
   ],
   "source": [
    "#2019 Kakao Blind 후보키 level 2:\n",
    "from itertools import combinations\n",
    "def solution(rel):\n",
    "    ans = []\n",
    "    colsLeft = [n for n in range(len(rel[0]))]\n",
    "    colCombLeft = [combinations(colsLeft, i) for i in range(2,len(colsLeft)+1)]\n",
    "    print(colsLeft)\n",
    "    opts = []\n",
    "    \n",
    "    \n",
    "    for i in colCombLeft:\n",
    "        for j in i:\n",
    "            opts.append(j)\n",
    "    print(opts)\n",
    "    \n",
    "    \n",
    "    \n",
    "    for i in range(len(rel[0])):\n",
    "        col = [rel[j][i] for j in range(len(rel))]\n",
    "        if len(set(col))==len(rel):\n",
    "            ans.append(True)\n",
    "            colsLeft.remove(i)\n",
    "            for j in range(len(opts)):\n",
    "                if set((i,)).issubset(opts[j]):\n",
    "                    opts[j] = (0,0)\n",
    "    opts = list(filter(lambda x: x!=(0,0), opts))\n",
    "\n",
    "    \n",
    "    if len(opts) == 0:\n",
    "        return len(ans)\n",
    "    count = 0\n",
    "    while len(opts) != 0:\n",
    "        count+=1\n",
    "        curComb = opts[0]\n",
    "        print(curComb)\n",
    "        opts = opts[1:]\n",
    "        combs = []\n",
    "        for k in range(len(rel)):\n",
    "            combMade = []\n",
    "            for a in curComb:\n",
    "                combMade.append(rel[k][a])\n",
    "            combs.append(combMade)\n",
    "        visited = []\n",
    "        for comb in combs:\n",
    "            if comb not in visited:\n",
    "                visited.append(comb)\n",
    "            else:\n",
    "                break\n",
    "\n",
    "        if len(visited) == len(rel):\n",
    "            ans.append(True)\n",
    "            for j in range(len(opts)):\n",
    "                if set(curComb).issubset(opts[j]):\n",
    "                    opts[j] = (0,0)\n",
    "            opts = list(filter(lambda x: x!=(0,0), opts))\n",
    "            print(opts)\n",
    "            \n",
    "    return len(ans),count\n",
    "\n",
    "\n",
    "\n",
    "'''\n",
    "solution([[\"100\",\"ryan\",\"music\",\"2\",\"math\", \"res\",\"1\"],\n",
    "          [\"200\",\"apeach\",\"math\",\"2\", \"math\",\"rs\",\"2\"],\n",
    "          [\"300\",\"tube\",\"computer\",\"3\",\"science\",\"val\",\"3\"],\n",
    "          [\"400\",\"con\",\"computer\",\"3\",\"lol\",\"val\",\"4\"],\n",
    "          [\"500\",\"muzi\",\"music\",\"3\",\"OverWatch\",\"ree\",\"5\"],\n",
    "          [\"600\",\"apeach\",\"music\",\"2\",\"OverWatch\",\"ree\",\"6\"]])\n",
    "solution([[\"18\", \"Settrigh\", \"Top\"],\n",
    "         [\"16\", \"Darius\", \"Top\"],\n",
    "         [\"16\", \"Kaitlyn\",\"Adc\"],\n",
    "         [\"17\", \"Talon\", \"Mid\"]])\n",
    "solution([[\"15\"],\n",
    "         [\"88\"],\n",
    "         [\"asdasds\"]])         \n",
    "solution([[\"100\",\"ryan\",\"music\",\"2\",\"qwe\",\"qwer\"],\n",
    "          [\"200\",\"apeach\",\"math\",\"2\",\"qwe\",'qwer'],\n",
    "          [\"300\",\"tube\",\"music\",\"3\",\"qwe\",\"qwer\"],\n",
    "          [\"300\",\"con\",\"computer\",\"4\",\"qwqqq\",\"qwer\"],\n",
    "          [\"500\",\"muzi\",\"music\",\"3\",\"qweeee\",\"qwer\"],\n",
    "          [\"600\",\"apeach\",\"music\",\"2\",\"qwews\",\"qwer\"]])\n",
    "          \n",
    "solution([[\"4\", \"4\", \"사랑\",                        \"2020-07-03 오전 12:00:00\", \"love\"]\n",
    "        , [\"5\", \"4\", \"같은, 좋은, 와 비슷한\",        \"2020-07-03 오전 12:00:00\", \"like\"]\n",
    "        , [\"6\", \"4\", \"사과,대도시\",                  \"2020-07-03 오전 12:00:00\", \"apple\"]\n",
    "        , [\"7\", \"4\", \"빌다,기도하다,에게 간청하다\",   \"2020-07-03 오전 12:00:00\", \"pray\"]\n",
    "        , [\"8\", \"3\", \"빌다,기도하다,에게 간청하다\",   \"2020-06-27 오전 12:00:00\", \"pray\"]\n",
    "        , [\"9\", \"4\", \"안녕\",                        \"2020-07-03 오전 12:00:00\", \"hi\"]\n",
    "        , [\"10\", \"3\", \"같은, 좋은\",                 \"2020-06-29 오전 12:00:00\", \"like\"]\n",
    "        , [\"11\", \"2\", \"나는 모자를 벗는다\",          \"2020-06-27 오전 12:00:00\", \"I take off my hat\"]]) \n",
    "        \n",
    "        \n",
    "        \n",
    "      solution([[\"4\",  \"4\",  \"사랑\",                      \"2020-07-03 오전 12:00:00\", \"love\"]\n",
    "            , [\"5\", \"4\", \"같은, 좋은, 와 비슷한\",      \"2020-07-03 오전 12:00:00\", \"like\"]\n",
    "            , [\"6\", \"4\", \"사과,대도시\",                \"2020-07-03 오전 12:00:00\", \"apple\"]\n",
    "            , [\"7\", \"4\", \"빌다,기도하다,에게 간청하다\", \"2020-07-03 오전 12:00:00\", \"pray\"]\n",
    "            , [\"8\", \"4\", \"빌다,기도하다,에게 간청하다\",  \"2020-06-27 오전 12:00:00\", \"pray\"]\n",
    "            , [\"9\", \"4\", \"안녕\",                        \"2020-07-03 오전 12:00:00\", \"hi\"]\n",
    "            , [\"10\", \"3\", \"같은, 좋은\",                  \"2020-06-29 오전 12:00:00\", \"like\"]\n",
    "            , [\"11\", \"2\", \"나는 모자를 벗는다\",          \"2020-06-27 오전 12:00:00\", \"I take off my hat\"]])  \n",
    "        \n",
    "        \n",
    "          '''\n",
    "\n",
    "\n",
    "solution([['a', 'aa'], ['aa', 'a'], ['a', 'a']])"
   ]
  },
  {
   "cell_type": "code",
   "execution_count": 97,
   "metadata": {},
   "outputs": [
    {
     "name": "stdout",
     "output_type": "stream",
     "text": [
      "i:  0  leftnum  4177252841  leftnum[i]  4\n",
      "i:  1  leftnum  4177252841  leftnum[i]  1\n",
      "i:  2  leftnum  4177252841  leftnum[i]  7\n",
      "i:  3  leftnum  4177252841  leftnum[i]  7\n",
      "i:  4  leftnum  4177252841  leftnum[i]  2\n",
      "ans:  ['7']  leftk  2\n",
      "i:  0  leftnum  7252841  leftnum[i]  7\n",
      "i:  1  leftnum  7252841  leftnum[i]  2\n",
      "i:  2  leftnum  7252841  leftnum[i]  5\n",
      "ans:  ['7', '7']  leftk  2\n",
      "i:  0  leftnum  252841  leftnum[i]  2\n",
      "i:  1  leftnum  252841  leftnum[i]  5\n",
      "i:  2  leftnum  252841  leftnum[i]  2\n",
      "ans:  ['7', '7', '5']  leftk  1\n",
      "i:  0  leftnum  2841  leftnum[i]  2\n",
      "i:  1  leftnum  2841  leftnum[i]  8\n",
      "ans:  ['7', '7', '5', '8']  leftk  0\n"
     ]
    },
    {
     "data": {
      "text/plain": [
       "'775841'"
      ]
     },
     "execution_count": 97,
     "metadata": {},
     "output_type": "execute_result"
    }
   ],
   "source": [
    "# Programmers 큰수 만들기 level 2 Greedy\n",
    "\n",
    "'''\n",
    "보자마자 들었던 생각인 combiations를 이용하여 모든 가능한 조합이 찾고 거기서 가장 큰 수를 리턴하는 방식으로 접근하였다.\n",
    "그러나 combinations은 총 O(k (n choose k)) 을 가지는데 여기서 n은 최대 1,000,000 까지 커진다. 그렇다면 최대 100억이 넘는 \n",
    "연산이 실행되는데 이 경우에는 무조건 실패한다고 볼수있다. \n",
    "\n",
    "두번째의 접근 방법은 이 문제에서의 조합은 중복조합이 없기에 (ex: \"123\" && k = 2 ==> 12,13,23 만이 가능 옵션. 32,31은 포함되지 않는다.)\n",
    "그렇기에 len(s)-k 이전에 있는 인덱스에서 가장 큰수를 찾아서 조합하는 방식을 사용해보자. \n",
    "\n",
    "결국 두번째의 접근 방법으로 풀긴 했으나 중간중간 실수가 너무 많았다. 정말 단순한 접근이 필요했던 문제인데 그걸 제대로 하지 못한 듯 하다. \n",
    "시간의 절약을 위해 현재의 맥시멈이 9일 경우 for문을 끊는 문을 추가해야만 성공하는 문제이다. (n 이 최대 1,000,000 이기 때문에 만약 \n",
    "99만9999 일 경우 계속해서 연산을 하게되는데 시간이 너무 오래걸리게 된다.) 좀 더 단순하게 기본에 입각해 생각하자.\n",
    "\n",
    "'''\n",
    "\n",
    "def solution(numbers, k):\n",
    "    ans = []\n",
    "    leftnum = numbers\n",
    "    leftk = k\n",
    "    while len(ans) < len(numbers)-k:\n",
    "        curmax = 0\n",
    "        for i in range(leftk+1):\n",
    "            print(\"i: \", i,\" leftnum \", leftnum, \" leftnum[i] \",leftnum[i])\n",
    "            if int(leftnum[i]) > int(leftnum[curmax]):\n",
    "                curmax = i\n",
    "            if int(leftnum[i]) == 9:\n",
    "                break\n",
    "        ans.append(leftnum[curmax])\n",
    "        leftnum = leftnum[curmax+1:]\n",
    "        leftk -= curmax\n",
    "        print(\"ans: \",ans,\" leftk \",leftk)\n",
    "        if leftk == 0:\n",
    "            a = \"\".join(leftnum)\n",
    "            ans.append(a)\n",
    "            break\n",
    "        \n",
    "        \n",
    "    return \"\".join(ans)\n",
    "\n",
    "\n",
    "\n",
    "\n",
    "'''\n",
    "def solution2(numbers, k):\n",
    "    ans = []\n",
    "    \n",
    "    leftnum = numbers\n",
    "    leftk = k\n",
    "    print(leftk)\n",
    "    while leftk > 0:\n",
    "        orilen = len(leftnum)\n",
    "        tlength = len(leftnum) - leftk\n",
    "\n",
    "        maxidx = len(leftnum) - tlength\n",
    "\n",
    "        curmax = 0\n",
    "        \n",
    "        for i in range(1,maxidx):\n",
    "            if int(leftnum[i]) > int(leftnum[curmax]):\n",
    "                print(\"curmax: \",leftnum[i])\n",
    "                curmax = i\n",
    "        ans.append(leftnum[curmax])\n",
    "        leftnum = leftnum[curmax+1:len(leftnum)]\n",
    "        \n",
    "        if len(ans) == len(numbers) - k:\n",
    "            break\n",
    "        curlen = len(leftnum)+1\n",
    "        leftk -= (orilen - curlen)\n",
    "        print(ans, leftnum, leftk)\n",
    "        if leftk == 1:\n",
    "            tlength = len(leftnum) - leftk\n",
    "\n",
    "            maxidx = len(leftnum) - tlength\n",
    "            print(maxidx)\n",
    "            curmax = 0\n",
    "            for i in range(maxidx+1):\n",
    "                if int(leftnum[i]) > int(leftnum[curmax]):\n",
    "                    print(\"curmax: \",leftnum[i])\n",
    "                    curmax = i\n",
    "            ans.append(leftnum[curmax:])\n",
    "            break\n",
    "    ans = \"\".join(ans)\n",
    "    return ans'''\n",
    "#solution(\"1924\", 2)\n",
    "#solution(\"1231234\", 3)\n",
    "solution(\"4177252841\", 4)"
   ]
  },
  {
   "cell_type": "code",
   "execution_count": 34,
   "metadata": {},
   "outputs": [
    {
     "name": "stdout",
     "output_type": "stream",
     "text": [
      "4 4 2 1\n",
      "1 2\n",
      "2 3\n",
      "2 4\n",
      "3 4\n",
      "graph:  [[2], [3, 4], [4], []]\n",
      "Visited: [False, False, False, False]\n",
      "ans 3\n",
      "ans 4\n"
     ]
    },
    {
     "data": {
      "text/plain": [
       "[[2], [3, 4], [4], []]"
      ]
     },
     "execution_count": 34,
     "metadata": {},
     "output_type": "execute_result"
    }
   ],
   "source": [
    "# 백준 특정거리의 도시 찾기 DFS/BFS 1.5 lev(approximately 2~3) https://www.acmicpc.net/problem/18352\n",
    "\n",
    "from collections import deque\n",
    "\n",
    "\n",
    "import sys\n",
    "input = sys.stdin.readline\n",
    "'''\n",
    "이 위에 저 두줄은 백준을 이용할시에는 필수!!!!! 읽는게 개똥수준으로 느린 파이썬에선 저러한\n",
    "구문이 있어야만 시간내에 값을 읽고 처리를 할수있다!!! 행그님 짱짱맨!!!\n",
    "\n",
    "'''\n",
    "n, m, k, x = map(int, input().split())\n",
    "graph = []\n",
    "for i in range(m):\n",
    "    graph.append([])\n",
    "\n",
    "for _ in range(m):\n",
    "    a, b = input().split()\n",
    "    graph[int(a)-1].append(int(b))\n",
    "    \n",
    "ans = 0\n",
    "que = deque([x-1])\n",
    "visited = [False]*n\n",
    "print(\"graph: \", graph)\n",
    "print(\"Visited:\", visited)\n",
    "\n",
    "dist = 1\n",
    "if len(graph[x-1]) != 0:\n",
    "    while dist != k+1:\n",
    "        a = que.popleft()\n",
    "        for i in graph[a]:\n",
    "            que.append(i-1)\n",
    "            if not visited[i-1]:\n",
    "                if dist == k:\n",
    "                    print(\"ans\",i)\n",
    "                visited[i-1] = True            \n",
    "        dist += 1\n",
    "else:\n",
    "    print(-1)\n",
    "graph"
   ]
  },
  {
   "cell_type": "code",
   "execution_count": 18,
   "metadata": {},
   "outputs": [
    {
     "name": "stdout",
     "output_type": "stream",
     "text": [
      "7 0\n",
      "7\n",
      "3 1\n",
      "3\n",
      "9 2\n",
      "0 3\n"
     ]
    },
    {
     "data": {
      "text/plain": [
       "([7, 3, 9, 0], [2, 1])"
      ]
     },
     "execution_count": 18,
     "metadata": {},
     "output_type": "execute_result"
    }
   ],
   "source": [
    "#기능 개발 programmers level2 (stack/que) \n",
    "\n",
    "import math\n",
    "\n",
    "def solution(p, s):\n",
    "    days = []\n",
    "    for i in range(len(p)):\n",
    "        days.append(math.ceil((100-p[i])/s[i]))\n",
    "    a = 0\n",
    "    curMax = days[0]\n",
    "    days.append(0)\n",
    "    ans = []\n",
    "    for idx, i in enumerate(days):\n",
    "        print(i, idx)\n",
    "        if i == 0:\n",
    "            ans.append(a)\n",
    "            break\n",
    "        elif i > curMax or idx == len(days)-1:\n",
    "            curMax = i\n",
    "            ans.append(a)\n",
    "            a = 1\n",
    "        else:\n",
    "            print(i)\n",
    "            a += 1\n",
    "    return days, ans\n",
    "\n",
    "solution([93, 30, 55],[1, 30, 5])"
   ]
  },
  {
   "cell_type": "code",
   "execution_count": 167,
   "metadata": {},
   "outputs": [
    {
     "name": "stdout",
     "output_type": "stream",
     "text": [
      "54\n",
      "len(ith2) === 4 ['java', 'backend', 'junior', 'pizza']\n",
      "javabackendjuniorpizza 1\n",
      "len(ith2) === 4 ['python', 'frontend', 'senior', 'chicken']\n",
      "pythonfrontendseniorchicken 1\n",
      "len(ith2) === 4 ['cpp', '-', 'senior', 'pizza']\n",
      "cppseniorpizza 1\n",
      "len(ith2) === 4 ['-', 'backend', 'senior', '-']\n",
      "backendsenior 1\n",
      "len(ith2) === 4 ['-', '-', '-', 'chicken']\n",
      "chicken 2\n",
      "len(ith2) === 4 ['-', '-', '-', '-']\n",
      " 4\n"
     ]
    },
    {
     "data": {
      "text/plain": [
       "[1, 1, 1, 1, 2, 4]"
      ]
     },
     "execution_count": 167,
     "metadata": {},
     "output_type": "execute_result"
    }
   ],
   "source": [
    "# 2021 kakao blind 순위 검색 programmers level 2\n",
    "'''\n",
    "레벨2라고는 믿기지 않을 만큼 어려웠다.. 앵간한 효율성 문제들이 그렇듯 이 문제도\n",
    "당연하게 어느정도는 특정 알고리즘을 모르면 못푸는 종류인듯 하다. (확실한건 아님)\n",
    "\n",
    "첫번째로 글들을 보며 들었던 의문인 combinations을 사용한 가능 옵션 수 확인이 \n",
    "2,3중 for문을 이용한 조합 만들기 보다 빠른 이유는 생각해보면 간단하다. 16*5*50000가\n",
    "50000*100000보다 한참 작은 수 이다. 내 경우에는 defaultdict를 이용해서 좀 더 편하게 접근할수 있었으나\n",
    "기존의 dict를 이용해 푼 경우도 있었는데 이경우는 어떤 원리인지 확인이 필요할듯 하다.\n",
    "\n",
    "이렇게 가능한 옵션을 잡아두고 나면 더 중요한 비교를 해야하는데 이미 저 위에서 만든 옵션의 토탈이 최악의 경우\n",
    "4,000,000 이다... 즉 저 양을 linear 를 넘어서는 비교횟수가 되면 실패한다는 얘기. 그렇기에 for 문 안에서 더 작아져야 하는데\n",
    "그렇기에 필요한게 binary search이다. 기본적으로 binary search는 log(n)의 시간 복잡도를 가지기에 \n",
    "이부분에서 n*log(n) 즉 최악의 경우 100,000*(4,000,000) ~= 660206 회의 연산이 필요해진다. 그러나 이는 위의 연산과는 합연산\n",
    "으로 계산되는 연산이기에 노 문제! 그러므로 효율성 검사를 통과할수 있게 된다.\n",
    "'''\n",
    "\n",
    "from itertools import combinations\n",
    "from collections import defaultdict\n",
    "import bisect\n",
    "import copy\n",
    "\n",
    "def solution(info, query):\n",
    "    ans = []\n",
    "    allcomb = defaultdict(list)\n",
    "    for i in info:\n",
    "        ith = i.split(\" \")\n",
    "        iscore = int(ith[4])\n",
    "        ith = ith[:4]\n",
    "        \n",
    "        for j in range(5):\n",
    "            for comb in combinations(ith, j):\n",
    "                key = \"\".join(comb)\n",
    "                allcomb[key].append(iscore)\n",
    "\n",
    "    for i in allcomb:\n",
    "        allcomb[i] = sorted(allcomb[i])\n",
    "        #print(i, allcomb[i])\n",
    "    print(len(allcomb))\n",
    "    \n",
    "    for i in query:\n",
    "        count = 0\n",
    "        ith = i.split(\" and \")\n",
    "        iscore = int(ith[3].split(\" \")[1])\n",
    "        ith[3] = ith[3].split(\" \")[0]\n",
    "        ith2 = copy.deepcopy(ith)\n",
    "        ith = \"\".join(ith[:4]).replace('-','')\n",
    "        print(\"len(ith2) ===\", len(ith2), ith2)\n",
    "        if ith in allcomb:\n",
    "            count = len(allcomb[ith]) - bisect.bisect_left(allcomb[ith], iscore)\n",
    "            print(ith+('-'*(4-len(ith2))), count)        \n",
    "        ans.append(count)\n",
    "\n",
    "    return ans\n",
    "                \n",
    "        \n",
    "    \n",
    "        \n",
    "    '''for i in range(larger):\n",
    "        if i >= len(qkeys) or i >= len(ikeys):\n",
    "            break\n",
    "        count = len(ikeys)\n",
    "        for j in range(4):\n",
    "            for k in \n",
    "    for i in range(len(qkeys)):\n",
    "        count = 0\n",
    "        for k in ikeys:\n",
    "            check = True\n",
    "            for j in range(4):\n",
    "                if qkeys[i][j] != k[j] and qkeys[i][j] != \"-\":\n",
    "                    print(qkeys[i][j] , k[j])\n",
    "                    check = False\n",
    "                    break\n",
    "            if check:\n",
    "                if int(qkeys[i][4]) <= int(k[4]):\n",
    "                    count +=1\n",
    "        ans.append(count)\n",
    "    '''\n",
    "    \n",
    "        \n",
    "    '''\n",
    "    for a,i in enumerate(qkeys):\n",
    "        count = 0\n",
    "        if a == 4:\n",
    "                print(i)\n",
    "        for j in info:\n",
    "            passed = True\n",
    "            factors = j.split(\" \")\n",
    "            if a == 4:\n",
    "                print(\"factors(jth info): \", factors)\n",
    "            for k in range(len(factors)-1):\n",
    "                if k == 3:\n",
    "                    print(i[k], factors[k])\n",
    "                if factors[k] != i[k] and i[k] != \"-\":\n",
    "                    passed = False\n",
    "                    break\n",
    "            if passed:\n",
    "                if a == 4:\n",
    "                    print(int(factors[len(factors)-1]),int(i[len(i)-1]))\n",
    "                if int(factors[len(factors)-1]) >= int(i[len(i)-1]):\n",
    "                    count+=1 \n",
    "            ans.append(count)\n",
    "    '''\n",
    "\n",
    "solution([\"java backend junior pizza 150\",\"python frontend senior chicken 210\",\"python frontend senior chicken 150\",\"cpp backend senior pizza 260\",\"java backend junior chicken 80\",\"python backend senior chicken 50\"],\n",
    "        [\"java and backend and junior and pizza 100\",\"python and frontend and senior and chicken 200\",\"cpp and - and senior and pizza 250\",\"- and backend and senior and - 150\",\"- and - and - and chicken 100\",\"- and - and - and - 150\"])"
   ]
  },
  {
   "cell_type": "code",
   "execution_count": 29,
   "metadata": {},
   "outputs": [
    {
     "name": "stdout",
     "output_type": "stream",
     "text": [
      "[1, 2, 10] ['D', 'S#', 'S']\n"
     ]
    },
    {
     "data": {
      "text/plain": [
       "9"
      ]
     },
     "execution_count": 29,
     "metadata": {},
     "output_type": "execute_result"
    }
   ],
   "source": [
    "# 2018 Kakao Blind 다트 게임 level 1\n",
    "\n",
    "def solution(dartResult):\n",
    "    nums = []\n",
    "    ops = []\n",
    "    for q, i in enumerate(dartResult):\n",
    "        if i.isdigit():\n",
    "            if i == '0' and (q != 0 and dartResult[q-1] == '1'):\n",
    "                nums[-1] = 10\n",
    "            else:\n",
    "                nums.append(int(i))\n",
    "        else:\n",
    "            if i == \"#\":\n",
    "                ops[-1] = ops[-1]+\"#\"\n",
    "            elif i == \"*\":\n",
    "                ops[-1] = ops[-1]+\"*\"\n",
    "            else:\n",
    "                ops.append(i)\n",
    "    print(nums, ops)\n",
    "    ans = [0,0,0]\n",
    "    for i, num in enumerate(nums):\n",
    "        if 'S' in ops[i]:\n",
    "            if '*' in ops[i]:\n",
    "                if i != 0:\n",
    "                    ans[i-1] = 2*ans[i-1]\n",
    "                ans[i] += 2*num\n",
    "            elif '#' in ops[i]:\n",
    "                ans[i] -= num\n",
    "            else:\n",
    "                ans[i] += num\n",
    "        elif 'D' in ops[i]:\n",
    "            if '*' in ops[i]:\n",
    "                if i != 0:\n",
    "                    ans[i-1] = 2*ans[i-1]\n",
    "                ans[i] += 2*(num**2)\n",
    "            elif '#' in ops[i]:\n",
    "                ans[i] -= (num**2)\n",
    "            else:\n",
    "                ans[i] += (num**2)\n",
    "        elif 'T' in ops[i]:\n",
    "            if '*' in ops[i]:\n",
    "                if i != 0:\n",
    "                    ans[i-1] = 2*ans[i-1]\n",
    "                ans[i] += 2*(num**3)\n",
    "            elif '#' in ops[i]:\n",
    "                ans[i] -= (num**3)\n",
    "            else:\n",
    "                ans[i] += (num**3)\n",
    "    answer = sum(ans)\n",
    "    return answer\n",
    "\n",
    "'''print(solution(\"1S2D*3T\"))\n",
    "print(solution(\"1D2S#10S\"))\n",
    "print(solution(\"1D2S0T\"))\n",
    "print(solution(\"1S*2T*3S\"))\n",
    "print(solution(\"1D#2S*3S\"))\n",
    "print(solution(\"1T2D3D#\"))\n",
    "solution(\"1D2S3T*\")'''\n",
    "\n",
    "\n",
    "solution(\"1D2S#10S\")"
   ]
  },
  {
   "cell_type": "code",
   "execution_count": 117,
   "metadata": {},
   "outputs": [
    {
     "name": "stdout",
     "output_type": "stream",
     "text": [
      "16 8\n"
     ]
    },
    {
     "data": {
      "text/plain": [
       "[8, 6]"
      ]
     },
     "execution_count": 117,
     "metadata": {},
     "output_type": "execute_result"
    }
   ],
   "source": [
    "# 프로그래머스 카펫 (완전 탐색 문제) level 2\n",
    "\n",
    "def solution(brown, yellow):\n",
    "    ans = []\n",
    "    \n",
    "    area = brown+yellow\n",
    "    opts = []\n",
    "    for i in range(2,int(area/2)+1):\n",
    "        if area%i == 0:\n",
    "            opts.append((i,area//i))\n",
    "            \n",
    "    if len(opts)==1:\n",
    "        return list(opts[0])\n",
    "    \n",
    "    aopts = []\n",
    "    for i in opts:\n",
    "        if i[1] > 2 and i[0] >= i[1]:\n",
    "            aopts.append(i)\n",
    "    if len(aopts)==1:\n",
    "        return list(aopts[0])\n",
    "    \n",
    "    for i in aopts:\n",
    "        print(2*i[0],2*(i[1]-2))\n",
    "        if 2*i[0]+2*(i[1]-2) == brown:\n",
    "            return list(i)\n",
    "    return aopts\n",
    "\n",
    "solution(24,24)"
   ]
  },
  {
   "cell_type": "code",
   "execution_count": null,
   "metadata": {},
   "outputs": [],
   "source": []
  }
 ],
 "metadata": {
  "kernelspec": {
   "display_name": "Python 3",
   "language": "python",
   "name": "python3"
  },
  "language_info": {
   "codemirror_mode": {
    "name": "ipython",
    "version": 3
   },
   "file_extension": ".py",
   "mimetype": "text/x-python",
   "name": "python",
   "nbconvert_exporter": "python",
   "pygments_lexer": "ipython3",
   "version": "3.7.3"
  }
 },
 "nbformat": 4,
 "nbformat_minor": 2
}
